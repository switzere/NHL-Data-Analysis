{
 "cells": [
  {
   "cell_type": "markdown",
   "id": "d87d53c9",
   "metadata": {},
   "source": [
    "# NHL Data Exploration Notebook\n",
    "\n",
    "This notebook provides a simple interface to explore and analyze NHL data stored in your MySQL database. You can modify queries and visualizations to explore different aspects of the data.\n",
    "\n",
    "## Overview\n",
    "- Connect to your MySQL database\n",
    "- Explore database structure\n",
    "- Run custom queries\n",
    "- Visualize data trends\n",
    "- Perform basic statistical analysis"
   ]
  },
  {
   "cell_type": "markdown",
   "id": "9ad3c0fd",
   "metadata": {},
   "source": [
    "## 1. Import Required Libraries\n",
    "\n",
    "Let's start by importing all the libraries we'll need for data exploration and visualization."
   ]
  },
  {
   "cell_type": "code",
   "execution_count": 1,
   "id": "ffecf88e",
   "metadata": {},
   "outputs": [
    {
     "name": "stdout",
     "output_type": "stream",
     "text": [
      "Libraries imported successfully!\n"
     ]
    }
   ],
   "source": [
    "# Import required libraries\n",
    "import mysql.connector\n",
    "import pandas as pd\n",
    "import numpy as np\n",
    "import matplotlib.pyplot as plt\n",
    "import seaborn as sns\n",
    "import plotly.express as px\n",
    "import plotly.graph_objects as go\n",
    "from config import db_config\n",
    "from plotly.subplots import make_subplots\n",
    "import warnings\n",
    "import ipywidgets as widgets\n",
    "from IPython.display import display\n",
    "from dash import Dash, html, dcc, Input, Output\n",
    "import dash_bootstrap_components as dbc\n",
    "\n",
    "\n",
    "# Configure display options\n",
    "pd.set_option('display.max_columns', None)\n",
    "pd.set_option('display.width', None)\n",
    "warnings.filterwarnings('ignore')\n",
    "\n",
    "# Set plotting style (using default instead of seaborn-v0_8 to avoid crash)\n",
    "plt.style.use('default')\n",
    "sns.set_palette(\"husl\")\n",
    "\n",
    "print(\"Libraries imported successfully!\")"
   ]
  },
  {
   "cell_type": "markdown",
   "id": "32440fbe",
   "metadata": {},
   "source": [
    "## 2. Connect to MySQL Database\n",
    "\n",
    "Update the connection parameters below with your database credentials."
   ]
  },
  {
   "cell_type": "code",
   "execution_count": 2,
   "id": "87257ab4",
   "metadata": {},
   "outputs": [],
   "source": [
    "# Establish connection\n",
    "connection = mysql.connector.connect(\n",
    "    host=db_config[\"host\"],\n",
    "    user=db_config[\"user\"],\n",
    "    password=db_config[\"password\"],\n",
    "    database=db_config[\"database\"]\n",
    ")\n",
    "cursor = connection.cursor()"
   ]
  },
  {
   "cell_type": "code",
   "execution_count": 3,
   "id": "bafdf3fa",
   "metadata": {},
   "outputs": [],
   "source": [
    "teams_dict = {\n",
    "    'team_id': [1, 2, 3, 4, 5, 6, 7, 8, 9, 10, 11, 12, 13, 14, 15, 16, 17, 18, 19, 20, 21, 22, 23, 24, 25, 26, 27, 28, 29, 30, 31, 32, 33, 34, 35, 46, 47, 48, 49, 52, 53, 54, 55, 56, 59, 68],\n",
    "    'team_name': ['New Jersey Devils', 'New York Islanders', 'New York Rangers', 'Philadelphia Flyers', 'Pittsburgh Penguins', 'Boston Bruins', 'Buffalo Sabres', 'Montreal Canadiens', 'Ottawa Senators', 'Toronto Maple Leafs', 'Atlanta Thrashers', 'Carolina Hurricanes', 'Florida Panthers', 'Tampa Bay Lightning', 'Washington Capitals', 'Chicago Blackhawks', 'Detroit Red Wings', 'Nashville Predators', 'St Louis Blues', 'Calgary Flames', 'Colorado Avalanche', 'Edmonton Oilers', 'Vancouver Canucks', 'Anaheim Ducks', 'Dallas Stars', 'Los Angeles Kings', 'Pheonix Coyotes', 'San Jose Sharks', 'Columbus Blue Jackets', 'Minnesota Wild', 'Minnesota North Stars', 'Quebec Nordique', 'Winnipeg Jets (1979)', 'Hartford Whalers', 'Colorado Rockies', 'Oakland Seals', 'Atlanta Flames', 'Kansas City Scouts', 'Cleveland Barons', 'Winnipeg Jets', 'Arizona Coyotes', 'Vegas Golden Knights', 'Seattle Kraken', 'California Golden Seals', 'Utah Hockey Club', 'Utah Mammoth'],\n",
    "    'team_abbreviation': ['NJD', 'NYI', 'NYR', 'PHI', 'PIT', 'BOS', 'BUF', 'MTL', 'OTT', 'TOR', 'ATL', 'CAR', 'FLA', 'TBL', 'WSH', 'CHI', 'DET', 'NSH', 'STL', 'CGY', 'COL', 'EDM', 'VAN', 'ANA', 'DAL', 'LAK', 'PHX', 'SJS', 'CBJ', 'MIN', 'MNS', 'QUE', 'WIN', 'HFD', 'CLR', 'OAK', 'AFM', 'KCS', 'CLE', 'WPG', 'ARI', 'VGK', 'SEA', 'CGS', 'UTA', 'UTA']\n",
    "}"
   ]
  },
  {
   "cell_type": "markdown",
   "id": "7a8ecc7d",
   "metadata": {},
   "source": [
    "## 3. Explore Database Structure\n",
    "\n",
    "Let's see what tables and data we have available in the database."
   ]
  },
  {
   "cell_type": "code",
   "execution_count": 7,
   "id": "09e478c9",
   "metadata": {},
   "outputs": [
    {
     "name": "stdout",
     "output_type": "stream",
     "text": [
      "Available tables:\n",
      "- events\n",
      "- games\n",
      "- players\n",
      "- players_season\n",
      "- roster_players\n",
      "- seasons\n",
      "- seasons_end_standings\n",
      "- teams\n",
      "\n",
      "Total tables: 8\n"
     ]
    }
   ],
   "source": [
    "# Show all tables in the database\n",
    "cursor.execute(\"SHOW TABLES\")\n",
    "tables = cursor.fetchall()\n",
    "\n",
    "print(\"Available tables:\")\n",
    "table_names = []\n",
    "for table in tables:\n",
    "    table_name = table[0]\n",
    "    table_names.append(table_name)\n",
    "    print(f\"- {table_name}\")\n",
    "\n",
    "print(f\"\\nTotal tables: {len(table_names)}\")\n",
    "\n",
    "# Function to easily query database and return DataFrame\n",
    "def query_to_df(query, params=None):\n",
    "    \"\"\"Execute query and return results as pandas DataFrame\"\"\"\n",
    "    try:\n",
    "        if params:\n",
    "            cursor.execute(query, params)\n",
    "        else:\n",
    "            cursor.execute(query)\n",
    "        \n",
    "        # Get column names\n",
    "        columns = [desc[0] for desc in cursor.description]\n",
    "        \n",
    "        # Fetch data and create DataFrame\n",
    "        data = cursor.fetchall()\n",
    "        df = pd.DataFrame(data, columns=columns)\n",
    "        return df\n",
    "    except Exception as e:\n",
    "        print(f\"Query error: {e}\")\n",
    "        return pd.DataFrame()"
   ]
  },
  {
   "cell_type": "code",
   "execution_count": 8,
   "id": "b652dfe6",
   "metadata": {},
   "outputs": [
    {
     "name": "stdout",
     "output_type": "stream",
     "text": [
      "\n",
      "=== Table: events ===\n",
      "Columns:\n",
      "  event_id (int) - NO - PRI\n",
      "  game_id (bigint) - NO - PRI\n",
      "  period_number (int) - YES - \n",
      "  period_type (varchar(10)) - YES - \n",
      "  time_in_period (varchar(10)) - YES - \n",
      "  time_remaining (varchar(10)) - YES - \n",
      "  situation_code (varchar(10)) - YES - \n",
      "  home_team_defending_side (varchar(10)) - YES - \n",
      "  type_code (int) - YES - \n",
      "  type_desc_key (varchar(50)) - YES - \n",
      "  sort_order (int) - YES - \n",
      "  x_coord (int) - YES - \n",
      "  y_coord (int) - YES - \n",
      "  zone_code (varchar(5)) - YES - \n",
      "  shot_type (varchar(20)) - YES - \n",
      "  blocking_Player_id (int) - YES - \n",
      "  shooting_player_id (int) - YES - \n",
      "  goalie_in_net_id (int) - YES - \n",
      "  player_id (int) - YES - \n",
      "  event_owner_team_id (int) - YES - \n",
      "  away_sog (int) - YES - \n",
      "  home_sog (int) - YES - \n",
      "  hitting_player_id (int) - YES - \n",
      "  hittee_player_id (int) - YES - \n",
      "  reason (varchar(255)) - YES - \n",
      "  secondary_reason (varchar(255)) - YES - \n",
      "  losing_player_id (int) - YES - \n",
      "  winning_player_id (int) - YES - \n",
      "\n",
      "Total rows: 8,424,272\n",
      "\n",
      "Sample data:\n"
     ]
    },
    {
     "data": {
      "application/vnd.microsoft.datawrangler.viewer.v0+json": {
       "columns": [
        {
         "name": "index",
         "rawType": "int64",
         "type": "integer"
        },
        {
         "name": "event_id",
         "rawType": "int64",
         "type": "integer"
        },
        {
         "name": "game_id",
         "rawType": "int64",
         "type": "integer"
        },
        {
         "name": "period_number",
         "rawType": "int64",
         "type": "integer"
        },
        {
         "name": "period_type",
         "rawType": "object",
         "type": "string"
        },
        {
         "name": "time_in_period",
         "rawType": "object",
         "type": "string"
        },
        {
         "name": "time_remaining",
         "rawType": "object",
         "type": "string"
        },
        {
         "name": "situation_code",
         "rawType": "object",
         "type": "string"
        },
        {
         "name": "home_team_defending_side",
         "rawType": "object",
         "type": "string"
        },
        {
         "name": "type_code",
         "rawType": "int64",
         "type": "integer"
        },
        {
         "name": "type_desc_key",
         "rawType": "object",
         "type": "string"
        },
        {
         "name": "sort_order",
         "rawType": "int64",
         "type": "integer"
        },
        {
         "name": "x_coord",
         "rawType": "int64",
         "type": "integer"
        },
        {
         "name": "y_coord",
         "rawType": "int64",
         "type": "integer"
        },
        {
         "name": "zone_code",
         "rawType": "object",
         "type": "string"
        },
        {
         "name": "shot_type",
         "rawType": "object",
         "type": "string"
        },
        {
         "name": "blocking_Player_id",
         "rawType": "int64",
         "type": "integer"
        },
        {
         "name": "shooting_player_id",
         "rawType": "int64",
         "type": "integer"
        },
        {
         "name": "goalie_in_net_id",
         "rawType": "int64",
         "type": "integer"
        },
        {
         "name": "player_id",
         "rawType": "int64",
         "type": "integer"
        },
        {
         "name": "event_owner_team_id",
         "rawType": "int64",
         "type": "integer"
        },
        {
         "name": "away_sog",
         "rawType": "int64",
         "type": "integer"
        },
        {
         "name": "home_sog",
         "rawType": "int64",
         "type": "integer"
        },
        {
         "name": "hitting_player_id",
         "rawType": "int64",
         "type": "integer"
        },
        {
         "name": "hittee_player_id",
         "rawType": "int64",
         "type": "integer"
        },
        {
         "name": "reason",
         "rawType": "object",
         "type": "string"
        },
        {
         "name": "secondary_reason",
         "rawType": "object",
         "type": "string"
        },
        {
         "name": "losing_player_id",
         "rawType": "int64",
         "type": "integer"
        },
        {
         "name": "winning_player_id",
         "rawType": "int64",
         "type": "integer"
        }
       ],
       "ref": "1c399ef4-7cb4-409e-92c4-ceaa60ade78e",
       "rows": [
        [
         "0",
         "2",
         "2009020257",
         "1",
         "REG",
         "00:16",
         "19:44",
         "1551",
         "",
         "504",
         "giveaway",
         "8",
         "89",
         "-32",
         "D",
         "",
         "-1",
         "-1",
         "-1",
         "8469623",
         "30",
         "-1",
         "-1",
         "-1",
         "-1",
         "",
         "",
         "-1",
         "-1"
        ],
        [
         "1",
         "2",
         "2009020457",
         "1",
         "REG",
         "00:00",
         "20:00",
         "-1",
         "",
         "520",
         "period-start",
         "5",
         "-1",
         "-1",
         "",
         "",
         "-1",
         "-1",
         "-1",
         "-1",
         "-1",
         "-1",
         "-1",
         "-1",
         "-1",
         "",
         "",
         "-1",
         "-1"
        ],
        [
         "2",
         "2",
         "2009020482",
         "1",
         "REG",
         "00:22",
         "19:38",
         "1551",
         "",
         "503",
         "hit",
         "9",
         "92",
         "27",
         "D",
         "",
         "-1",
         "-1",
         "-1",
         "-1",
         "2",
         "-1",
         "-1",
         "8468309",
         "8462041",
         "",
         "",
         "-1",
         "-1"
        ],
        [
         "3",
         "2",
         "2009020709",
         "1",
         "REG",
         "01:56",
         "18:04",
         "1551",
         "",
         "507",
         "missed-shot",
         "20",
         "-51",
         "-25",
         "O",
         "wrist",
         "-1",
         "8471657",
         "8455710",
         "-1",
         "21",
         "-1",
         "-1",
         "-1",
         "-1",
         "wide-of-net",
         "",
         "-1",
         "-1"
        ],
        [
         "4",
         "2",
         "2010020090",
         "1",
         "REG",
         "00:00",
         "20:00",
         "-1",
         "",
         "520",
         "period-start",
         "5",
         "-1",
         "-1",
         "",
         "",
         "-1",
         "-1",
         "-1",
         "-1",
         "-1",
         "-1",
         "-1",
         "-1",
         "-1",
         "",
         "",
         "-1",
         "-1"
        ]
       ],
       "shape": {
        "columns": 28,
        "rows": 5
       }
      },
      "text/html": [
       "<div>\n",
       "<style scoped>\n",
       "    .dataframe tbody tr th:only-of-type {\n",
       "        vertical-align: middle;\n",
       "    }\n",
       "\n",
       "    .dataframe tbody tr th {\n",
       "        vertical-align: top;\n",
       "    }\n",
       "\n",
       "    .dataframe thead th {\n",
       "        text-align: right;\n",
       "    }\n",
       "</style>\n",
       "<table border=\"1\" class=\"dataframe\">\n",
       "  <thead>\n",
       "    <tr style=\"text-align: right;\">\n",
       "      <th></th>\n",
       "      <th>event_id</th>\n",
       "      <th>game_id</th>\n",
       "      <th>period_number</th>\n",
       "      <th>period_type</th>\n",
       "      <th>time_in_period</th>\n",
       "      <th>time_remaining</th>\n",
       "      <th>situation_code</th>\n",
       "      <th>home_team_defending_side</th>\n",
       "      <th>type_code</th>\n",
       "      <th>type_desc_key</th>\n",
       "      <th>sort_order</th>\n",
       "      <th>x_coord</th>\n",
       "      <th>y_coord</th>\n",
       "      <th>zone_code</th>\n",
       "      <th>shot_type</th>\n",
       "      <th>blocking_Player_id</th>\n",
       "      <th>shooting_player_id</th>\n",
       "      <th>goalie_in_net_id</th>\n",
       "      <th>player_id</th>\n",
       "      <th>event_owner_team_id</th>\n",
       "      <th>away_sog</th>\n",
       "      <th>home_sog</th>\n",
       "      <th>hitting_player_id</th>\n",
       "      <th>hittee_player_id</th>\n",
       "      <th>reason</th>\n",
       "      <th>secondary_reason</th>\n",
       "      <th>losing_player_id</th>\n",
       "      <th>winning_player_id</th>\n",
       "    </tr>\n",
       "  </thead>\n",
       "  <tbody>\n",
       "    <tr>\n",
       "      <th>0</th>\n",
       "      <td>2</td>\n",
       "      <td>2009020257</td>\n",
       "      <td>1</td>\n",
       "      <td>REG</td>\n",
       "      <td>00:16</td>\n",
       "      <td>19:44</td>\n",
       "      <td>1551</td>\n",
       "      <td></td>\n",
       "      <td>504</td>\n",
       "      <td>giveaway</td>\n",
       "      <td>8</td>\n",
       "      <td>89</td>\n",
       "      <td>-32</td>\n",
       "      <td>D</td>\n",
       "      <td></td>\n",
       "      <td>-1</td>\n",
       "      <td>-1</td>\n",
       "      <td>-1</td>\n",
       "      <td>8469623</td>\n",
       "      <td>30</td>\n",
       "      <td>-1</td>\n",
       "      <td>-1</td>\n",
       "      <td>-1</td>\n",
       "      <td>-1</td>\n",
       "      <td></td>\n",
       "      <td></td>\n",
       "      <td>-1</td>\n",
       "      <td>-1</td>\n",
       "    </tr>\n",
       "    <tr>\n",
       "      <th>1</th>\n",
       "      <td>2</td>\n",
       "      <td>2009020457</td>\n",
       "      <td>1</td>\n",
       "      <td>REG</td>\n",
       "      <td>00:00</td>\n",
       "      <td>20:00</td>\n",
       "      <td>-1</td>\n",
       "      <td></td>\n",
       "      <td>520</td>\n",
       "      <td>period-start</td>\n",
       "      <td>5</td>\n",
       "      <td>-1</td>\n",
       "      <td>-1</td>\n",
       "      <td></td>\n",
       "      <td></td>\n",
       "      <td>-1</td>\n",
       "      <td>-1</td>\n",
       "      <td>-1</td>\n",
       "      <td>-1</td>\n",
       "      <td>-1</td>\n",
       "      <td>-1</td>\n",
       "      <td>-1</td>\n",
       "      <td>-1</td>\n",
       "      <td>-1</td>\n",
       "      <td></td>\n",
       "      <td></td>\n",
       "      <td>-1</td>\n",
       "      <td>-1</td>\n",
       "    </tr>\n",
       "    <tr>\n",
       "      <th>2</th>\n",
       "      <td>2</td>\n",
       "      <td>2009020482</td>\n",
       "      <td>1</td>\n",
       "      <td>REG</td>\n",
       "      <td>00:22</td>\n",
       "      <td>19:38</td>\n",
       "      <td>1551</td>\n",
       "      <td></td>\n",
       "      <td>503</td>\n",
       "      <td>hit</td>\n",
       "      <td>9</td>\n",
       "      <td>92</td>\n",
       "      <td>27</td>\n",
       "      <td>D</td>\n",
       "      <td></td>\n",
       "      <td>-1</td>\n",
       "      <td>-1</td>\n",
       "      <td>-1</td>\n",
       "      <td>-1</td>\n",
       "      <td>2</td>\n",
       "      <td>-1</td>\n",
       "      <td>-1</td>\n",
       "      <td>8468309</td>\n",
       "      <td>8462041</td>\n",
       "      <td></td>\n",
       "      <td></td>\n",
       "      <td>-1</td>\n",
       "      <td>-1</td>\n",
       "    </tr>\n",
       "    <tr>\n",
       "      <th>3</th>\n",
       "      <td>2</td>\n",
       "      <td>2009020709</td>\n",
       "      <td>1</td>\n",
       "      <td>REG</td>\n",
       "      <td>01:56</td>\n",
       "      <td>18:04</td>\n",
       "      <td>1551</td>\n",
       "      <td></td>\n",
       "      <td>507</td>\n",
       "      <td>missed-shot</td>\n",
       "      <td>20</td>\n",
       "      <td>-51</td>\n",
       "      <td>-25</td>\n",
       "      <td>O</td>\n",
       "      <td>wrist</td>\n",
       "      <td>-1</td>\n",
       "      <td>8471657</td>\n",
       "      <td>8455710</td>\n",
       "      <td>-1</td>\n",
       "      <td>21</td>\n",
       "      <td>-1</td>\n",
       "      <td>-1</td>\n",
       "      <td>-1</td>\n",
       "      <td>-1</td>\n",
       "      <td>wide-of-net</td>\n",
       "      <td></td>\n",
       "      <td>-1</td>\n",
       "      <td>-1</td>\n",
       "    </tr>\n",
       "    <tr>\n",
       "      <th>4</th>\n",
       "      <td>2</td>\n",
       "      <td>2010020090</td>\n",
       "      <td>1</td>\n",
       "      <td>REG</td>\n",
       "      <td>00:00</td>\n",
       "      <td>20:00</td>\n",
       "      <td>-1</td>\n",
       "      <td></td>\n",
       "      <td>520</td>\n",
       "      <td>period-start</td>\n",
       "      <td>5</td>\n",
       "      <td>-1</td>\n",
       "      <td>-1</td>\n",
       "      <td></td>\n",
       "      <td></td>\n",
       "      <td>-1</td>\n",
       "      <td>-1</td>\n",
       "      <td>-1</td>\n",
       "      <td>-1</td>\n",
       "      <td>-1</td>\n",
       "      <td>-1</td>\n",
       "      <td>-1</td>\n",
       "      <td>-1</td>\n",
       "      <td>-1</td>\n",
       "      <td></td>\n",
       "      <td></td>\n",
       "      <td>-1</td>\n",
       "      <td>-1</td>\n",
       "    </tr>\n",
       "  </tbody>\n",
       "</table>\n",
       "</div>"
      ],
      "text/plain": [
       "   event_id     game_id  period_number period_type time_in_period  \\\n",
       "0         2  2009020257              1         REG          00:16   \n",
       "1         2  2009020457              1         REG          00:00   \n",
       "2         2  2009020482              1         REG          00:22   \n",
       "3         2  2009020709              1         REG          01:56   \n",
       "4         2  2010020090              1         REG          00:00   \n",
       "\n",
       "  time_remaining situation_code home_team_defending_side  type_code  \\\n",
       "0          19:44           1551                                 504   \n",
       "1          20:00             -1                                 520   \n",
       "2          19:38           1551                                 503   \n",
       "3          18:04           1551                                 507   \n",
       "4          20:00             -1                                 520   \n",
       "\n",
       "  type_desc_key  sort_order  x_coord  y_coord zone_code shot_type  \\\n",
       "0      giveaway           8       89      -32         D             \n",
       "1  period-start           5       -1       -1                       \n",
       "2           hit           9       92       27         D             \n",
       "3   missed-shot          20      -51      -25         O     wrist   \n",
       "4  period-start           5       -1       -1                       \n",
       "\n",
       "   blocking_Player_id  shooting_player_id  goalie_in_net_id  player_id  \\\n",
       "0                  -1                  -1                -1    8469623   \n",
       "1                  -1                  -1                -1         -1   \n",
       "2                  -1                  -1                -1         -1   \n",
       "3                  -1             8471657           8455710         -1   \n",
       "4                  -1                  -1                -1         -1   \n",
       "\n",
       "   event_owner_team_id  away_sog  home_sog  hitting_player_id  \\\n",
       "0                   30        -1        -1                 -1   \n",
       "1                   -1        -1        -1                 -1   \n",
       "2                    2        -1        -1            8468309   \n",
       "3                   21        -1        -1                 -1   \n",
       "4                   -1        -1        -1                 -1   \n",
       "\n",
       "   hittee_player_id       reason secondary_reason  losing_player_id  \\\n",
       "0                -1                                              -1   \n",
       "1                -1                                              -1   \n",
       "2           8462041                                              -1   \n",
       "3                -1  wide-of-net                                 -1   \n",
       "4                -1                                              -1   \n",
       "\n",
       "   winning_player_id  \n",
       "0                 -1  \n",
       "1                 -1  \n",
       "2                 -1  \n",
       "3                 -1  \n",
       "4                 -1  "
      ]
     },
     "metadata": {},
     "output_type": "display_data"
    }
   ],
   "source": [
    "# Explore table structures (modify table name as needed)\n",
    "def explore_table_structure(table_name):\n",
    "    \"\"\"Show structure and sample data for a table\"\"\"\n",
    "    print(f\"\\n=== Table: {table_name} ===\")\n",
    "    \n",
    "    # Show table structure\n",
    "    cursor.execute(f\"DESCRIBE {table_name}\")\n",
    "    structure = cursor.fetchall()\n",
    "    \n",
    "    print(\"Columns:\")\n",
    "    for col in structure:\n",
    "        print(f\"  {col[0]} ({col[1]}) - {col[2]} - {col[3]}\")\n",
    "    \n",
    "    # Show row count\n",
    "    cursor.execute(f\"SELECT COUNT(*) FROM {table_name}\")\n",
    "    row_count = cursor.fetchone()[0]\n",
    "    print(f\"\\nTotal rows: {row_count:,}\")\n",
    "    \n",
    "    # Show sample data\n",
    "    sample_df = query_to_df(f\"SELECT * FROM {table_name} LIMIT 5\")\n",
    "    print(f\"\\nSample data:\")\n",
    "    return sample_df\n",
    "\n",
    "# Explore the first table (modify index or table name as needed)\n",
    "if table_names:\n",
    "    first_table = table_names[0]  # Change index to explore different tables\n",
    "    sample_data = explore_table_structure(first_table)\n",
    "    display(sample_data)"
   ]
  },
  {
   "cell_type": "markdown",
   "id": "4e90b903",
   "metadata": {},
   "source": [
    "## 4. Data Visualization\n",
    "\n",
    "Create some quick visualizations to explore patterns in your data."
   ]
  },
  {
   "cell_type": "code",
   "execution_count": null,
   "id": "f8dbce57",
   "metadata": {},
   "outputs": [
    {
     "data": {
      "application/vnd.jupyter.widget-view+json": {
       "model_id": "807cdd37f70646f2a0d857ab9b624eac",
       "version_major": 2,
       "version_minor": 0
      },
      "text/plain": [
       "interactive(children=(Dropdown(description='Season:', options=('1942', '1943', '1944', '1945', '1946', '1947',…"
      ]
     },
     "metadata": {},
     "output_type": "display_data"
    },
    {
     "data": {
      "text/plain": [
       "<function __main__.update_table(selected_season)>"
      ]
     },
     "execution_count": 23,
     "metadata": {},
     "output_type": "execute_result"
    }
   ],
   "source": [
    "cursor.execute(\"\"\"\n",
    "    SELECT *\n",
    "    FROM seasons_end_standings\n",
    "\"\"\")\n",
    "\n",
    "seasons_end_standings_df = pd.DataFrame(cursor.fetchall(), columns=[i[0] for i in cursor.description])\n",
    "\n",
    "cursor.execute(\"\"\"\n",
    "    SELECT *\n",
    "    FROM teams\n",
    "\"\"\")\n",
    "\n",
    "teams = pd.DataFrame(cursor.fetchall(), columns=[i[0] for i in cursor.description])\n",
    "\n",
    "#Create an interactable table giving a season overview for the league with an option to choose which season\n",
    "\n",
    "#adjust dataframe\n",
    "\n",
    "# Rename columns to more user-friendly names\n",
    "seasons_end_standings_df.rename(columns={\n",
    "    'season_id': 'Season',\n",
    "    'ot_losses': 'Overtime Losses',\n",
    "    'games_played': 'Games Played',\n",
    "    'points': 'Points',\n",
    "    'wins': 'Wins',\n",
    "    'losses': 'Losses'\n",
    "}, inplace=True)\n",
    "\n",
    "#Season values 12345678 -> 1234\n",
    "seasons_end_standings_df['Season'] = seasons_end_standings_df['Season'].astype(str).str[:4]\n",
    "\n",
    "available_seasons = seasons_end_standings_df['Season'].unique()\n",
    "\n",
    "#Team -> get team_name from the teams df for each Team(formerly team_id)\n",
    "# Merge the seasons_end_standings_df with the teams DataFrame to get team_name\n",
    "seasons_end_standings_df = seasons_end_standings_df.merge(\n",
    "    teams[['team_id', 'team_name']],  # Select only the relevant columns from teams\n",
    "    left_on='team_id',                  # Match on the Team column in seasons_end_standings_df\n",
    "    right_on='team_id',              # Match on the team_id column in teams\n",
    "    how='left'                       # Use a left join to keep all rows from seasons_end_standings_df\n",
    ")\n",
    "\n",
    "# Drop the now redundant 'team_id' column\n",
    "seasons_end_standings_df.drop(columns=['team_id'], inplace=True)\n",
    "\n",
    "# Rename 'team_name' to 'Team' for clarity\n",
    "seasons_end_standings_df.rename(columns={'team_name': 'Team'}, inplace=True)\n",
    "\n",
    "columns = ['Team'] + [col for col in seasons_end_standings_df.columns if col != 'Team']\n",
    "seasons_end_standings_df = seasons_end_standings_df[columns]\n",
    "\n",
    "# Sort the DataFrame by the 'points' column in descending order\n",
    "seasons_end_standings_df = seasons_end_standings_df.sort_values(by='Points', ascending=False)\n",
    "\n",
    "# Select and reorder specific fields\n",
    "selected_columns = ['Team', 'Season', 'Wins', 'Losses', 'Overtime Losses', 'Points', 'Games Played']\n",
    "seasons_end_standings_df = seasons_end_standings_df[selected_columns]\n",
    "\n",
    "# Create a dropdown widget for selecting a season\n",
    "season_selector = widgets.Dropdown(\n",
    "    options=available_seasons,\n",
    "    description='Season:',\n",
    "    value=available_seasons[0],\n",
    "    style={'description_width': 'initial'}\n",
    ")\n",
    "\n",
    "# Function to update and display the table based on the selected season\n",
    "def update_table(selected_season):\n",
    "    filtered_df = seasons_end_standings_df[\n",
    "        (seasons_end_standings_df['Season'] == selected_season) &\n",
    "        (seasons_end_standings_df['Games Played'] > 0)\n",
    "    ]\n",
    "    display(filtered_df)  # Display the filtered DataFrame as a table\n",
    "\n",
    "# Use the interact function to link the dropdown to the update_table function\n",
    "widgets.interact(update_table, selected_season=season_selector)"
   ]
  },
  {
   "cell_type": "code",
   "execution_count": null,
   "id": "63927f88",
   "metadata": {},
   "outputs": [],
   "source": [
    "cursor.execute('''\n",
    "    SELECT * FROM games\n",
    "    WHERE game_id = 2024010008\n",
    "''')\n",
    "\n",
    "cursor.fetchall()\n",
    "\n",
    "cursor.execute('''\n",
    "    SELECT * FROM events\n",
    "    WHERE game_id = 2024010008\n",
    "''')\n",
    "\n",
    "events_headers = [desc[0] for desc in cursor.description]  # This gives you the column names\n",
    "events = cursor.fetchall()"
   ]
  },
  {
   "cell_type": "code",
   "execution_count": null,
   "id": "abbcd7e7",
   "metadata": {},
   "outputs": [
    {
     "data": {
      "application/vnd.microsoft.datawrangler.viewer.v0+json": {
       "columns": [
        {
         "name": "index",
         "rawType": "int64",
         "type": "integer"
        },
        {
         "name": "event_id",
         "rawType": "int64",
         "type": "integer"
        },
        {
         "name": "game_id",
         "rawType": "int64",
         "type": "integer"
        },
        {
         "name": "period_number",
         "rawType": "int64",
         "type": "integer"
        },
        {
         "name": "period_type",
         "rawType": "object",
         "type": "string"
        },
        {
         "name": "time_in_period",
         "rawType": "object",
         "type": "string"
        },
        {
         "name": "time_remaining",
         "rawType": "object",
         "type": "string"
        },
        {
         "name": "situation_code",
         "rawType": "object",
         "type": "string"
        },
        {
         "name": "home_team_defending_side",
         "rawType": "object",
         "type": "string"
        },
        {
         "name": "type_code",
         "rawType": "int64",
         "type": "integer"
        },
        {
         "name": "type_desc_key",
         "rawType": "object",
         "type": "string"
        },
        {
         "name": "sort_order",
         "rawType": "int64",
         "type": "integer"
        },
        {
         "name": "x_coord",
         "rawType": "int64",
         "type": "integer"
        },
        {
         "name": "y_coord",
         "rawType": "int64",
         "type": "integer"
        },
        {
         "name": "zone_code",
         "rawType": "object",
         "type": "string"
        },
        {
         "name": "shot_type",
         "rawType": "object",
         "type": "string"
        },
        {
         "name": "blocking_Player_id",
         "rawType": "int64",
         "type": "integer"
        },
        {
         "name": "shooting_player_id",
         "rawType": "int64",
         "type": "integer"
        },
        {
         "name": "goalie_in_net_id",
         "rawType": "int64",
         "type": "integer"
        },
        {
         "name": "player_id",
         "rawType": "int64",
         "type": "integer"
        },
        {
         "name": "event_owner_team_id",
         "rawType": "int64",
         "type": "integer"
        },
        {
         "name": "away_sog",
         "rawType": "int64",
         "type": "integer"
        },
        {
         "name": "home_sog",
         "rawType": "int64",
         "type": "integer"
        },
        {
         "name": "hitting_player_id",
         "rawType": "int64",
         "type": "integer"
        },
        {
         "name": "hittee_player_id",
         "rawType": "int64",
         "type": "integer"
        },
        {
         "name": "reason",
         "rawType": "object",
         "type": "string"
        },
        {
         "name": "secondary_reason",
         "rawType": "object",
         "type": "string"
        },
        {
         "name": "losing_player_id",
         "rawType": "int64",
         "type": "integer"
        },
        {
         "name": "winning_player_id",
         "rawType": "int64",
         "type": "integer"
        }
       ],
       "ref": "76d6fca8-48b0-49d7-842a-50e8c77bbd0d",
       "rows": [
        [
         "0",
         "8",
         "2024010008",
         "1",
         "REG",
         "01:12",
         "18:48",
         "1551",
         "left",
         "516",
         "stoppage",
         "27",
         "-1",
         "-1",
         "",
         "",
         "-1",
         "-1",
         "-1",
         "-1",
         "-1",
         "-1",
         "-1",
         "-1",
         "-1",
         "offside",
         "",
         "-1",
         "-1"
        ],
        [
         "1",
         "9",
         "2024010008",
         "1",
         "REG",
         "02:59",
         "17:01",
         "1551",
         "left",
         "516",
         "stoppage",
         "45",
         "-1",
         "-1",
         "",
         "",
         "-1",
         "-1",
         "-1",
         "-1",
         "-1",
         "-1",
         "-1",
         "-1",
         "-1",
         "puck-in-netting",
         "",
         "-1",
         "-1"
        ],
        [
         "2",
         "10",
         "2024010008",
         "1",
         "REG",
         "05:27",
         "14:33",
         "1551",
         "left",
         "516",
         "stoppage",
         "73",
         "-1",
         "-1",
         "",
         "",
         "-1",
         "-1",
         "-1",
         "-1",
         "-1",
         "-1",
         "-1",
         "-1",
         "-1",
         "goalie-stopped-after",
         "",
         "-1",
         "-1"
        ],
        [
         "3",
         "11",
         "2024010008",
         "1",
         "REG",
         "06:19",
         "13:41",
         "1551",
         "left",
         "516",
         "stoppage",
         "82",
         "-1",
         "-1",
         "",
         "",
         "-1",
         "-1",
         "-1",
         "-1",
         "-1",
         "-1",
         "-1",
         "-1",
         "-1",
         "skater-puck-frozen",
         "tv-timeout",
         "-1",
         "-1"
        ],
        [
         "4",
         "12",
         "2024010008",
         "1",
         "REG",
         "06:36",
         "13:24",
         "1551",
         "left",
         "516",
         "stoppage",
         "88",
         "-1",
         "-1",
         "",
         "",
         "-1",
         "-1",
         "-1",
         "-1",
         "-1",
         "-1",
         "-1",
         "-1",
         "-1",
         "goalie-stopped-after",
         "",
         "-1",
         "-1"
        ]
       ],
       "shape": {
        "columns": 28,
        "rows": 5
       }
      },
      "text/html": [
       "<div>\n",
       "<style scoped>\n",
       "    .dataframe tbody tr th:only-of-type {\n",
       "        vertical-align: middle;\n",
       "    }\n",
       "\n",
       "    .dataframe tbody tr th {\n",
       "        vertical-align: top;\n",
       "    }\n",
       "\n",
       "    .dataframe thead th {\n",
       "        text-align: right;\n",
       "    }\n",
       "</style>\n",
       "<table border=\"1\" class=\"dataframe\">\n",
       "  <thead>\n",
       "    <tr style=\"text-align: right;\">\n",
       "      <th></th>\n",
       "      <th>event_id</th>\n",
       "      <th>game_id</th>\n",
       "      <th>period_number</th>\n",
       "      <th>period_type</th>\n",
       "      <th>time_in_period</th>\n",
       "      <th>time_remaining</th>\n",
       "      <th>situation_code</th>\n",
       "      <th>home_team_defending_side</th>\n",
       "      <th>type_code</th>\n",
       "      <th>type_desc_key</th>\n",
       "      <th>sort_order</th>\n",
       "      <th>x_coord</th>\n",
       "      <th>y_coord</th>\n",
       "      <th>zone_code</th>\n",
       "      <th>shot_type</th>\n",
       "      <th>blocking_Player_id</th>\n",
       "      <th>shooting_player_id</th>\n",
       "      <th>goalie_in_net_id</th>\n",
       "      <th>player_id</th>\n",
       "      <th>event_owner_team_id</th>\n",
       "      <th>away_sog</th>\n",
       "      <th>home_sog</th>\n",
       "      <th>hitting_player_id</th>\n",
       "      <th>hittee_player_id</th>\n",
       "      <th>reason</th>\n",
       "      <th>secondary_reason</th>\n",
       "      <th>losing_player_id</th>\n",
       "      <th>winning_player_id</th>\n",
       "    </tr>\n",
       "  </thead>\n",
       "  <tbody>\n",
       "    <tr>\n",
       "      <th>0</th>\n",
       "      <td>8</td>\n",
       "      <td>2024010008</td>\n",
       "      <td>1</td>\n",
       "      <td>REG</td>\n",
       "      <td>01:12</td>\n",
       "      <td>18:48</td>\n",
       "      <td>1551</td>\n",
       "      <td>left</td>\n",
       "      <td>516</td>\n",
       "      <td>stoppage</td>\n",
       "      <td>27</td>\n",
       "      <td>-1</td>\n",
       "      <td>-1</td>\n",
       "      <td></td>\n",
       "      <td></td>\n",
       "      <td>-1</td>\n",
       "      <td>-1</td>\n",
       "      <td>-1</td>\n",
       "      <td>-1</td>\n",
       "      <td>-1</td>\n",
       "      <td>-1</td>\n",
       "      <td>-1</td>\n",
       "      <td>-1</td>\n",
       "      <td>-1</td>\n",
       "      <td>offside</td>\n",
       "      <td></td>\n",
       "      <td>-1</td>\n",
       "      <td>-1</td>\n",
       "    </tr>\n",
       "    <tr>\n",
       "      <th>1</th>\n",
       "      <td>9</td>\n",
       "      <td>2024010008</td>\n",
       "      <td>1</td>\n",
       "      <td>REG</td>\n",
       "      <td>02:59</td>\n",
       "      <td>17:01</td>\n",
       "      <td>1551</td>\n",
       "      <td>left</td>\n",
       "      <td>516</td>\n",
       "      <td>stoppage</td>\n",
       "      <td>45</td>\n",
       "      <td>-1</td>\n",
       "      <td>-1</td>\n",
       "      <td></td>\n",
       "      <td></td>\n",
       "      <td>-1</td>\n",
       "      <td>-1</td>\n",
       "      <td>-1</td>\n",
       "      <td>-1</td>\n",
       "      <td>-1</td>\n",
       "      <td>-1</td>\n",
       "      <td>-1</td>\n",
       "      <td>-1</td>\n",
       "      <td>-1</td>\n",
       "      <td>puck-in-netting</td>\n",
       "      <td></td>\n",
       "      <td>-1</td>\n",
       "      <td>-1</td>\n",
       "    </tr>\n",
       "    <tr>\n",
       "      <th>2</th>\n",
       "      <td>10</td>\n",
       "      <td>2024010008</td>\n",
       "      <td>1</td>\n",
       "      <td>REG</td>\n",
       "      <td>05:27</td>\n",
       "      <td>14:33</td>\n",
       "      <td>1551</td>\n",
       "      <td>left</td>\n",
       "      <td>516</td>\n",
       "      <td>stoppage</td>\n",
       "      <td>73</td>\n",
       "      <td>-1</td>\n",
       "      <td>-1</td>\n",
       "      <td></td>\n",
       "      <td></td>\n",
       "      <td>-1</td>\n",
       "      <td>-1</td>\n",
       "      <td>-1</td>\n",
       "      <td>-1</td>\n",
       "      <td>-1</td>\n",
       "      <td>-1</td>\n",
       "      <td>-1</td>\n",
       "      <td>-1</td>\n",
       "      <td>-1</td>\n",
       "      <td>goalie-stopped-after</td>\n",
       "      <td></td>\n",
       "      <td>-1</td>\n",
       "      <td>-1</td>\n",
       "    </tr>\n",
       "    <tr>\n",
       "      <th>3</th>\n",
       "      <td>11</td>\n",
       "      <td>2024010008</td>\n",
       "      <td>1</td>\n",
       "      <td>REG</td>\n",
       "      <td>06:19</td>\n",
       "      <td>13:41</td>\n",
       "      <td>1551</td>\n",
       "      <td>left</td>\n",
       "      <td>516</td>\n",
       "      <td>stoppage</td>\n",
       "      <td>82</td>\n",
       "      <td>-1</td>\n",
       "      <td>-1</td>\n",
       "      <td></td>\n",
       "      <td></td>\n",
       "      <td>-1</td>\n",
       "      <td>-1</td>\n",
       "      <td>-1</td>\n",
       "      <td>-1</td>\n",
       "      <td>-1</td>\n",
       "      <td>-1</td>\n",
       "      <td>-1</td>\n",
       "      <td>-1</td>\n",
       "      <td>-1</td>\n",
       "      <td>skater-puck-frozen</td>\n",
       "      <td>tv-timeout</td>\n",
       "      <td>-1</td>\n",
       "      <td>-1</td>\n",
       "    </tr>\n",
       "    <tr>\n",
       "      <th>4</th>\n",
       "      <td>12</td>\n",
       "      <td>2024010008</td>\n",
       "      <td>1</td>\n",
       "      <td>REG</td>\n",
       "      <td>06:36</td>\n",
       "      <td>13:24</td>\n",
       "      <td>1551</td>\n",
       "      <td>left</td>\n",
       "      <td>516</td>\n",
       "      <td>stoppage</td>\n",
       "      <td>88</td>\n",
       "      <td>-1</td>\n",
       "      <td>-1</td>\n",
       "      <td></td>\n",
       "      <td></td>\n",
       "      <td>-1</td>\n",
       "      <td>-1</td>\n",
       "      <td>-1</td>\n",
       "      <td>-1</td>\n",
       "      <td>-1</td>\n",
       "      <td>-1</td>\n",
       "      <td>-1</td>\n",
       "      <td>-1</td>\n",
       "      <td>-1</td>\n",
       "      <td>goalie-stopped-after</td>\n",
       "      <td></td>\n",
       "      <td>-1</td>\n",
       "      <td>-1</td>\n",
       "    </tr>\n",
       "  </tbody>\n",
       "</table>\n",
       "</div>"
      ],
      "text/plain": [
       "   event_id     game_id  period_number period_type time_in_period  \\\n",
       "0         8  2024010008              1         REG          01:12   \n",
       "1         9  2024010008              1         REG          02:59   \n",
       "2        10  2024010008              1         REG          05:27   \n",
       "3        11  2024010008              1         REG          06:19   \n",
       "4        12  2024010008              1         REG          06:36   \n",
       "\n",
       "  time_remaining situation_code home_team_defending_side  type_code  \\\n",
       "0          18:48           1551                     left        516   \n",
       "1          17:01           1551                     left        516   \n",
       "2          14:33           1551                     left        516   \n",
       "3          13:41           1551                     left        516   \n",
       "4          13:24           1551                     left        516   \n",
       "\n",
       "  type_desc_key  sort_order  x_coord  y_coord zone_code shot_type  \\\n",
       "0      stoppage          27       -1       -1                       \n",
       "1      stoppage          45       -1       -1                       \n",
       "2      stoppage          73       -1       -1                       \n",
       "3      stoppage          82       -1       -1                       \n",
       "4      stoppage          88       -1       -1                       \n",
       "\n",
       "   blocking_Player_id  shooting_player_id  goalie_in_net_id  player_id  \\\n",
       "0                  -1                  -1                -1         -1   \n",
       "1                  -1                  -1                -1         -1   \n",
       "2                  -1                  -1                -1         -1   \n",
       "3                  -1                  -1                -1         -1   \n",
       "4                  -1                  -1                -1         -1   \n",
       "\n",
       "   event_owner_team_id  away_sog  home_sog  hitting_player_id  \\\n",
       "0                   -1        -1        -1                 -1   \n",
       "1                   -1        -1        -1                 -1   \n",
       "2                   -1        -1        -1                 -1   \n",
       "3                   -1        -1        -1                 -1   \n",
       "4                   -1        -1        -1                 -1   \n",
       "\n",
       "   hittee_player_id                reason secondary_reason  losing_player_id  \\\n",
       "0                -1               offside                                 -1   \n",
       "1                -1       puck-in-netting                                 -1   \n",
       "2                -1  goalie-stopped-after                                 -1   \n",
       "3                -1    skater-puck-frozen       tv-timeout                -1   \n",
       "4                -1  goalie-stopped-after                                 -1   \n",
       "\n",
       "   winning_player_id  \n",
       "0                 -1  \n",
       "1                 -1  \n",
       "2                 -1  \n",
       "3                 -1  \n",
       "4                 -1  "
      ]
     },
     "execution_count": 15,
     "metadata": {},
     "output_type": "execute_result"
    }
   ],
   "source": [
    "events_df = pd.DataFrame(events, columns=events_headers)\n",
    "events_df.head()"
   ]
  },
  {
   "cell_type": "code",
   "execution_count": null,
   "id": "e4899f45",
   "metadata": {},
   "outputs": [
    {
     "data": {
      "application/vnd.plotly.v1+json": {
       "config": {
        "plotlyServerURL": "https://plot.ly"
       },
       "data": [
        {
         "customdata": [
          [
           "Type: period-start<br>Period: 1<br>Time: 00:00"
          ],
          [
           "Type: hit<br>Period: 1<br>Time: 00:08"
          ],
          [
           "Type: hit<br>Period: 1<br>Time: 00:10"
          ],
          [
           "Type: goal<br>Period: 1<br>Time: 00:17"
          ],
          [
           "Type: giveaway<br>Period: 1<br>Time: 00:25"
          ],
          [
           "Type: blocked-shot<br>Period: 1<br>Time: 00:29"
          ],
          [
           "Type: giveaway<br>Period: 1<br>Time: 00:38"
          ],
          [
           "Type: giveaway<br>Period: 1<br>Time: 00:39"
          ],
          [
           "Type: missed-shot<br>Period: 1<br>Time: 01:24"
          ],
          [
           "Type: blocked-shot<br>Period: 1<br>Time: 02:28"
          ],
          [
           "Type: missed-shot<br>Period: 1<br>Time: 02:56"
          ],
          [
           "Type: giveaway<br>Period: 1<br>Time: 03:08"
          ],
          [
           "Type: goal<br>Period: 1<br>Time: 03:23"
          ],
          [
           "Type: blocked-shot<br>Period: 1<br>Time: 04:54"
          ],
          [
           "Type: blocked-shot<br>Period: 1<br>Time: 04:58"
          ],
          [
           "Type: giveaway<br>Period: 1<br>Time: 05:17"
          ],
          [
           "Type: shot-on-goal<br>Period: 1<br>Time: 05:26"
          ],
          [
           "Type: blocked-shot<br>Period: 1<br>Time: 05:29"
          ],
          [
           "Type: missed-shot<br>Period: 1<br>Time: 05:48"
          ],
          [
           "Type: shot-on-goal<br>Period: 1<br>Time: 05:50"
          ],
          [
           "Type: shot-on-goal<br>Period: 1<br>Time: 06:27"
          ],
          [
           "Type: shot-on-goal<br>Period: 1<br>Time: 06:35"
          ],
          [
           "Type: blocked-shot<br>Period: 1<br>Time: 06:53"
          ],
          [
           "Type: giveaway<br>Period: 1<br>Time: 07:54"
          ],
          [
           "Type: blocked-shot<br>Period: 1<br>Time: 08:00"
          ],
          [
           "Type: hit<br>Period: 1<br>Time: 08:37"
          ],
          [
           "Type: missed-shot<br>Period: 1<br>Time: 08:50"
          ],
          [
           "Type: blocked-shot<br>Period: 1<br>Time: 08:58"
          ],
          [
           "Type: giveaway<br>Period: 1<br>Time: 09:37"
          ],
          [
           "Type: shot-on-goal<br>Period: 1<br>Time: 09:40"
          ],
          [
           "Type: hit<br>Period: 1<br>Time: 09:45"
          ],
          [
           "Type: giveaway<br>Period: 1<br>Time: 10:25"
          ],
          [
           "Type: giveaway<br>Period: 1<br>Time: 11:12"
          ],
          [
           "Type: giveaway<br>Period: 1<br>Time: 11:21"
          ],
          [
           "Type: shot-on-goal<br>Period: 1<br>Time: 11:51"
          ],
          [
           "Type: missed-shot<br>Period: 1<br>Time: 13:06"
          ],
          [
           "Type: missed-shot<br>Period: 1<br>Time: 13:13"
          ],
          [
           "Type: takeaway<br>Period: 1<br>Time: 13:21"
          ],
          [
           "Type: shot-on-goal<br>Period: 1<br>Time: 13:59"
          ],
          [
           "Type: missed-shot<br>Period: 1<br>Time: 16:43"
          ],
          [
           "Type: blocked-shot<br>Period: 1<br>Time: 16:44"
          ],
          [
           "Type: blocked-shot<br>Period: 1<br>Time: 17:15"
          ],
          [
           "Type: blocked-shot<br>Period: 1<br>Time: 17:32"
          ],
          [
           "Type: shot-on-goal<br>Period: 1<br>Time: 18:34"
          ],
          [
           "Type: blocked-shot<br>Period: 1<br>Time: 19:25"
          ],
          [
           "Type: missed-shot<br>Period: 1<br>Time: 19:58"
          ],
          [
           "Type: period-end<br>Period: 1<br>Time: 20:00"
          ],
          [
           "Type: period-start<br>Period: 2<br>Time: 00:00"
          ],
          [
           "Type: hit<br>Period: 2<br>Time: 00:08"
          ],
          [
           "Type: takeaway<br>Period: 2<br>Time: 00:11"
          ],
          [
           "Type: takeaway<br>Period: 2<br>Time: 00:11"
          ],
          [
           "Type: shot-on-goal<br>Period: 2<br>Time: 00:29"
          ],
          [
           "Type: shot-on-goal<br>Period: 2<br>Time: 00:31"
          ],
          [
           "Type: shot-on-goal<br>Period: 2<br>Time: 00:32"
          ],
          [
           "Type: missed-shot<br>Period: 2<br>Time: 00:35"
          ],
          [
           "Type: giveaway<br>Period: 2<br>Time: 00:45"
          ],
          [
           "Type: giveaway<br>Period: 2<br>Time: 00:49"
          ],
          [
           "Type: giveaway<br>Period: 2<br>Time: 00:49"
          ],
          [
           "Type: giveaway<br>Period: 2<br>Time: 00:51"
          ],
          [
           "Type: hit<br>Period: 2<br>Time: 01:08"
          ],
          [
           "Type: giveaway<br>Period: 2<br>Time: 01:16"
          ],
          [
           "Type: blocked-shot<br>Period: 2<br>Time: 01:43"
          ],
          [
           "Type: missed-shot<br>Period: 2<br>Time: 01:45"
          ],
          [
           "Type: blocked-shot<br>Period: 2<br>Time: 01:57"
          ],
          [
           "Type: hit<br>Period: 2<br>Time: 02:22"
          ],
          [
           "Type: missed-shot<br>Period: 2<br>Time: 02:43"
          ],
          [
           "Type: hit<br>Period: 2<br>Time: 03:18"
          ],
          [
           "Type: shot-on-goal<br>Period: 2<br>Time: 03:35"
          ],
          [
           "Type: shot-on-goal<br>Period: 2<br>Time: 03:45"
          ],
          [
           "Type: shot-on-goal<br>Period: 2<br>Time: 03:46"
          ],
          [
           "Type: penalty<br>Period: 2<br>Time: 03:59"
          ],
          [
           "Type: shot-on-goal<br>Period: 2<br>Time: 04:35"
          ],
          [
           "Type: shot-on-goal<br>Period: 2<br>Time: 04:42"
          ],
          [
           "Type: blocked-shot<br>Period: 2<br>Time: 04:52"
          ],
          [
           "Type: takeaway<br>Period: 2<br>Time: 05:00"
          ],
          [
           "Type: shot-on-goal<br>Period: 2<br>Time: 05:31"
          ],
          [
           "Type: hit<br>Period: 2<br>Time: 05:43"
          ],
          [
           "Type: blocked-shot<br>Period: 2<br>Time: 06:22"
          ],
          [
           "Type: giveaway<br>Period: 2<br>Time: 06:43"
          ],
          [
           "Type: hit<br>Period: 2<br>Time: 06:43"
          ],
          [
           "Type: shot-on-goal<br>Period: 2<br>Time: 08:23"
          ],
          [
           "Type: missed-shot<br>Period: 2<br>Time: 08:28"
          ],
          [
           "Type: giveaway<br>Period: 2<br>Time: 08:36"
          ],
          [
           "Type: giveaway<br>Period: 2<br>Time: 08:51"
          ],
          [
           "Type: missed-shot<br>Period: 2<br>Time: 08:54"
          ],
          [
           "Type: hit<br>Period: 2<br>Time: 08:57"
          ],
          [
           "Type: shot-on-goal<br>Period: 2<br>Time: 09:21"
          ],
          [
           "Type: giveaway<br>Period: 2<br>Time: 09:54"
          ],
          [
           "Type: giveaway<br>Period: 2<br>Time: 10:25"
          ],
          [
           "Type: shot-on-goal<br>Period: 2<br>Time: 10:50"
          ],
          [
           "Type: takeaway<br>Period: 2<br>Time: 10:50"
          ],
          [
           "Type: shot-on-goal<br>Period: 2<br>Time: 10:59"
          ],
          [
           "Type: giveaway<br>Period: 2<br>Time: 11:27"
          ],
          [
           "Type: giveaway<br>Period: 2<br>Time: 11:50"
          ],
          [
           "Type: takeaway<br>Period: 2<br>Time: 12:26"
          ],
          [
           "Type: hit<br>Period: 2<br>Time: 13:32"
          ],
          [
           "Type: blocked-shot<br>Period: 2<br>Time: 14:16"
          ],
          [
           "Type: giveaway<br>Period: 2<br>Time: 14:27"
          ],
          [
           "Type: blocked-shot<br>Period: 2<br>Time: 15:03"
          ],
          [
           "Type: shot-on-goal<br>Period: 2<br>Time: 15:22"
          ],
          [
           "Type: hit<br>Period: 2<br>Time: 15:26"
          ],
          [
           "Type: takeaway<br>Period: 2<br>Time: 16:22"
          ],
          [
           "Type: blocked-shot<br>Period: 2<br>Time: 16:39"
          ],
          [
           "Type: shot-on-goal<br>Period: 2<br>Time: 16:58"
          ],
          [
           "Type: shot-on-goal<br>Period: 2<br>Time: 17:52"
          ],
          [
           "Type: blocked-shot<br>Period: 2<br>Time: 17:56"
          ],
          [
           "Type: shot-on-goal<br>Period: 2<br>Time: 18:26"
          ],
          [
           "Type: missed-shot<br>Period: 2<br>Time: 18:57"
          ],
          [
           "Type: blocked-shot<br>Period: 2<br>Time: 19:16"
          ],
          [
           "Type: shot-on-goal<br>Period: 2<br>Time: 19:29"
          ],
          [
           "Type: period-end<br>Period: 2<br>Time: 20:00"
          ],
          [
           "Type: period-start<br>Period: 3<br>Time: 00:00"
          ],
          [
           "Type: hit<br>Period: 3<br>Time: 00:11"
          ],
          [
           "Type: hit<br>Period: 3<br>Time: 00:41"
          ],
          [
           "Type: hit<br>Period: 3<br>Time: 00:47"
          ],
          [
           "Type: hit<br>Period: 3<br>Time: 01:00"
          ],
          [
           "Type: shot-on-goal<br>Period: 3<br>Time: 01:28"
          ],
          [
           "Type: delayed-penalty<br>Period: 3<br>Time: 02:04"
          ],
          [
           "Type: penalty<br>Period: 3<br>Time: 02:09"
          ],
          [
           "Type: takeaway<br>Period: 3<br>Time: 02:33"
          ],
          [
           "Type: takeaway<br>Period: 3<br>Time: 02:49"
          ],
          [
           "Type: shot-on-goal<br>Period: 3<br>Time: 03:07"
          ],
          [
           "Type: shot-on-goal<br>Period: 3<br>Time: 03:10"
          ],
          [
           "Type: hit<br>Period: 3<br>Time: 04:16"
          ],
          [
           "Type: shot-on-goal<br>Period: 3<br>Time: 04:56"
          ],
          [
           "Type: giveaway<br>Period: 3<br>Time: 05:33"
          ],
          [
           "Type: shot-on-goal<br>Period: 3<br>Time: 05:34"
          ],
          [
           "Type: hit<br>Period: 3<br>Time: 05:38"
          ],
          [
           "Type: giveaway<br>Period: 3<br>Time: 06:14"
          ],
          [
           "Type: blocked-shot<br>Period: 3<br>Time: 06:30"
          ],
          [
           "Type: giveaway<br>Period: 3<br>Time: 06:53"
          ],
          [
           "Type: missed-shot<br>Period: 3<br>Time: 07:08"
          ],
          [
           "Type: shot-on-goal<br>Period: 3<br>Time: 07:11"
          ],
          [
           "Type: blocked-shot<br>Period: 3<br>Time: 07:14"
          ],
          [
           "Type: delayed-penalty<br>Period: 3<br>Time: 07:51"
          ],
          [
           "Type: penalty<br>Period: 3<br>Time: 07:54"
          ],
          [
           "Type: shot-on-goal<br>Period: 3<br>Time: 08:42"
          ],
          [
           "Type: goal<br>Period: 3<br>Time: 09:07"
          ],
          [
           "Type: goal<br>Period: 3<br>Time: 09:17"
          ],
          [
           "Type: takeaway<br>Period: 3<br>Time: 09:29"
          ],
          [
           "Type: missed-shot<br>Period: 3<br>Time: 10:13"
          ],
          [
           "Type: missed-shot<br>Period: 3<br>Time: 10:18"
          ],
          [
           "Type: giveaway<br>Period: 3<br>Time: 11:04"
          ],
          [
           "Type: missed-shot<br>Period: 3<br>Time: 11:06"
          ],
          [
           "Type: giveaway<br>Period: 3<br>Time: 11:44"
          ],
          [
           "Type: missed-shot<br>Period: 3<br>Time: 11:51"
          ],
          [
           "Type: shot-on-goal<br>Period: 3<br>Time: 13:11"
          ],
          [
           "Type: shot-on-goal<br>Period: 3<br>Time: 13:30"
          ],
          [
           "Type: shot-on-goal<br>Period: 3<br>Time: 13:32"
          ],
          [
           "Type: missed-shot<br>Period: 3<br>Time: 13:46"
          ],
          [
           "Type: blocked-shot<br>Period: 3<br>Time: 15:25"
          ],
          [
           "Type: shot-on-goal<br>Period: 3<br>Time: 15:40"
          ],
          [
           "Type: shot-on-goal<br>Period: 3<br>Time: 15:41"
          ],
          [
           "Type: giveaway<br>Period: 3<br>Time: 16:00"
          ],
          [
           "Type: takeaway<br>Period: 3<br>Time: 16:14"
          ],
          [
           "Type: giveaway<br>Period: 3<br>Time: 16:17"
          ],
          [
           "Type: takeaway<br>Period: 3<br>Time: 16:30"
          ],
          [
           "Type: hit<br>Period: 3<br>Time: 16:49"
          ],
          [
           "Type: shot-on-goal<br>Period: 3<br>Time: 16:56"
          ],
          [
           "Type: shot-on-goal<br>Period: 3<br>Time: 18:20"
          ],
          [
           "Type: shot-on-goal<br>Period: 3<br>Time: 18:29"
          ],
          [
           "Type: giveaway<br>Period: 3<br>Time: 18:30"
          ],
          [
           "Type: giveaway<br>Period: 3<br>Time: 18:41"
          ],
          [
           "Type: missed-shot<br>Period: 3<br>Time: 19:39"
          ],
          [
           "Type: missed-shot<br>Period: 3<br>Time: 19:56"
          ],
          [
           "Type: period-end<br>Period: 3<br>Time: 20:00"
          ],
          [
           "Type: period-start<br>Period: 4<br>Time: 00:00"
          ],
          [
           "Type: shot-on-goal<br>Period: 4<br>Time: 00:41"
          ],
          [
           "Type: period-end<br>Period: 4<br>Time: 01:17"
          ],
          [
           "Type: game-end<br>Period: 4<br>Time: 01:17"
          ],
          [
           "Type: goal<br>Period: 4<br>Time: 01:17"
          ]
         ],
         "hovertemplate": "%{customdata[0]}<extra></extra>",
         "hovertext": [
          "period-start"
         ],
         "ids": [
          "period-start"
         ],
         "legendgroup": "period-start",
         "marker": {
          "color": "#636efa",
          "symbol": "circle"
         },
         "mode": "markers",
         "name": "period-start",
         "orientation": "v",
         "showlegend": true,
         "type": "scatter",
         "x": {
          "bdata": "/w==",
          "dtype": "i1"
         },
         "xaxis": "x",
         "y": {
          "bdata": "/w==",
          "dtype": "i1"
         },
         "yaxis": "y"
        },
        {
         "customdata": [
          [
           "Type: period-start<br>Period: 1<br>Time: 00:00"
          ],
          [
           "Type: hit<br>Period: 1<br>Time: 00:08"
          ],
          [
           "Type: hit<br>Period: 1<br>Time: 00:10"
          ],
          [
           "Type: goal<br>Period: 1<br>Time: 00:17"
          ],
          [
           "Type: giveaway<br>Period: 1<br>Time: 00:25"
          ],
          [
           "Type: blocked-shot<br>Period: 1<br>Time: 00:29"
          ],
          [
           "Type: giveaway<br>Period: 1<br>Time: 00:38"
          ],
          [
           "Type: giveaway<br>Period: 1<br>Time: 00:39"
          ],
          [
           "Type: missed-shot<br>Period: 1<br>Time: 01:24"
          ],
          [
           "Type: blocked-shot<br>Period: 1<br>Time: 02:28"
          ],
          [
           "Type: missed-shot<br>Period: 1<br>Time: 02:56"
          ],
          [
           "Type: giveaway<br>Period: 1<br>Time: 03:08"
          ],
          [
           "Type: goal<br>Period: 1<br>Time: 03:23"
          ],
          [
           "Type: blocked-shot<br>Period: 1<br>Time: 04:54"
          ],
          [
           "Type: blocked-shot<br>Period: 1<br>Time: 04:58"
          ],
          [
           "Type: giveaway<br>Period: 1<br>Time: 05:17"
          ],
          [
           "Type: shot-on-goal<br>Period: 1<br>Time: 05:26"
          ],
          [
           "Type: blocked-shot<br>Period: 1<br>Time: 05:29"
          ],
          [
           "Type: missed-shot<br>Period: 1<br>Time: 05:48"
          ],
          [
           "Type: shot-on-goal<br>Period: 1<br>Time: 05:50"
          ],
          [
           "Type: shot-on-goal<br>Period: 1<br>Time: 06:27"
          ],
          [
           "Type: shot-on-goal<br>Period: 1<br>Time: 06:35"
          ],
          [
           "Type: blocked-shot<br>Period: 1<br>Time: 06:53"
          ],
          [
           "Type: giveaway<br>Period: 1<br>Time: 07:54"
          ],
          [
           "Type: blocked-shot<br>Period: 1<br>Time: 08:00"
          ],
          [
           "Type: hit<br>Period: 1<br>Time: 08:37"
          ],
          [
           "Type: missed-shot<br>Period: 1<br>Time: 08:50"
          ],
          [
           "Type: blocked-shot<br>Period: 1<br>Time: 08:58"
          ],
          [
           "Type: giveaway<br>Period: 1<br>Time: 09:37"
          ],
          [
           "Type: shot-on-goal<br>Period: 1<br>Time: 09:40"
          ],
          [
           "Type: hit<br>Period: 1<br>Time: 09:45"
          ],
          [
           "Type: giveaway<br>Period: 1<br>Time: 10:25"
          ],
          [
           "Type: giveaway<br>Period: 1<br>Time: 11:12"
          ],
          [
           "Type: giveaway<br>Period: 1<br>Time: 11:21"
          ],
          [
           "Type: shot-on-goal<br>Period: 1<br>Time: 11:51"
          ],
          [
           "Type: missed-shot<br>Period: 1<br>Time: 13:06"
          ],
          [
           "Type: missed-shot<br>Period: 1<br>Time: 13:13"
          ],
          [
           "Type: takeaway<br>Period: 1<br>Time: 13:21"
          ],
          [
           "Type: shot-on-goal<br>Period: 1<br>Time: 13:59"
          ],
          [
           "Type: missed-shot<br>Period: 1<br>Time: 16:43"
          ],
          [
           "Type: blocked-shot<br>Period: 1<br>Time: 16:44"
          ],
          [
           "Type: blocked-shot<br>Period: 1<br>Time: 17:15"
          ],
          [
           "Type: blocked-shot<br>Period: 1<br>Time: 17:32"
          ],
          [
           "Type: shot-on-goal<br>Period: 1<br>Time: 18:34"
          ],
          [
           "Type: blocked-shot<br>Period: 1<br>Time: 19:25"
          ],
          [
           "Type: missed-shot<br>Period: 1<br>Time: 19:58"
          ],
          [
           "Type: period-end<br>Period: 1<br>Time: 20:00"
          ],
          [
           "Type: period-start<br>Period: 2<br>Time: 00:00"
          ],
          [
           "Type: hit<br>Period: 2<br>Time: 00:08"
          ],
          [
           "Type: takeaway<br>Period: 2<br>Time: 00:11"
          ],
          [
           "Type: takeaway<br>Period: 2<br>Time: 00:11"
          ],
          [
           "Type: shot-on-goal<br>Period: 2<br>Time: 00:29"
          ],
          [
           "Type: shot-on-goal<br>Period: 2<br>Time: 00:31"
          ],
          [
           "Type: shot-on-goal<br>Period: 2<br>Time: 00:32"
          ],
          [
           "Type: missed-shot<br>Period: 2<br>Time: 00:35"
          ],
          [
           "Type: giveaway<br>Period: 2<br>Time: 00:45"
          ],
          [
           "Type: giveaway<br>Period: 2<br>Time: 00:49"
          ],
          [
           "Type: giveaway<br>Period: 2<br>Time: 00:49"
          ],
          [
           "Type: giveaway<br>Period: 2<br>Time: 00:51"
          ],
          [
           "Type: hit<br>Period: 2<br>Time: 01:08"
          ],
          [
           "Type: giveaway<br>Period: 2<br>Time: 01:16"
          ],
          [
           "Type: blocked-shot<br>Period: 2<br>Time: 01:43"
          ],
          [
           "Type: missed-shot<br>Period: 2<br>Time: 01:45"
          ],
          [
           "Type: blocked-shot<br>Period: 2<br>Time: 01:57"
          ],
          [
           "Type: hit<br>Period: 2<br>Time: 02:22"
          ],
          [
           "Type: missed-shot<br>Period: 2<br>Time: 02:43"
          ],
          [
           "Type: hit<br>Period: 2<br>Time: 03:18"
          ],
          [
           "Type: shot-on-goal<br>Period: 2<br>Time: 03:35"
          ],
          [
           "Type: shot-on-goal<br>Period: 2<br>Time: 03:45"
          ],
          [
           "Type: shot-on-goal<br>Period: 2<br>Time: 03:46"
          ],
          [
           "Type: penalty<br>Period: 2<br>Time: 03:59"
          ],
          [
           "Type: shot-on-goal<br>Period: 2<br>Time: 04:35"
          ],
          [
           "Type: shot-on-goal<br>Period: 2<br>Time: 04:42"
          ],
          [
           "Type: blocked-shot<br>Period: 2<br>Time: 04:52"
          ],
          [
           "Type: takeaway<br>Period: 2<br>Time: 05:00"
          ],
          [
           "Type: shot-on-goal<br>Period: 2<br>Time: 05:31"
          ],
          [
           "Type: hit<br>Period: 2<br>Time: 05:43"
          ],
          [
           "Type: blocked-shot<br>Period: 2<br>Time: 06:22"
          ],
          [
           "Type: giveaway<br>Period: 2<br>Time: 06:43"
          ],
          [
           "Type: hit<br>Period: 2<br>Time: 06:43"
          ],
          [
           "Type: shot-on-goal<br>Period: 2<br>Time: 08:23"
          ],
          [
           "Type: missed-shot<br>Period: 2<br>Time: 08:28"
          ],
          [
           "Type: giveaway<br>Period: 2<br>Time: 08:36"
          ],
          [
           "Type: giveaway<br>Period: 2<br>Time: 08:51"
          ],
          [
           "Type: missed-shot<br>Period: 2<br>Time: 08:54"
          ],
          [
           "Type: hit<br>Period: 2<br>Time: 08:57"
          ],
          [
           "Type: shot-on-goal<br>Period: 2<br>Time: 09:21"
          ],
          [
           "Type: giveaway<br>Period: 2<br>Time: 09:54"
          ],
          [
           "Type: giveaway<br>Period: 2<br>Time: 10:25"
          ],
          [
           "Type: shot-on-goal<br>Period: 2<br>Time: 10:50"
          ],
          [
           "Type: takeaway<br>Period: 2<br>Time: 10:50"
          ],
          [
           "Type: shot-on-goal<br>Period: 2<br>Time: 10:59"
          ],
          [
           "Type: giveaway<br>Period: 2<br>Time: 11:27"
          ],
          [
           "Type: giveaway<br>Period: 2<br>Time: 11:50"
          ],
          [
           "Type: takeaway<br>Period: 2<br>Time: 12:26"
          ],
          [
           "Type: hit<br>Period: 2<br>Time: 13:32"
          ],
          [
           "Type: blocked-shot<br>Period: 2<br>Time: 14:16"
          ],
          [
           "Type: giveaway<br>Period: 2<br>Time: 14:27"
          ],
          [
           "Type: blocked-shot<br>Period: 2<br>Time: 15:03"
          ],
          [
           "Type: shot-on-goal<br>Period: 2<br>Time: 15:22"
          ],
          [
           "Type: hit<br>Period: 2<br>Time: 15:26"
          ],
          [
           "Type: takeaway<br>Period: 2<br>Time: 16:22"
          ],
          [
           "Type: blocked-shot<br>Period: 2<br>Time: 16:39"
          ],
          [
           "Type: shot-on-goal<br>Period: 2<br>Time: 16:58"
          ],
          [
           "Type: shot-on-goal<br>Period: 2<br>Time: 17:52"
          ],
          [
           "Type: blocked-shot<br>Period: 2<br>Time: 17:56"
          ],
          [
           "Type: shot-on-goal<br>Period: 2<br>Time: 18:26"
          ],
          [
           "Type: missed-shot<br>Period: 2<br>Time: 18:57"
          ],
          [
           "Type: blocked-shot<br>Period: 2<br>Time: 19:16"
          ],
          [
           "Type: shot-on-goal<br>Period: 2<br>Time: 19:29"
          ],
          [
           "Type: period-end<br>Period: 2<br>Time: 20:00"
          ],
          [
           "Type: period-start<br>Period: 3<br>Time: 00:00"
          ],
          [
           "Type: hit<br>Period: 3<br>Time: 00:11"
          ],
          [
           "Type: hit<br>Period: 3<br>Time: 00:41"
          ],
          [
           "Type: hit<br>Period: 3<br>Time: 00:47"
          ],
          [
           "Type: hit<br>Period: 3<br>Time: 01:00"
          ],
          [
           "Type: shot-on-goal<br>Period: 3<br>Time: 01:28"
          ],
          [
           "Type: delayed-penalty<br>Period: 3<br>Time: 02:04"
          ],
          [
           "Type: penalty<br>Period: 3<br>Time: 02:09"
          ],
          [
           "Type: takeaway<br>Period: 3<br>Time: 02:33"
          ],
          [
           "Type: takeaway<br>Period: 3<br>Time: 02:49"
          ],
          [
           "Type: shot-on-goal<br>Period: 3<br>Time: 03:07"
          ],
          [
           "Type: shot-on-goal<br>Period: 3<br>Time: 03:10"
          ],
          [
           "Type: hit<br>Period: 3<br>Time: 04:16"
          ],
          [
           "Type: shot-on-goal<br>Period: 3<br>Time: 04:56"
          ],
          [
           "Type: giveaway<br>Period: 3<br>Time: 05:33"
          ],
          [
           "Type: shot-on-goal<br>Period: 3<br>Time: 05:34"
          ],
          [
           "Type: hit<br>Period: 3<br>Time: 05:38"
          ],
          [
           "Type: giveaway<br>Period: 3<br>Time: 06:14"
          ],
          [
           "Type: blocked-shot<br>Period: 3<br>Time: 06:30"
          ],
          [
           "Type: giveaway<br>Period: 3<br>Time: 06:53"
          ],
          [
           "Type: missed-shot<br>Period: 3<br>Time: 07:08"
          ],
          [
           "Type: shot-on-goal<br>Period: 3<br>Time: 07:11"
          ],
          [
           "Type: blocked-shot<br>Period: 3<br>Time: 07:14"
          ],
          [
           "Type: delayed-penalty<br>Period: 3<br>Time: 07:51"
          ],
          [
           "Type: penalty<br>Period: 3<br>Time: 07:54"
          ],
          [
           "Type: shot-on-goal<br>Period: 3<br>Time: 08:42"
          ],
          [
           "Type: goal<br>Period: 3<br>Time: 09:07"
          ],
          [
           "Type: goal<br>Period: 3<br>Time: 09:17"
          ],
          [
           "Type: takeaway<br>Period: 3<br>Time: 09:29"
          ],
          [
           "Type: missed-shot<br>Period: 3<br>Time: 10:13"
          ],
          [
           "Type: missed-shot<br>Period: 3<br>Time: 10:18"
          ],
          [
           "Type: giveaway<br>Period: 3<br>Time: 11:04"
          ],
          [
           "Type: missed-shot<br>Period: 3<br>Time: 11:06"
          ],
          [
           "Type: giveaway<br>Period: 3<br>Time: 11:44"
          ],
          [
           "Type: missed-shot<br>Period: 3<br>Time: 11:51"
          ],
          [
           "Type: shot-on-goal<br>Period: 3<br>Time: 13:11"
          ],
          [
           "Type: shot-on-goal<br>Period: 3<br>Time: 13:30"
          ],
          [
           "Type: shot-on-goal<br>Period: 3<br>Time: 13:32"
          ],
          [
           "Type: missed-shot<br>Period: 3<br>Time: 13:46"
          ],
          [
           "Type: blocked-shot<br>Period: 3<br>Time: 15:25"
          ],
          [
           "Type: shot-on-goal<br>Period: 3<br>Time: 15:40"
          ],
          [
           "Type: shot-on-goal<br>Period: 3<br>Time: 15:41"
          ],
          [
           "Type: giveaway<br>Period: 3<br>Time: 16:00"
          ],
          [
           "Type: takeaway<br>Period: 3<br>Time: 16:14"
          ],
          [
           "Type: giveaway<br>Period: 3<br>Time: 16:17"
          ],
          [
           "Type: takeaway<br>Period: 3<br>Time: 16:30"
          ],
          [
           "Type: hit<br>Period: 3<br>Time: 16:49"
          ],
          [
           "Type: shot-on-goal<br>Period: 3<br>Time: 16:56"
          ],
          [
           "Type: shot-on-goal<br>Period: 3<br>Time: 18:20"
          ],
          [
           "Type: shot-on-goal<br>Period: 3<br>Time: 18:29"
          ],
          [
           "Type: giveaway<br>Period: 3<br>Time: 18:30"
          ],
          [
           "Type: giveaway<br>Period: 3<br>Time: 18:41"
          ],
          [
           "Type: missed-shot<br>Period: 3<br>Time: 19:39"
          ],
          [
           "Type: missed-shot<br>Period: 3<br>Time: 19:56"
          ],
          [
           "Type: period-end<br>Period: 3<br>Time: 20:00"
          ],
          [
           "Type: period-start<br>Period: 4<br>Time: 00:00"
          ],
          [
           "Type: shot-on-goal<br>Period: 4<br>Time: 00:41"
          ],
          [
           "Type: period-end<br>Period: 4<br>Time: 01:17"
          ],
          [
           "Type: game-end<br>Period: 4<br>Time: 01:17"
          ],
          [
           "Type: goal<br>Period: 4<br>Time: 01:17"
          ]
         ],
         "hovertemplate": "%{customdata[0]}<extra></extra>",
         "hovertext": [
          "hit",
          "hit"
         ],
         "ids": [
          "hit",
          "hit"
         ],
         "legendgroup": "hit",
         "marker": {
          "color": "#EF553B",
          "symbol": "circle"
         },
         "mode": "markers",
         "name": "hit",
         "orientation": "v",
         "showlegend": true,
         "type": "scatter",
         "x": {
          "bdata": "yrA=",
          "dtype": "i1"
         },
         "xaxis": "x",
         "y": {
          "bdata": "Jyc=",
          "dtype": "i1"
         },
         "yaxis": "y"
        },
        {
         "customdata": [
          [
           "Type: period-start<br>Period: 1<br>Time: 00:00"
          ],
          [
           "Type: hit<br>Period: 1<br>Time: 00:08"
          ],
          [
           "Type: hit<br>Period: 1<br>Time: 00:10"
          ],
          [
           "Type: goal<br>Period: 1<br>Time: 00:17"
          ],
          [
           "Type: giveaway<br>Period: 1<br>Time: 00:25"
          ],
          [
           "Type: blocked-shot<br>Period: 1<br>Time: 00:29"
          ],
          [
           "Type: giveaway<br>Period: 1<br>Time: 00:38"
          ],
          [
           "Type: giveaway<br>Period: 1<br>Time: 00:39"
          ],
          [
           "Type: missed-shot<br>Period: 1<br>Time: 01:24"
          ],
          [
           "Type: blocked-shot<br>Period: 1<br>Time: 02:28"
          ],
          [
           "Type: missed-shot<br>Period: 1<br>Time: 02:56"
          ],
          [
           "Type: giveaway<br>Period: 1<br>Time: 03:08"
          ],
          [
           "Type: goal<br>Period: 1<br>Time: 03:23"
          ],
          [
           "Type: blocked-shot<br>Period: 1<br>Time: 04:54"
          ],
          [
           "Type: blocked-shot<br>Period: 1<br>Time: 04:58"
          ],
          [
           "Type: giveaway<br>Period: 1<br>Time: 05:17"
          ],
          [
           "Type: shot-on-goal<br>Period: 1<br>Time: 05:26"
          ],
          [
           "Type: blocked-shot<br>Period: 1<br>Time: 05:29"
          ],
          [
           "Type: missed-shot<br>Period: 1<br>Time: 05:48"
          ],
          [
           "Type: shot-on-goal<br>Period: 1<br>Time: 05:50"
          ],
          [
           "Type: shot-on-goal<br>Period: 1<br>Time: 06:27"
          ],
          [
           "Type: shot-on-goal<br>Period: 1<br>Time: 06:35"
          ],
          [
           "Type: blocked-shot<br>Period: 1<br>Time: 06:53"
          ],
          [
           "Type: giveaway<br>Period: 1<br>Time: 07:54"
          ],
          [
           "Type: blocked-shot<br>Period: 1<br>Time: 08:00"
          ],
          [
           "Type: hit<br>Period: 1<br>Time: 08:37"
          ],
          [
           "Type: missed-shot<br>Period: 1<br>Time: 08:50"
          ],
          [
           "Type: blocked-shot<br>Period: 1<br>Time: 08:58"
          ],
          [
           "Type: giveaway<br>Period: 1<br>Time: 09:37"
          ],
          [
           "Type: shot-on-goal<br>Period: 1<br>Time: 09:40"
          ],
          [
           "Type: hit<br>Period: 1<br>Time: 09:45"
          ],
          [
           "Type: giveaway<br>Period: 1<br>Time: 10:25"
          ],
          [
           "Type: giveaway<br>Period: 1<br>Time: 11:12"
          ],
          [
           "Type: giveaway<br>Period: 1<br>Time: 11:21"
          ],
          [
           "Type: shot-on-goal<br>Period: 1<br>Time: 11:51"
          ],
          [
           "Type: missed-shot<br>Period: 1<br>Time: 13:06"
          ],
          [
           "Type: missed-shot<br>Period: 1<br>Time: 13:13"
          ],
          [
           "Type: takeaway<br>Period: 1<br>Time: 13:21"
          ],
          [
           "Type: shot-on-goal<br>Period: 1<br>Time: 13:59"
          ],
          [
           "Type: missed-shot<br>Period: 1<br>Time: 16:43"
          ],
          [
           "Type: blocked-shot<br>Period: 1<br>Time: 16:44"
          ],
          [
           "Type: blocked-shot<br>Period: 1<br>Time: 17:15"
          ],
          [
           "Type: blocked-shot<br>Period: 1<br>Time: 17:32"
          ],
          [
           "Type: shot-on-goal<br>Period: 1<br>Time: 18:34"
          ],
          [
           "Type: blocked-shot<br>Period: 1<br>Time: 19:25"
          ],
          [
           "Type: missed-shot<br>Period: 1<br>Time: 19:58"
          ],
          [
           "Type: period-end<br>Period: 1<br>Time: 20:00"
          ],
          [
           "Type: period-start<br>Period: 2<br>Time: 00:00"
          ],
          [
           "Type: hit<br>Period: 2<br>Time: 00:08"
          ],
          [
           "Type: takeaway<br>Period: 2<br>Time: 00:11"
          ],
          [
           "Type: takeaway<br>Period: 2<br>Time: 00:11"
          ],
          [
           "Type: shot-on-goal<br>Period: 2<br>Time: 00:29"
          ],
          [
           "Type: shot-on-goal<br>Period: 2<br>Time: 00:31"
          ],
          [
           "Type: shot-on-goal<br>Period: 2<br>Time: 00:32"
          ],
          [
           "Type: missed-shot<br>Period: 2<br>Time: 00:35"
          ],
          [
           "Type: giveaway<br>Period: 2<br>Time: 00:45"
          ],
          [
           "Type: giveaway<br>Period: 2<br>Time: 00:49"
          ],
          [
           "Type: giveaway<br>Period: 2<br>Time: 00:49"
          ],
          [
           "Type: giveaway<br>Period: 2<br>Time: 00:51"
          ],
          [
           "Type: hit<br>Period: 2<br>Time: 01:08"
          ],
          [
           "Type: giveaway<br>Period: 2<br>Time: 01:16"
          ],
          [
           "Type: blocked-shot<br>Period: 2<br>Time: 01:43"
          ],
          [
           "Type: missed-shot<br>Period: 2<br>Time: 01:45"
          ],
          [
           "Type: blocked-shot<br>Period: 2<br>Time: 01:57"
          ],
          [
           "Type: hit<br>Period: 2<br>Time: 02:22"
          ],
          [
           "Type: missed-shot<br>Period: 2<br>Time: 02:43"
          ],
          [
           "Type: hit<br>Period: 2<br>Time: 03:18"
          ],
          [
           "Type: shot-on-goal<br>Period: 2<br>Time: 03:35"
          ],
          [
           "Type: shot-on-goal<br>Period: 2<br>Time: 03:45"
          ],
          [
           "Type: shot-on-goal<br>Period: 2<br>Time: 03:46"
          ],
          [
           "Type: penalty<br>Period: 2<br>Time: 03:59"
          ],
          [
           "Type: shot-on-goal<br>Period: 2<br>Time: 04:35"
          ],
          [
           "Type: shot-on-goal<br>Period: 2<br>Time: 04:42"
          ],
          [
           "Type: blocked-shot<br>Period: 2<br>Time: 04:52"
          ],
          [
           "Type: takeaway<br>Period: 2<br>Time: 05:00"
          ],
          [
           "Type: shot-on-goal<br>Period: 2<br>Time: 05:31"
          ],
          [
           "Type: hit<br>Period: 2<br>Time: 05:43"
          ],
          [
           "Type: blocked-shot<br>Period: 2<br>Time: 06:22"
          ],
          [
           "Type: giveaway<br>Period: 2<br>Time: 06:43"
          ],
          [
           "Type: hit<br>Period: 2<br>Time: 06:43"
          ],
          [
           "Type: shot-on-goal<br>Period: 2<br>Time: 08:23"
          ],
          [
           "Type: missed-shot<br>Period: 2<br>Time: 08:28"
          ],
          [
           "Type: giveaway<br>Period: 2<br>Time: 08:36"
          ],
          [
           "Type: giveaway<br>Period: 2<br>Time: 08:51"
          ],
          [
           "Type: missed-shot<br>Period: 2<br>Time: 08:54"
          ],
          [
           "Type: hit<br>Period: 2<br>Time: 08:57"
          ],
          [
           "Type: shot-on-goal<br>Period: 2<br>Time: 09:21"
          ],
          [
           "Type: giveaway<br>Period: 2<br>Time: 09:54"
          ],
          [
           "Type: giveaway<br>Period: 2<br>Time: 10:25"
          ],
          [
           "Type: shot-on-goal<br>Period: 2<br>Time: 10:50"
          ],
          [
           "Type: takeaway<br>Period: 2<br>Time: 10:50"
          ],
          [
           "Type: shot-on-goal<br>Period: 2<br>Time: 10:59"
          ],
          [
           "Type: giveaway<br>Period: 2<br>Time: 11:27"
          ],
          [
           "Type: giveaway<br>Period: 2<br>Time: 11:50"
          ],
          [
           "Type: takeaway<br>Period: 2<br>Time: 12:26"
          ],
          [
           "Type: hit<br>Period: 2<br>Time: 13:32"
          ],
          [
           "Type: blocked-shot<br>Period: 2<br>Time: 14:16"
          ],
          [
           "Type: giveaway<br>Period: 2<br>Time: 14:27"
          ],
          [
           "Type: blocked-shot<br>Period: 2<br>Time: 15:03"
          ],
          [
           "Type: shot-on-goal<br>Period: 2<br>Time: 15:22"
          ],
          [
           "Type: hit<br>Period: 2<br>Time: 15:26"
          ],
          [
           "Type: takeaway<br>Period: 2<br>Time: 16:22"
          ],
          [
           "Type: blocked-shot<br>Period: 2<br>Time: 16:39"
          ],
          [
           "Type: shot-on-goal<br>Period: 2<br>Time: 16:58"
          ],
          [
           "Type: shot-on-goal<br>Period: 2<br>Time: 17:52"
          ],
          [
           "Type: blocked-shot<br>Period: 2<br>Time: 17:56"
          ],
          [
           "Type: shot-on-goal<br>Period: 2<br>Time: 18:26"
          ],
          [
           "Type: missed-shot<br>Period: 2<br>Time: 18:57"
          ],
          [
           "Type: blocked-shot<br>Period: 2<br>Time: 19:16"
          ],
          [
           "Type: shot-on-goal<br>Period: 2<br>Time: 19:29"
          ],
          [
           "Type: period-end<br>Period: 2<br>Time: 20:00"
          ],
          [
           "Type: period-start<br>Period: 3<br>Time: 00:00"
          ],
          [
           "Type: hit<br>Period: 3<br>Time: 00:11"
          ],
          [
           "Type: hit<br>Period: 3<br>Time: 00:41"
          ],
          [
           "Type: hit<br>Period: 3<br>Time: 00:47"
          ],
          [
           "Type: hit<br>Period: 3<br>Time: 01:00"
          ],
          [
           "Type: shot-on-goal<br>Period: 3<br>Time: 01:28"
          ],
          [
           "Type: delayed-penalty<br>Period: 3<br>Time: 02:04"
          ],
          [
           "Type: penalty<br>Period: 3<br>Time: 02:09"
          ],
          [
           "Type: takeaway<br>Period: 3<br>Time: 02:33"
          ],
          [
           "Type: takeaway<br>Period: 3<br>Time: 02:49"
          ],
          [
           "Type: shot-on-goal<br>Period: 3<br>Time: 03:07"
          ],
          [
           "Type: shot-on-goal<br>Period: 3<br>Time: 03:10"
          ],
          [
           "Type: hit<br>Period: 3<br>Time: 04:16"
          ],
          [
           "Type: shot-on-goal<br>Period: 3<br>Time: 04:56"
          ],
          [
           "Type: giveaway<br>Period: 3<br>Time: 05:33"
          ],
          [
           "Type: shot-on-goal<br>Period: 3<br>Time: 05:34"
          ],
          [
           "Type: hit<br>Period: 3<br>Time: 05:38"
          ],
          [
           "Type: giveaway<br>Period: 3<br>Time: 06:14"
          ],
          [
           "Type: blocked-shot<br>Period: 3<br>Time: 06:30"
          ],
          [
           "Type: giveaway<br>Period: 3<br>Time: 06:53"
          ],
          [
           "Type: missed-shot<br>Period: 3<br>Time: 07:08"
          ],
          [
           "Type: shot-on-goal<br>Period: 3<br>Time: 07:11"
          ],
          [
           "Type: blocked-shot<br>Period: 3<br>Time: 07:14"
          ],
          [
           "Type: delayed-penalty<br>Period: 3<br>Time: 07:51"
          ],
          [
           "Type: penalty<br>Period: 3<br>Time: 07:54"
          ],
          [
           "Type: shot-on-goal<br>Period: 3<br>Time: 08:42"
          ],
          [
           "Type: goal<br>Period: 3<br>Time: 09:07"
          ],
          [
           "Type: goal<br>Period: 3<br>Time: 09:17"
          ],
          [
           "Type: takeaway<br>Period: 3<br>Time: 09:29"
          ],
          [
           "Type: missed-shot<br>Period: 3<br>Time: 10:13"
          ],
          [
           "Type: missed-shot<br>Period: 3<br>Time: 10:18"
          ],
          [
           "Type: giveaway<br>Period: 3<br>Time: 11:04"
          ],
          [
           "Type: missed-shot<br>Period: 3<br>Time: 11:06"
          ],
          [
           "Type: giveaway<br>Period: 3<br>Time: 11:44"
          ],
          [
           "Type: missed-shot<br>Period: 3<br>Time: 11:51"
          ],
          [
           "Type: shot-on-goal<br>Period: 3<br>Time: 13:11"
          ],
          [
           "Type: shot-on-goal<br>Period: 3<br>Time: 13:30"
          ],
          [
           "Type: shot-on-goal<br>Period: 3<br>Time: 13:32"
          ],
          [
           "Type: missed-shot<br>Period: 3<br>Time: 13:46"
          ],
          [
           "Type: blocked-shot<br>Period: 3<br>Time: 15:25"
          ],
          [
           "Type: shot-on-goal<br>Period: 3<br>Time: 15:40"
          ],
          [
           "Type: shot-on-goal<br>Period: 3<br>Time: 15:41"
          ],
          [
           "Type: giveaway<br>Period: 3<br>Time: 16:00"
          ],
          [
           "Type: takeaway<br>Period: 3<br>Time: 16:14"
          ],
          [
           "Type: giveaway<br>Period: 3<br>Time: 16:17"
          ],
          [
           "Type: takeaway<br>Period: 3<br>Time: 16:30"
          ],
          [
           "Type: hit<br>Period: 3<br>Time: 16:49"
          ],
          [
           "Type: shot-on-goal<br>Period: 3<br>Time: 16:56"
          ],
          [
           "Type: shot-on-goal<br>Period: 3<br>Time: 18:20"
          ],
          [
           "Type: shot-on-goal<br>Period: 3<br>Time: 18:29"
          ],
          [
           "Type: giveaway<br>Period: 3<br>Time: 18:30"
          ],
          [
           "Type: giveaway<br>Period: 3<br>Time: 18:41"
          ],
          [
           "Type: missed-shot<br>Period: 3<br>Time: 19:39"
          ],
          [
           "Type: missed-shot<br>Period: 3<br>Time: 19:56"
          ],
          [
           "Type: period-end<br>Period: 3<br>Time: 20:00"
          ],
          [
           "Type: period-start<br>Period: 4<br>Time: 00:00"
          ],
          [
           "Type: shot-on-goal<br>Period: 4<br>Time: 00:41"
          ],
          [
           "Type: period-end<br>Period: 4<br>Time: 01:17"
          ],
          [
           "Type: game-end<br>Period: 4<br>Time: 01:17"
          ],
          [
           "Type: goal<br>Period: 4<br>Time: 01:17"
          ]
         ],
         "hovertemplate": "%{customdata[0]}<extra></extra>",
         "hovertext": [
          "goal"
         ],
         "ids": [
          "goal"
         ],
         "legendgroup": "goal",
         "marker": {
          "color": "#00cc96",
          "symbol": "circle"
         },
         "mode": "markers",
         "name": "goal",
         "orientation": "v",
         "showlegend": true,
         "type": "scatter",
         "x": {
          "bdata": "rw==",
          "dtype": "i1"
         },
         "xaxis": "x",
         "y": {
          "bdata": "9w==",
          "dtype": "i1"
         },
         "yaxis": "y"
        },
        {
         "customdata": [
          [
           "Type: period-start<br>Period: 1<br>Time: 00:00"
          ],
          [
           "Type: hit<br>Period: 1<br>Time: 00:08"
          ],
          [
           "Type: hit<br>Period: 1<br>Time: 00:10"
          ],
          [
           "Type: goal<br>Period: 1<br>Time: 00:17"
          ],
          [
           "Type: giveaway<br>Period: 1<br>Time: 00:25"
          ],
          [
           "Type: blocked-shot<br>Period: 1<br>Time: 00:29"
          ],
          [
           "Type: giveaway<br>Period: 1<br>Time: 00:38"
          ],
          [
           "Type: giveaway<br>Period: 1<br>Time: 00:39"
          ],
          [
           "Type: missed-shot<br>Period: 1<br>Time: 01:24"
          ],
          [
           "Type: blocked-shot<br>Period: 1<br>Time: 02:28"
          ],
          [
           "Type: missed-shot<br>Period: 1<br>Time: 02:56"
          ],
          [
           "Type: giveaway<br>Period: 1<br>Time: 03:08"
          ],
          [
           "Type: goal<br>Period: 1<br>Time: 03:23"
          ],
          [
           "Type: blocked-shot<br>Period: 1<br>Time: 04:54"
          ],
          [
           "Type: blocked-shot<br>Period: 1<br>Time: 04:58"
          ],
          [
           "Type: giveaway<br>Period: 1<br>Time: 05:17"
          ],
          [
           "Type: shot-on-goal<br>Period: 1<br>Time: 05:26"
          ],
          [
           "Type: blocked-shot<br>Period: 1<br>Time: 05:29"
          ],
          [
           "Type: missed-shot<br>Period: 1<br>Time: 05:48"
          ],
          [
           "Type: shot-on-goal<br>Period: 1<br>Time: 05:50"
          ],
          [
           "Type: shot-on-goal<br>Period: 1<br>Time: 06:27"
          ],
          [
           "Type: shot-on-goal<br>Period: 1<br>Time: 06:35"
          ],
          [
           "Type: blocked-shot<br>Period: 1<br>Time: 06:53"
          ],
          [
           "Type: giveaway<br>Period: 1<br>Time: 07:54"
          ],
          [
           "Type: blocked-shot<br>Period: 1<br>Time: 08:00"
          ],
          [
           "Type: hit<br>Period: 1<br>Time: 08:37"
          ],
          [
           "Type: missed-shot<br>Period: 1<br>Time: 08:50"
          ],
          [
           "Type: blocked-shot<br>Period: 1<br>Time: 08:58"
          ],
          [
           "Type: giveaway<br>Period: 1<br>Time: 09:37"
          ],
          [
           "Type: shot-on-goal<br>Period: 1<br>Time: 09:40"
          ],
          [
           "Type: hit<br>Period: 1<br>Time: 09:45"
          ],
          [
           "Type: giveaway<br>Period: 1<br>Time: 10:25"
          ],
          [
           "Type: giveaway<br>Period: 1<br>Time: 11:12"
          ],
          [
           "Type: giveaway<br>Period: 1<br>Time: 11:21"
          ],
          [
           "Type: shot-on-goal<br>Period: 1<br>Time: 11:51"
          ],
          [
           "Type: missed-shot<br>Period: 1<br>Time: 13:06"
          ],
          [
           "Type: missed-shot<br>Period: 1<br>Time: 13:13"
          ],
          [
           "Type: takeaway<br>Period: 1<br>Time: 13:21"
          ],
          [
           "Type: shot-on-goal<br>Period: 1<br>Time: 13:59"
          ],
          [
           "Type: missed-shot<br>Period: 1<br>Time: 16:43"
          ],
          [
           "Type: blocked-shot<br>Period: 1<br>Time: 16:44"
          ],
          [
           "Type: blocked-shot<br>Period: 1<br>Time: 17:15"
          ],
          [
           "Type: blocked-shot<br>Period: 1<br>Time: 17:32"
          ],
          [
           "Type: shot-on-goal<br>Period: 1<br>Time: 18:34"
          ],
          [
           "Type: blocked-shot<br>Period: 1<br>Time: 19:25"
          ],
          [
           "Type: missed-shot<br>Period: 1<br>Time: 19:58"
          ],
          [
           "Type: period-end<br>Period: 1<br>Time: 20:00"
          ],
          [
           "Type: period-start<br>Period: 2<br>Time: 00:00"
          ],
          [
           "Type: hit<br>Period: 2<br>Time: 00:08"
          ],
          [
           "Type: takeaway<br>Period: 2<br>Time: 00:11"
          ],
          [
           "Type: takeaway<br>Period: 2<br>Time: 00:11"
          ],
          [
           "Type: shot-on-goal<br>Period: 2<br>Time: 00:29"
          ],
          [
           "Type: shot-on-goal<br>Period: 2<br>Time: 00:31"
          ],
          [
           "Type: shot-on-goal<br>Period: 2<br>Time: 00:32"
          ],
          [
           "Type: missed-shot<br>Period: 2<br>Time: 00:35"
          ],
          [
           "Type: giveaway<br>Period: 2<br>Time: 00:45"
          ],
          [
           "Type: giveaway<br>Period: 2<br>Time: 00:49"
          ],
          [
           "Type: giveaway<br>Period: 2<br>Time: 00:49"
          ],
          [
           "Type: giveaway<br>Period: 2<br>Time: 00:51"
          ],
          [
           "Type: hit<br>Period: 2<br>Time: 01:08"
          ],
          [
           "Type: giveaway<br>Period: 2<br>Time: 01:16"
          ],
          [
           "Type: blocked-shot<br>Period: 2<br>Time: 01:43"
          ],
          [
           "Type: missed-shot<br>Period: 2<br>Time: 01:45"
          ],
          [
           "Type: blocked-shot<br>Period: 2<br>Time: 01:57"
          ],
          [
           "Type: hit<br>Period: 2<br>Time: 02:22"
          ],
          [
           "Type: missed-shot<br>Period: 2<br>Time: 02:43"
          ],
          [
           "Type: hit<br>Period: 2<br>Time: 03:18"
          ],
          [
           "Type: shot-on-goal<br>Period: 2<br>Time: 03:35"
          ],
          [
           "Type: shot-on-goal<br>Period: 2<br>Time: 03:45"
          ],
          [
           "Type: shot-on-goal<br>Period: 2<br>Time: 03:46"
          ],
          [
           "Type: penalty<br>Period: 2<br>Time: 03:59"
          ],
          [
           "Type: shot-on-goal<br>Period: 2<br>Time: 04:35"
          ],
          [
           "Type: shot-on-goal<br>Period: 2<br>Time: 04:42"
          ],
          [
           "Type: blocked-shot<br>Period: 2<br>Time: 04:52"
          ],
          [
           "Type: takeaway<br>Period: 2<br>Time: 05:00"
          ],
          [
           "Type: shot-on-goal<br>Period: 2<br>Time: 05:31"
          ],
          [
           "Type: hit<br>Period: 2<br>Time: 05:43"
          ],
          [
           "Type: blocked-shot<br>Period: 2<br>Time: 06:22"
          ],
          [
           "Type: giveaway<br>Period: 2<br>Time: 06:43"
          ],
          [
           "Type: hit<br>Period: 2<br>Time: 06:43"
          ],
          [
           "Type: shot-on-goal<br>Period: 2<br>Time: 08:23"
          ],
          [
           "Type: missed-shot<br>Period: 2<br>Time: 08:28"
          ],
          [
           "Type: giveaway<br>Period: 2<br>Time: 08:36"
          ],
          [
           "Type: giveaway<br>Period: 2<br>Time: 08:51"
          ],
          [
           "Type: missed-shot<br>Period: 2<br>Time: 08:54"
          ],
          [
           "Type: hit<br>Period: 2<br>Time: 08:57"
          ],
          [
           "Type: shot-on-goal<br>Period: 2<br>Time: 09:21"
          ],
          [
           "Type: giveaway<br>Period: 2<br>Time: 09:54"
          ],
          [
           "Type: giveaway<br>Period: 2<br>Time: 10:25"
          ],
          [
           "Type: shot-on-goal<br>Period: 2<br>Time: 10:50"
          ],
          [
           "Type: takeaway<br>Period: 2<br>Time: 10:50"
          ],
          [
           "Type: shot-on-goal<br>Period: 2<br>Time: 10:59"
          ],
          [
           "Type: giveaway<br>Period: 2<br>Time: 11:27"
          ],
          [
           "Type: giveaway<br>Period: 2<br>Time: 11:50"
          ],
          [
           "Type: takeaway<br>Period: 2<br>Time: 12:26"
          ],
          [
           "Type: hit<br>Period: 2<br>Time: 13:32"
          ],
          [
           "Type: blocked-shot<br>Period: 2<br>Time: 14:16"
          ],
          [
           "Type: giveaway<br>Period: 2<br>Time: 14:27"
          ],
          [
           "Type: blocked-shot<br>Period: 2<br>Time: 15:03"
          ],
          [
           "Type: shot-on-goal<br>Period: 2<br>Time: 15:22"
          ],
          [
           "Type: hit<br>Period: 2<br>Time: 15:26"
          ],
          [
           "Type: takeaway<br>Period: 2<br>Time: 16:22"
          ],
          [
           "Type: blocked-shot<br>Period: 2<br>Time: 16:39"
          ],
          [
           "Type: shot-on-goal<br>Period: 2<br>Time: 16:58"
          ],
          [
           "Type: shot-on-goal<br>Period: 2<br>Time: 17:52"
          ],
          [
           "Type: blocked-shot<br>Period: 2<br>Time: 17:56"
          ],
          [
           "Type: shot-on-goal<br>Period: 2<br>Time: 18:26"
          ],
          [
           "Type: missed-shot<br>Period: 2<br>Time: 18:57"
          ],
          [
           "Type: blocked-shot<br>Period: 2<br>Time: 19:16"
          ],
          [
           "Type: shot-on-goal<br>Period: 2<br>Time: 19:29"
          ],
          [
           "Type: period-end<br>Period: 2<br>Time: 20:00"
          ],
          [
           "Type: period-start<br>Period: 3<br>Time: 00:00"
          ],
          [
           "Type: hit<br>Period: 3<br>Time: 00:11"
          ],
          [
           "Type: hit<br>Period: 3<br>Time: 00:41"
          ],
          [
           "Type: hit<br>Period: 3<br>Time: 00:47"
          ],
          [
           "Type: hit<br>Period: 3<br>Time: 01:00"
          ],
          [
           "Type: shot-on-goal<br>Period: 3<br>Time: 01:28"
          ],
          [
           "Type: delayed-penalty<br>Period: 3<br>Time: 02:04"
          ],
          [
           "Type: penalty<br>Period: 3<br>Time: 02:09"
          ],
          [
           "Type: takeaway<br>Period: 3<br>Time: 02:33"
          ],
          [
           "Type: takeaway<br>Period: 3<br>Time: 02:49"
          ],
          [
           "Type: shot-on-goal<br>Period: 3<br>Time: 03:07"
          ],
          [
           "Type: shot-on-goal<br>Period: 3<br>Time: 03:10"
          ],
          [
           "Type: hit<br>Period: 3<br>Time: 04:16"
          ],
          [
           "Type: shot-on-goal<br>Period: 3<br>Time: 04:56"
          ],
          [
           "Type: giveaway<br>Period: 3<br>Time: 05:33"
          ],
          [
           "Type: shot-on-goal<br>Period: 3<br>Time: 05:34"
          ],
          [
           "Type: hit<br>Period: 3<br>Time: 05:38"
          ],
          [
           "Type: giveaway<br>Period: 3<br>Time: 06:14"
          ],
          [
           "Type: blocked-shot<br>Period: 3<br>Time: 06:30"
          ],
          [
           "Type: giveaway<br>Period: 3<br>Time: 06:53"
          ],
          [
           "Type: missed-shot<br>Period: 3<br>Time: 07:08"
          ],
          [
           "Type: shot-on-goal<br>Period: 3<br>Time: 07:11"
          ],
          [
           "Type: blocked-shot<br>Period: 3<br>Time: 07:14"
          ],
          [
           "Type: delayed-penalty<br>Period: 3<br>Time: 07:51"
          ],
          [
           "Type: penalty<br>Period: 3<br>Time: 07:54"
          ],
          [
           "Type: shot-on-goal<br>Period: 3<br>Time: 08:42"
          ],
          [
           "Type: goal<br>Period: 3<br>Time: 09:07"
          ],
          [
           "Type: goal<br>Period: 3<br>Time: 09:17"
          ],
          [
           "Type: takeaway<br>Period: 3<br>Time: 09:29"
          ],
          [
           "Type: missed-shot<br>Period: 3<br>Time: 10:13"
          ],
          [
           "Type: missed-shot<br>Period: 3<br>Time: 10:18"
          ],
          [
           "Type: giveaway<br>Period: 3<br>Time: 11:04"
          ],
          [
           "Type: missed-shot<br>Period: 3<br>Time: 11:06"
          ],
          [
           "Type: giveaway<br>Period: 3<br>Time: 11:44"
          ],
          [
           "Type: missed-shot<br>Period: 3<br>Time: 11:51"
          ],
          [
           "Type: shot-on-goal<br>Period: 3<br>Time: 13:11"
          ],
          [
           "Type: shot-on-goal<br>Period: 3<br>Time: 13:30"
          ],
          [
           "Type: shot-on-goal<br>Period: 3<br>Time: 13:32"
          ],
          [
           "Type: missed-shot<br>Period: 3<br>Time: 13:46"
          ],
          [
           "Type: blocked-shot<br>Period: 3<br>Time: 15:25"
          ],
          [
           "Type: shot-on-goal<br>Period: 3<br>Time: 15:40"
          ],
          [
           "Type: shot-on-goal<br>Period: 3<br>Time: 15:41"
          ],
          [
           "Type: giveaway<br>Period: 3<br>Time: 16:00"
          ],
          [
           "Type: takeaway<br>Period: 3<br>Time: 16:14"
          ],
          [
           "Type: giveaway<br>Period: 3<br>Time: 16:17"
          ],
          [
           "Type: takeaway<br>Period: 3<br>Time: 16:30"
          ],
          [
           "Type: hit<br>Period: 3<br>Time: 16:49"
          ],
          [
           "Type: shot-on-goal<br>Period: 3<br>Time: 16:56"
          ],
          [
           "Type: shot-on-goal<br>Period: 3<br>Time: 18:20"
          ],
          [
           "Type: shot-on-goal<br>Period: 3<br>Time: 18:29"
          ],
          [
           "Type: giveaway<br>Period: 3<br>Time: 18:30"
          ],
          [
           "Type: giveaway<br>Period: 3<br>Time: 18:41"
          ],
          [
           "Type: missed-shot<br>Period: 3<br>Time: 19:39"
          ],
          [
           "Type: missed-shot<br>Period: 3<br>Time: 19:56"
          ],
          [
           "Type: period-end<br>Period: 3<br>Time: 20:00"
          ],
          [
           "Type: period-start<br>Period: 4<br>Time: 00:00"
          ],
          [
           "Type: shot-on-goal<br>Period: 4<br>Time: 00:41"
          ],
          [
           "Type: period-end<br>Period: 4<br>Time: 01:17"
          ],
          [
           "Type: game-end<br>Period: 4<br>Time: 01:17"
          ],
          [
           "Type: goal<br>Period: 4<br>Time: 01:17"
          ]
         ],
         "hovertemplate": "%{customdata[0]}<extra></extra>",
         "hovertext": [
          "giveaway",
          "giveaway",
          "giveaway"
         ],
         "ids": [
          "giveaway",
          "giveaway",
          "giveaway"
         ],
         "legendgroup": "giveaway",
         "marker": {
          "color": "#ab63fa",
          "symbol": "circle"
         },
         "mode": "markers",
         "name": "giveaway",
         "orientation": "v",
         "showlegend": true,
         "type": "scatter",
         "x": {
          "bdata": "48ah",
          "dtype": "i1"
         },
         "xaxis": "x",
         "y": {
          "bdata": "2ygL",
          "dtype": "i1"
         },
         "yaxis": "y"
        },
        {
         "customdata": [
          [
           "Type: period-start<br>Period: 1<br>Time: 00:00"
          ],
          [
           "Type: hit<br>Period: 1<br>Time: 00:08"
          ],
          [
           "Type: hit<br>Period: 1<br>Time: 00:10"
          ],
          [
           "Type: goal<br>Period: 1<br>Time: 00:17"
          ],
          [
           "Type: giveaway<br>Period: 1<br>Time: 00:25"
          ],
          [
           "Type: blocked-shot<br>Period: 1<br>Time: 00:29"
          ],
          [
           "Type: giveaway<br>Period: 1<br>Time: 00:38"
          ],
          [
           "Type: giveaway<br>Period: 1<br>Time: 00:39"
          ],
          [
           "Type: missed-shot<br>Period: 1<br>Time: 01:24"
          ],
          [
           "Type: blocked-shot<br>Period: 1<br>Time: 02:28"
          ],
          [
           "Type: missed-shot<br>Period: 1<br>Time: 02:56"
          ],
          [
           "Type: giveaway<br>Period: 1<br>Time: 03:08"
          ],
          [
           "Type: goal<br>Period: 1<br>Time: 03:23"
          ],
          [
           "Type: blocked-shot<br>Period: 1<br>Time: 04:54"
          ],
          [
           "Type: blocked-shot<br>Period: 1<br>Time: 04:58"
          ],
          [
           "Type: giveaway<br>Period: 1<br>Time: 05:17"
          ],
          [
           "Type: shot-on-goal<br>Period: 1<br>Time: 05:26"
          ],
          [
           "Type: blocked-shot<br>Period: 1<br>Time: 05:29"
          ],
          [
           "Type: missed-shot<br>Period: 1<br>Time: 05:48"
          ],
          [
           "Type: shot-on-goal<br>Period: 1<br>Time: 05:50"
          ],
          [
           "Type: shot-on-goal<br>Period: 1<br>Time: 06:27"
          ],
          [
           "Type: shot-on-goal<br>Period: 1<br>Time: 06:35"
          ],
          [
           "Type: blocked-shot<br>Period: 1<br>Time: 06:53"
          ],
          [
           "Type: giveaway<br>Period: 1<br>Time: 07:54"
          ],
          [
           "Type: blocked-shot<br>Period: 1<br>Time: 08:00"
          ],
          [
           "Type: hit<br>Period: 1<br>Time: 08:37"
          ],
          [
           "Type: missed-shot<br>Period: 1<br>Time: 08:50"
          ],
          [
           "Type: blocked-shot<br>Period: 1<br>Time: 08:58"
          ],
          [
           "Type: giveaway<br>Period: 1<br>Time: 09:37"
          ],
          [
           "Type: shot-on-goal<br>Period: 1<br>Time: 09:40"
          ],
          [
           "Type: hit<br>Period: 1<br>Time: 09:45"
          ],
          [
           "Type: giveaway<br>Period: 1<br>Time: 10:25"
          ],
          [
           "Type: giveaway<br>Period: 1<br>Time: 11:12"
          ],
          [
           "Type: giveaway<br>Period: 1<br>Time: 11:21"
          ],
          [
           "Type: shot-on-goal<br>Period: 1<br>Time: 11:51"
          ],
          [
           "Type: missed-shot<br>Period: 1<br>Time: 13:06"
          ],
          [
           "Type: missed-shot<br>Period: 1<br>Time: 13:13"
          ],
          [
           "Type: takeaway<br>Period: 1<br>Time: 13:21"
          ],
          [
           "Type: shot-on-goal<br>Period: 1<br>Time: 13:59"
          ],
          [
           "Type: missed-shot<br>Period: 1<br>Time: 16:43"
          ],
          [
           "Type: blocked-shot<br>Period: 1<br>Time: 16:44"
          ],
          [
           "Type: blocked-shot<br>Period: 1<br>Time: 17:15"
          ],
          [
           "Type: blocked-shot<br>Period: 1<br>Time: 17:32"
          ],
          [
           "Type: shot-on-goal<br>Period: 1<br>Time: 18:34"
          ],
          [
           "Type: blocked-shot<br>Period: 1<br>Time: 19:25"
          ],
          [
           "Type: missed-shot<br>Period: 1<br>Time: 19:58"
          ],
          [
           "Type: period-end<br>Period: 1<br>Time: 20:00"
          ],
          [
           "Type: period-start<br>Period: 2<br>Time: 00:00"
          ],
          [
           "Type: hit<br>Period: 2<br>Time: 00:08"
          ],
          [
           "Type: takeaway<br>Period: 2<br>Time: 00:11"
          ],
          [
           "Type: takeaway<br>Period: 2<br>Time: 00:11"
          ],
          [
           "Type: shot-on-goal<br>Period: 2<br>Time: 00:29"
          ],
          [
           "Type: shot-on-goal<br>Period: 2<br>Time: 00:31"
          ],
          [
           "Type: shot-on-goal<br>Period: 2<br>Time: 00:32"
          ],
          [
           "Type: missed-shot<br>Period: 2<br>Time: 00:35"
          ],
          [
           "Type: giveaway<br>Period: 2<br>Time: 00:45"
          ],
          [
           "Type: giveaway<br>Period: 2<br>Time: 00:49"
          ],
          [
           "Type: giveaway<br>Period: 2<br>Time: 00:49"
          ],
          [
           "Type: giveaway<br>Period: 2<br>Time: 00:51"
          ],
          [
           "Type: hit<br>Period: 2<br>Time: 01:08"
          ],
          [
           "Type: giveaway<br>Period: 2<br>Time: 01:16"
          ],
          [
           "Type: blocked-shot<br>Period: 2<br>Time: 01:43"
          ],
          [
           "Type: missed-shot<br>Period: 2<br>Time: 01:45"
          ],
          [
           "Type: blocked-shot<br>Period: 2<br>Time: 01:57"
          ],
          [
           "Type: hit<br>Period: 2<br>Time: 02:22"
          ],
          [
           "Type: missed-shot<br>Period: 2<br>Time: 02:43"
          ],
          [
           "Type: hit<br>Period: 2<br>Time: 03:18"
          ],
          [
           "Type: shot-on-goal<br>Period: 2<br>Time: 03:35"
          ],
          [
           "Type: shot-on-goal<br>Period: 2<br>Time: 03:45"
          ],
          [
           "Type: shot-on-goal<br>Period: 2<br>Time: 03:46"
          ],
          [
           "Type: penalty<br>Period: 2<br>Time: 03:59"
          ],
          [
           "Type: shot-on-goal<br>Period: 2<br>Time: 04:35"
          ],
          [
           "Type: shot-on-goal<br>Period: 2<br>Time: 04:42"
          ],
          [
           "Type: blocked-shot<br>Period: 2<br>Time: 04:52"
          ],
          [
           "Type: takeaway<br>Period: 2<br>Time: 05:00"
          ],
          [
           "Type: shot-on-goal<br>Period: 2<br>Time: 05:31"
          ],
          [
           "Type: hit<br>Period: 2<br>Time: 05:43"
          ],
          [
           "Type: blocked-shot<br>Period: 2<br>Time: 06:22"
          ],
          [
           "Type: giveaway<br>Period: 2<br>Time: 06:43"
          ],
          [
           "Type: hit<br>Period: 2<br>Time: 06:43"
          ],
          [
           "Type: shot-on-goal<br>Period: 2<br>Time: 08:23"
          ],
          [
           "Type: missed-shot<br>Period: 2<br>Time: 08:28"
          ],
          [
           "Type: giveaway<br>Period: 2<br>Time: 08:36"
          ],
          [
           "Type: giveaway<br>Period: 2<br>Time: 08:51"
          ],
          [
           "Type: missed-shot<br>Period: 2<br>Time: 08:54"
          ],
          [
           "Type: hit<br>Period: 2<br>Time: 08:57"
          ],
          [
           "Type: shot-on-goal<br>Period: 2<br>Time: 09:21"
          ],
          [
           "Type: giveaway<br>Period: 2<br>Time: 09:54"
          ],
          [
           "Type: giveaway<br>Period: 2<br>Time: 10:25"
          ],
          [
           "Type: shot-on-goal<br>Period: 2<br>Time: 10:50"
          ],
          [
           "Type: takeaway<br>Period: 2<br>Time: 10:50"
          ],
          [
           "Type: shot-on-goal<br>Period: 2<br>Time: 10:59"
          ],
          [
           "Type: giveaway<br>Period: 2<br>Time: 11:27"
          ],
          [
           "Type: giveaway<br>Period: 2<br>Time: 11:50"
          ],
          [
           "Type: takeaway<br>Period: 2<br>Time: 12:26"
          ],
          [
           "Type: hit<br>Period: 2<br>Time: 13:32"
          ],
          [
           "Type: blocked-shot<br>Period: 2<br>Time: 14:16"
          ],
          [
           "Type: giveaway<br>Period: 2<br>Time: 14:27"
          ],
          [
           "Type: blocked-shot<br>Period: 2<br>Time: 15:03"
          ],
          [
           "Type: shot-on-goal<br>Period: 2<br>Time: 15:22"
          ],
          [
           "Type: hit<br>Period: 2<br>Time: 15:26"
          ],
          [
           "Type: takeaway<br>Period: 2<br>Time: 16:22"
          ],
          [
           "Type: blocked-shot<br>Period: 2<br>Time: 16:39"
          ],
          [
           "Type: shot-on-goal<br>Period: 2<br>Time: 16:58"
          ],
          [
           "Type: shot-on-goal<br>Period: 2<br>Time: 17:52"
          ],
          [
           "Type: blocked-shot<br>Period: 2<br>Time: 17:56"
          ],
          [
           "Type: shot-on-goal<br>Period: 2<br>Time: 18:26"
          ],
          [
           "Type: missed-shot<br>Period: 2<br>Time: 18:57"
          ],
          [
           "Type: blocked-shot<br>Period: 2<br>Time: 19:16"
          ],
          [
           "Type: shot-on-goal<br>Period: 2<br>Time: 19:29"
          ],
          [
           "Type: period-end<br>Period: 2<br>Time: 20:00"
          ],
          [
           "Type: period-start<br>Period: 3<br>Time: 00:00"
          ],
          [
           "Type: hit<br>Period: 3<br>Time: 00:11"
          ],
          [
           "Type: hit<br>Period: 3<br>Time: 00:41"
          ],
          [
           "Type: hit<br>Period: 3<br>Time: 00:47"
          ],
          [
           "Type: hit<br>Period: 3<br>Time: 01:00"
          ],
          [
           "Type: shot-on-goal<br>Period: 3<br>Time: 01:28"
          ],
          [
           "Type: delayed-penalty<br>Period: 3<br>Time: 02:04"
          ],
          [
           "Type: penalty<br>Period: 3<br>Time: 02:09"
          ],
          [
           "Type: takeaway<br>Period: 3<br>Time: 02:33"
          ],
          [
           "Type: takeaway<br>Period: 3<br>Time: 02:49"
          ],
          [
           "Type: shot-on-goal<br>Period: 3<br>Time: 03:07"
          ],
          [
           "Type: shot-on-goal<br>Period: 3<br>Time: 03:10"
          ],
          [
           "Type: hit<br>Period: 3<br>Time: 04:16"
          ],
          [
           "Type: shot-on-goal<br>Period: 3<br>Time: 04:56"
          ],
          [
           "Type: giveaway<br>Period: 3<br>Time: 05:33"
          ],
          [
           "Type: shot-on-goal<br>Period: 3<br>Time: 05:34"
          ],
          [
           "Type: hit<br>Period: 3<br>Time: 05:38"
          ],
          [
           "Type: giveaway<br>Period: 3<br>Time: 06:14"
          ],
          [
           "Type: blocked-shot<br>Period: 3<br>Time: 06:30"
          ],
          [
           "Type: giveaway<br>Period: 3<br>Time: 06:53"
          ],
          [
           "Type: missed-shot<br>Period: 3<br>Time: 07:08"
          ],
          [
           "Type: shot-on-goal<br>Period: 3<br>Time: 07:11"
          ],
          [
           "Type: blocked-shot<br>Period: 3<br>Time: 07:14"
          ],
          [
           "Type: delayed-penalty<br>Period: 3<br>Time: 07:51"
          ],
          [
           "Type: penalty<br>Period: 3<br>Time: 07:54"
          ],
          [
           "Type: shot-on-goal<br>Period: 3<br>Time: 08:42"
          ],
          [
           "Type: goal<br>Period: 3<br>Time: 09:07"
          ],
          [
           "Type: goal<br>Period: 3<br>Time: 09:17"
          ],
          [
           "Type: takeaway<br>Period: 3<br>Time: 09:29"
          ],
          [
           "Type: missed-shot<br>Period: 3<br>Time: 10:13"
          ],
          [
           "Type: missed-shot<br>Period: 3<br>Time: 10:18"
          ],
          [
           "Type: giveaway<br>Period: 3<br>Time: 11:04"
          ],
          [
           "Type: missed-shot<br>Period: 3<br>Time: 11:06"
          ],
          [
           "Type: giveaway<br>Period: 3<br>Time: 11:44"
          ],
          [
           "Type: missed-shot<br>Period: 3<br>Time: 11:51"
          ],
          [
           "Type: shot-on-goal<br>Period: 3<br>Time: 13:11"
          ],
          [
           "Type: shot-on-goal<br>Period: 3<br>Time: 13:30"
          ],
          [
           "Type: shot-on-goal<br>Period: 3<br>Time: 13:32"
          ],
          [
           "Type: missed-shot<br>Period: 3<br>Time: 13:46"
          ],
          [
           "Type: blocked-shot<br>Period: 3<br>Time: 15:25"
          ],
          [
           "Type: shot-on-goal<br>Period: 3<br>Time: 15:40"
          ],
          [
           "Type: shot-on-goal<br>Period: 3<br>Time: 15:41"
          ],
          [
           "Type: giveaway<br>Period: 3<br>Time: 16:00"
          ],
          [
           "Type: takeaway<br>Period: 3<br>Time: 16:14"
          ],
          [
           "Type: giveaway<br>Period: 3<br>Time: 16:17"
          ],
          [
           "Type: takeaway<br>Period: 3<br>Time: 16:30"
          ],
          [
           "Type: hit<br>Period: 3<br>Time: 16:49"
          ],
          [
           "Type: shot-on-goal<br>Period: 3<br>Time: 16:56"
          ],
          [
           "Type: shot-on-goal<br>Period: 3<br>Time: 18:20"
          ],
          [
           "Type: shot-on-goal<br>Period: 3<br>Time: 18:29"
          ],
          [
           "Type: giveaway<br>Period: 3<br>Time: 18:30"
          ],
          [
           "Type: giveaway<br>Period: 3<br>Time: 18:41"
          ],
          [
           "Type: missed-shot<br>Period: 3<br>Time: 19:39"
          ],
          [
           "Type: missed-shot<br>Period: 3<br>Time: 19:56"
          ],
          [
           "Type: period-end<br>Period: 3<br>Time: 20:00"
          ],
          [
           "Type: period-start<br>Period: 4<br>Time: 00:00"
          ],
          [
           "Type: shot-on-goal<br>Period: 4<br>Time: 00:41"
          ],
          [
           "Type: period-end<br>Period: 4<br>Time: 01:17"
          ],
          [
           "Type: game-end<br>Period: 4<br>Time: 01:17"
          ],
          [
           "Type: goal<br>Period: 4<br>Time: 01:17"
          ]
         ],
         "hovertemplate": "%{customdata[0]}<extra></extra>",
         "hovertext": [
          "blocked-shot"
         ],
         "ids": [
          "blocked-shot"
         ],
         "legendgroup": "blocked-shot",
         "marker": {
          "color": "#FFA15A",
          "symbol": "circle"
         },
         "mode": "markers",
         "name": "blocked-shot",
         "orientation": "v",
         "showlegend": true,
         "type": "scatter",
         "x": {
          "bdata": "vw==",
          "dtype": "i1"
         },
         "xaxis": "x",
         "y": {
          "bdata": "Bw==",
          "dtype": "i1"
         },
         "yaxis": "y"
        }
       ],
       "frames": [
        {
         "data": [
          {
           "customdata": [
            [
             "Type: period-start<br>Period: 1<br>Time: 00:00"
            ]
           ],
           "hovertemplate": "<b>%{hovertext}</b><br><br>type_desc_key=period-start<br>frame=1-0<br>hover_text=%{customdata[0]}<extra></extra>",
           "hovertext": [
            "period-start"
           ],
           "ids": [
            "period-start"
           ],
           "legendgroup": "period-start",
           "marker": {
            "color": "#636efa",
            "symbol": "circle"
           },
           "mode": "markers",
           "name": "period-start",
           "orientation": "v",
           "showlegend": true,
           "type": "scatter",
           "x": {
            "bdata": "/w==",
            "dtype": "i1"
           },
           "xaxis": "x",
           "y": {
            "bdata": "/w==",
            "dtype": "i1"
           },
           "yaxis": "y"
          },
          {
           "customdata": [
            [
             "Type: hit<br>Period: 1<br>Time: 00:08"
            ],
            [
             "Type: hit<br>Period: 1<br>Time: 00:10"
            ]
           ],
           "hovertemplate": "<b>%{hovertext}</b><br><br>type_desc_key=hit<br>frame=1-0<br>hover_text=%{customdata[0]}<extra></extra>",
           "hovertext": [
            "hit",
            "hit"
           ],
           "ids": [
            "hit",
            "hit"
           ],
           "legendgroup": "hit",
           "marker": {
            "color": "#EF553B",
            "symbol": "circle"
           },
           "mode": "markers",
           "name": "hit",
           "orientation": "v",
           "showlegend": true,
           "type": "scatter",
           "x": {
            "bdata": "yrA=",
            "dtype": "i1"
           },
           "xaxis": "x",
           "y": {
            "bdata": "Jyc=",
            "dtype": "i1"
           },
           "yaxis": "y"
          },
          {
           "customdata": [
            [
             "Type: goal<br>Period: 1<br>Time: 00:17"
            ]
           ],
           "hovertemplate": "<b>%{hovertext}</b><br><br>type_desc_key=goal<br>frame=1-0<br>hover_text=%{customdata[0]}<extra></extra>",
           "hovertext": [
            "goal"
           ],
           "ids": [
            "goal"
           ],
           "legendgroup": "goal",
           "marker": {
            "color": "#00cc96",
            "symbol": "circle"
           },
           "mode": "markers",
           "name": "goal",
           "orientation": "v",
           "showlegend": true,
           "type": "scatter",
           "x": {
            "bdata": "rw==",
            "dtype": "i1"
           },
           "xaxis": "x",
           "y": {
            "bdata": "9w==",
            "dtype": "i1"
           },
           "yaxis": "y"
          },
          {
           "customdata": [
            [
             "Type: giveaway<br>Period: 1<br>Time: 00:25"
            ],
            [
             "Type: giveaway<br>Period: 1<br>Time: 00:38"
            ],
            [
             "Type: giveaway<br>Period: 1<br>Time: 00:39"
            ]
           ],
           "hovertemplate": "<b>%{hovertext}</b><br><br>type_desc_key=giveaway<br>frame=1-0<br>hover_text=%{customdata[0]}<extra></extra>",
           "hovertext": [
            "giveaway",
            "giveaway",
            "giveaway"
           ],
           "ids": [
            "giveaway",
            "giveaway",
            "giveaway"
           ],
           "legendgroup": "giveaway",
           "marker": {
            "color": "#ab63fa",
            "symbol": "circle"
           },
           "mode": "markers",
           "name": "giveaway",
           "orientation": "v",
           "showlegend": true,
           "type": "scatter",
           "x": {
            "bdata": "48ah",
            "dtype": "i1"
           },
           "xaxis": "x",
           "y": {
            "bdata": "2ygL",
            "dtype": "i1"
           },
           "yaxis": "y"
          },
          {
           "customdata": [
            [
             "Type: blocked-shot<br>Period: 1<br>Time: 00:29"
            ]
           ],
           "hovertemplate": "<b>%{hovertext}</b><br><br>type_desc_key=blocked-shot<br>frame=1-0<br>hover_text=%{customdata[0]}<extra></extra>",
           "hovertext": [
            "blocked-shot"
           ],
           "ids": [
            "blocked-shot"
           ],
           "legendgroup": "blocked-shot",
           "marker": {
            "color": "#FFA15A",
            "symbol": "circle"
           },
           "mode": "markers",
           "name": "blocked-shot",
           "orientation": "v",
           "showlegend": true,
           "type": "scatter",
           "x": {
            "bdata": "vw==",
            "dtype": "i1"
           },
           "xaxis": "x",
           "y": {
            "bdata": "Bw==",
            "dtype": "i1"
           },
           "yaxis": "y"
          }
         ],
         "name": "1-0"
        },
        {
         "data": [
          {
           "customdata": [
            [
             "Type: missed-shot<br>Period: 1<br>Time: 01:24"
            ]
           ],
           "hovertemplate": "<b>%{hovertext}</b><br><br>type_desc_key=missed-shot<br>frame=1-1<br>hover_text=%{customdata[0]}<extra></extra>",
           "hovertext": [
            "missed-shot"
           ],
           "ids": [
            "missed-shot"
           ],
           "legendgroup": "missed-shot",
           "marker": {
            "color": "#19d3f3",
            "symbol": "circle"
           },
           "mode": "markers",
           "name": "missed-shot",
           "orientation": "v",
           "showlegend": true,
           "type": "scatter",
           "x": {
            "bdata": "IA==",
            "dtype": "i1"
           },
           "xaxis": "x",
           "y": {
            "bdata": "KQ==",
            "dtype": "i1"
           },
           "yaxis": "y"
          }
         ],
         "name": "1-1"
        },
        {
         "data": [
          {
           "customdata": [
            [
             "Type: blocked-shot<br>Period: 1<br>Time: 02:28"
            ]
           ],
           "hovertemplate": "<b>%{hovertext}</b><br><br>type_desc_key=blocked-shot<br>frame=1-2<br>hover_text=%{customdata[0]}<extra></extra>",
           "hovertext": [
            "blocked-shot"
           ],
           "ids": [
            "blocked-shot"
           ],
           "legendgroup": "blocked-shot",
           "marker": {
            "color": "#FFA15A",
            "symbol": "circle"
           },
           "mode": "markers",
           "name": "blocked-shot",
           "orientation": "v",
           "showlegend": true,
           "type": "scatter",
           "x": {
            "bdata": "rw==",
            "dtype": "i1"
           },
           "xaxis": "x",
           "y": {
            "bdata": "CQ==",
            "dtype": "i1"
           },
           "yaxis": "y"
          },
          {
           "customdata": [
            [
             "Type: missed-shot<br>Period: 1<br>Time: 02:56"
            ]
           ],
           "hovertemplate": "<b>%{hovertext}</b><br><br>type_desc_key=missed-shot<br>frame=1-2<br>hover_text=%{customdata[0]}<extra></extra>",
           "hovertext": [
            "missed-shot"
           ],
           "ids": [
            "missed-shot"
           ],
           "legendgroup": "missed-shot",
           "marker": {
            "color": "#19d3f3",
            "symbol": "circle"
           },
           "mode": "markers",
           "name": "missed-shot",
           "orientation": "v",
           "showlegend": true,
           "type": "scatter",
           "x": {
            "bdata": "Lw==",
            "dtype": "i1"
           },
           "xaxis": "x",
           "y": {
            "bdata": "6A==",
            "dtype": "i1"
           },
           "yaxis": "y"
          }
         ],
         "name": "1-2"
        },
        {
         "data": [
          {
           "customdata": [
            [
             "Type: goal<br>Period: 1<br>Time: 03:23"
            ]
           ],
           "hovertemplate": "<b>%{hovertext}</b><br><br>type_desc_key=goal<br>frame=1-3<br>hover_text=%{customdata[0]}<extra></extra>",
           "hovertext": [
            "goal"
           ],
           "ids": [
            "goal"
           ],
           "legendgroup": "goal",
           "marker": {
            "color": "#00cc96",
            "symbol": "circle"
           },
           "mode": "markers",
           "name": "goal",
           "orientation": "v",
           "showlegend": true,
           "type": "scatter",
           "x": {
            "bdata": "Qw==",
            "dtype": "i1"
           },
           "xaxis": "x",
           "y": {
            "bdata": "BQ==",
            "dtype": "i1"
           },
           "yaxis": "y"
          },
          {
           "customdata": [
            [
             "Type: giveaway<br>Period: 1<br>Time: 03:08"
            ]
           ],
           "hovertemplate": "<b>%{hovertext}</b><br><br>type_desc_key=giveaway<br>frame=1-3<br>hover_text=%{customdata[0]}<extra></extra>",
           "hovertext": [
            "giveaway"
           ],
           "ids": [
            "giveaway"
           ],
           "legendgroup": "giveaway",
           "marker": {
            "color": "#ab63fa",
            "symbol": "circle"
           },
           "mode": "markers",
           "name": "giveaway",
           "orientation": "v",
           "showlegend": true,
           "type": "scatter",
           "x": {
            "bdata": "HQ==",
            "dtype": "i1"
           },
           "xaxis": "x",
           "y": {
            "bdata": "6g==",
            "dtype": "i1"
           },
           "yaxis": "y"
          }
         ],
         "name": "1-3"
        },
        {
         "data": [
          {
           "customdata": [
            [
             "Type: blocked-shot<br>Period: 1<br>Time: 04:54"
            ],
            [
             "Type: blocked-shot<br>Period: 1<br>Time: 04:58"
            ]
           ],
           "hovertemplate": "<b>%{hovertext}</b><br><br>type_desc_key=blocked-shot<br>frame=1-4<br>hover_text=%{customdata[0]}<extra></extra>",
           "hovertext": [
            "blocked-shot",
            "blocked-shot"
           ],
           "ids": [
            "blocked-shot",
            "blocked-shot"
           ],
           "legendgroup": "blocked-shot",
           "marker": {
            "color": "#FFA15A",
            "symbol": "circle"
           },
           "mode": "markers",
           "name": "blocked-shot",
           "orientation": "v",
           "showlegend": true,
           "type": "scatter",
           "x": {
            "bdata": "RSc=",
            "dtype": "i1"
           },
           "xaxis": "x",
           "y": {
            "bdata": "CAE=",
            "dtype": "i1"
           },
           "yaxis": "y"
          }
         ],
         "name": "1-4"
        },
        {
         "data": [
          {
           "customdata": [
            [
             "Type: giveaway<br>Period: 1<br>Time: 05:17"
            ]
           ],
           "hovertemplate": "<b>%{hovertext}</b><br><br>type_desc_key=giveaway<br>frame=1-5<br>hover_text=%{customdata[0]}<extra></extra>",
           "hovertext": [
            "giveaway"
           ],
           "ids": [
            "giveaway"
           ],
           "legendgroup": "giveaway",
           "marker": {
            "color": "#ab63fa",
            "symbol": "circle"
           },
           "mode": "markers",
           "name": "giveaway",
           "orientation": "v",
           "showlegend": true,
           "type": "scatter",
           "x": {
            "bdata": "RA==",
            "dtype": "i1"
           },
           "xaxis": "x",
           "y": {
            "bdata": "6A==",
            "dtype": "i1"
           },
           "yaxis": "y"
          },
          {
           "customdata": [
            [
             "Type: blocked-shot<br>Period: 1<br>Time: 05:29"
            ]
           ],
           "hovertemplate": "<b>%{hovertext}</b><br><br>type_desc_key=blocked-shot<br>frame=1-5<br>hover_text=%{customdata[0]}<extra></extra>",
           "hovertext": [
            "blocked-shot"
           ],
           "ids": [
            "blocked-shot"
           ],
           "legendgroup": "blocked-shot",
           "marker": {
            "color": "#FFA15A",
            "symbol": "circle"
           },
           "mode": "markers",
           "name": "blocked-shot",
           "orientation": "v",
           "showlegend": true,
           "type": "scatter",
           "x": {
            "bdata": "Tw==",
            "dtype": "i1"
           },
           "xaxis": "x",
           "y": {
            "bdata": "9w==",
            "dtype": "i1"
           },
           "yaxis": "y"
          },
          {
           "customdata": [
            [
             "Type: missed-shot<br>Period: 1<br>Time: 05:48"
            ]
           ],
           "hovertemplate": "<b>%{hovertext}</b><br><br>type_desc_key=missed-shot<br>frame=1-5<br>hover_text=%{customdata[0]}<extra></extra>",
           "hovertext": [
            "missed-shot"
           ],
           "ids": [
            "missed-shot"
           ],
           "legendgroup": "missed-shot",
           "marker": {
            "color": "#19d3f3",
            "symbol": "circle"
           },
           "mode": "markers",
           "name": "missed-shot",
           "orientation": "v",
           "showlegend": true,
           "type": "scatter",
           "x": {
            "bdata": "OQ==",
            "dtype": "i1"
           },
           "xaxis": "x",
           "y": {
            "bdata": "CA==",
            "dtype": "i1"
           },
           "yaxis": "y"
          },
          {
           "customdata": [
            [
             "Type: shot-on-goal<br>Period: 1<br>Time: 05:26"
            ],
            [
             "Type: shot-on-goal<br>Period: 1<br>Time: 05:50"
            ]
           ],
           "hovertemplate": "<b>%{hovertext}</b><br><br>type_desc_key=shot-on-goal<br>frame=1-5<br>hover_text=%{customdata[0]}<extra></extra>",
           "hovertext": [
            "shot-on-goal",
            "shot-on-goal"
           ],
           "ids": [
            "shot-on-goal",
            "shot-on-goal"
           ],
           "legendgroup": "shot-on-goal",
           "marker": {
            "color": "#FF6692",
            "symbol": "circle"
           },
           "mode": "markers",
           "name": "shot-on-goal",
           "orientation": "v",
           "showlegend": true,
           "type": "scatter",
           "x": {
            "bdata": "N1A=",
            "dtype": "i1"
           },
           "xaxis": "x",
           "y": {
            "bdata": "5wo=",
            "dtype": "i1"
           },
           "yaxis": "y"
          }
         ],
         "name": "1-5"
        },
        {
         "data": [
          {
           "customdata": [
            [
             "Type: blocked-shot<br>Period: 1<br>Time: 06:53"
            ]
           ],
           "hovertemplate": "<b>%{hovertext}</b><br><br>type_desc_key=blocked-shot<br>frame=1-6<br>hover_text=%{customdata[0]}<extra></extra>",
           "hovertext": [
            "blocked-shot"
           ],
           "ids": [
            "blocked-shot"
           ],
           "legendgroup": "blocked-shot",
           "marker": {
            "color": "#FFA15A",
            "symbol": "circle"
           },
           "mode": "markers",
           "name": "blocked-shot",
           "orientation": "v",
           "showlegend": true,
           "type": "scatter",
           "x": {
            "bdata": "wQ==",
            "dtype": "i1"
           },
           "xaxis": "x",
           "y": {
            "bdata": "+g==",
            "dtype": "i1"
           },
           "yaxis": "y"
          },
          {
           "customdata": [
            [
             "Type: shot-on-goal<br>Period: 1<br>Time: 06:27"
            ],
            [
             "Type: shot-on-goal<br>Period: 1<br>Time: 06:35"
            ]
           ],
           "hovertemplate": "<b>%{hovertext}</b><br><br>type_desc_key=shot-on-goal<br>frame=1-6<br>hover_text=%{customdata[0]}<extra></extra>",
           "hovertext": [
            "shot-on-goal",
            "shot-on-goal"
           ],
           "ids": [
            "shot-on-goal",
            "shot-on-goal"
           ],
           "legendgroup": "shot-on-goal",
           "marker": {
            "color": "#FF6692",
            "symbol": "circle"
           },
           "mode": "markers",
           "name": "shot-on-goal",
           "orientation": "v",
           "showlegend": true,
           "type": "scatter",
           "x": {
            "bdata": "9a8=",
            "dtype": "i1"
           },
           "xaxis": "x",
           "y": {
            "bdata": "3fM=",
            "dtype": "i1"
           },
           "yaxis": "y"
          }
         ],
         "name": "1-6"
        },
        {
         "data": [
          {
           "customdata": [
            [
             "Type: giveaway<br>Period: 1<br>Time: 07:54"
            ]
           ],
           "hovertemplate": "<b>%{hovertext}</b><br><br>type_desc_key=giveaway<br>frame=1-7<br>hover_text=%{customdata[0]}<extra></extra>",
           "hovertext": [
            "giveaway"
           ],
           "ids": [
            "giveaway"
           ],
           "legendgroup": "giveaway",
           "marker": {
            "color": "#ab63fa",
            "symbol": "circle"
           },
           "mode": "markers",
           "name": "giveaway",
           "orientation": "v",
           "showlegend": true,
           "type": "scatter",
           "x": {
            "bdata": "Qw==",
            "dtype": "i1"
           },
           "xaxis": "x",
           "y": {
            "bdata": "Bg==",
            "dtype": "i1"
           },
           "yaxis": "y"
          }
         ],
         "name": "1-7"
        },
        {
         "data": [
          {
           "customdata": [
            [
             "Type: hit<br>Period: 1<br>Time: 08:37"
            ]
           ],
           "hovertemplate": "<b>%{hovertext}</b><br><br>type_desc_key=hit<br>frame=1-8<br>hover_text=%{customdata[0]}<extra></extra>",
           "hovertext": [
            "hit"
           ],
           "ids": [
            "hit"
           ],
           "legendgroup": "hit",
           "marker": {
            "color": "#EF553B",
            "symbol": "circle"
           },
           "mode": "markers",
           "name": "hit",
           "orientation": "v",
           "showlegend": true,
           "type": "scatter",
           "x": {
            "bdata": "XQ==",
            "dtype": "i1"
           },
           "xaxis": "x",
           "y": {
            "bdata": "5w==",
            "dtype": "i1"
           },
           "yaxis": "y"
          },
          {
           "customdata": [
            [
             "Type: blocked-shot<br>Period: 1<br>Time: 08:00"
            ],
            [
             "Type: blocked-shot<br>Period: 1<br>Time: 08:58"
            ]
           ],
           "hovertemplate": "<b>%{hovertext}</b><br><br>type_desc_key=blocked-shot<br>frame=1-8<br>hover_text=%{customdata[0]}<extra></extra>",
           "hovertext": [
            "blocked-shot",
            "blocked-shot"
           ],
           "ids": [
            "blocked-shot",
            "blocked-shot"
           ],
           "legendgroup": "blocked-shot",
           "marker": {
            "color": "#FFA15A",
            "symbol": "circle"
           },
           "mode": "markers",
           "name": "blocked-shot",
           "orientation": "v",
           "showlegend": true,
           "type": "scatter",
           "x": {
            "bdata": "zTs=",
            "dtype": "i1"
           },
           "xaxis": "x",
           "y": {
            "bdata": "7/A=",
            "dtype": "i1"
           },
           "yaxis": "y"
          },
          {
           "customdata": [
            [
             "Type: missed-shot<br>Period: 1<br>Time: 08:50"
            ]
           ],
           "hovertemplate": "<b>%{hovertext}</b><br><br>type_desc_key=missed-shot<br>frame=1-8<br>hover_text=%{customdata[0]}<extra></extra>",
           "hovertext": [
            "missed-shot"
           ],
           "ids": [
            "missed-shot"
           ],
           "legendgroup": "missed-shot",
           "marker": {
            "color": "#19d3f3",
            "symbol": "circle"
           },
           "mode": "markers",
           "name": "missed-shot",
           "orientation": "v",
           "showlegend": true,
           "type": "scatter",
           "x": {
            "bdata": "RA==",
            "dtype": "i1"
           },
           "xaxis": "x",
           "y": {
            "bdata": "2Q==",
            "dtype": "i1"
           },
           "yaxis": "y"
          }
         ],
         "name": "1-8"
        },
        {
         "data": [
          {
           "customdata": [
            [
             "Type: hit<br>Period: 1<br>Time: 09:45"
            ]
           ],
           "hovertemplate": "<b>%{hovertext}</b><br><br>type_desc_key=hit<br>frame=1-9<br>hover_text=%{customdata[0]}<extra></extra>",
           "hovertext": [
            "hit"
           ],
           "ids": [
            "hit"
           ],
           "legendgroup": "hit",
           "marker": {
            "color": "#EF553B",
            "symbol": "circle"
           },
           "mode": "markers",
           "name": "hit",
           "orientation": "v",
           "showlegend": true,
           "type": "scatter",
           "x": {
            "bdata": "Ww==",
            "dtype": "i1"
           },
           "xaxis": "x",
           "y": {
            "bdata": "4w==",
            "dtype": "i1"
           },
           "yaxis": "y"
          },
          {
           "customdata": [
            [
             "Type: giveaway<br>Period: 1<br>Time: 09:37"
            ]
           ],
           "hovertemplate": "<b>%{hovertext}</b><br><br>type_desc_key=giveaway<br>frame=1-9<br>hover_text=%{customdata[0]}<extra></extra>",
           "hovertext": [
            "giveaway"
           ],
           "ids": [
            "giveaway"
           ],
           "legendgroup": "giveaway",
           "marker": {
            "color": "#ab63fa",
            "symbol": "circle"
           },
           "mode": "markers",
           "name": "giveaway",
           "orientation": "v",
           "showlegend": true,
           "type": "scatter",
           "x": {
            "bdata": "7A==",
            "dtype": "i1"
           },
           "xaxis": "x",
           "y": {
            "bdata": "8Q==",
            "dtype": "i1"
           },
           "yaxis": "y"
          },
          {
           "customdata": [
            [
             "Type: shot-on-goal<br>Period: 1<br>Time: 09:40"
            ]
           ],
           "hovertemplate": "<b>%{hovertext}</b><br><br>type_desc_key=shot-on-goal<br>frame=1-9<br>hover_text=%{customdata[0]}<extra></extra>",
           "hovertext": [
            "shot-on-goal"
           ],
           "ids": [
            "shot-on-goal"
           ],
           "legendgroup": "shot-on-goal",
           "marker": {
            "color": "#FF6692",
            "symbol": "circle"
           },
           "mode": "markers",
           "name": "shot-on-goal",
           "orientation": "v",
           "showlegend": true,
           "type": "scatter",
           "x": {
            "bdata": "PA==",
            "dtype": "i1"
           },
           "xaxis": "x",
           "y": {
            "bdata": "7g==",
            "dtype": "i1"
           },
           "yaxis": "y"
          }
         ],
         "name": "1-9"
        },
        {
         "data": [
          {
           "customdata": [
            [
             "Type: giveaway<br>Period: 1<br>Time: 10:25"
            ]
           ],
           "hovertemplate": "<b>%{hovertext}</b><br><br>type_desc_key=giveaway<br>frame=1-10<br>hover_text=%{customdata[0]}<extra></extra>",
           "hovertext": [
            "giveaway"
           ],
           "ids": [
            "giveaway"
           ],
           "legendgroup": "giveaway",
           "marker": {
            "color": "#ab63fa",
            "symbol": "circle"
           },
           "mode": "markers",
           "name": "giveaway",
           "orientation": "v",
           "showlegend": true,
           "type": "scatter",
           "x": {
            "bdata": "Hg==",
            "dtype": "i1"
           },
           "xaxis": "x",
           "y": {
            "bdata": "Gg==",
            "dtype": "i1"
           },
           "yaxis": "y"
          }
         ],
         "name": "1-10"
        },
        {
         "data": [
          {
           "customdata": [
            [
             "Type: giveaway<br>Period: 1<br>Time: 11:12"
            ],
            [
             "Type: giveaway<br>Period: 1<br>Time: 11:21"
            ]
           ],
           "hovertemplate": "<b>%{hovertext}</b><br><br>type_desc_key=giveaway<br>frame=1-11<br>hover_text=%{customdata[0]}<extra></extra>",
           "hovertext": [
            "giveaway",
            "giveaway"
           ],
           "ids": [
            "giveaway",
            "giveaway"
           ],
           "legendgroup": "giveaway",
           "marker": {
            "color": "#ab63fa",
            "symbol": "circle"
           },
           "mode": "markers",
           "name": "giveaway",
           "orientation": "v",
           "showlegend": true,
           "type": "scatter",
           "x": {
            "bdata": "R7w=",
            "dtype": "i1"
           },
           "xaxis": "x",
           "y": {
            "bdata": "ASQ=",
            "dtype": "i1"
           },
           "yaxis": "y"
          },
          {
           "customdata": [
            [
             "Type: shot-on-goal<br>Period: 1<br>Time: 11:51"
            ]
           ],
           "hovertemplate": "<b>%{hovertext}</b><br><br>type_desc_key=shot-on-goal<br>frame=1-11<br>hover_text=%{customdata[0]}<extra></extra>",
           "hovertext": [
            "shot-on-goal"
           ],
           "ids": [
            "shot-on-goal"
           ],
           "legendgroup": "shot-on-goal",
           "marker": {
            "color": "#FF6692",
            "symbol": "circle"
           },
           "mode": "markers",
           "name": "shot-on-goal",
           "orientation": "v",
           "showlegend": true,
           "type": "scatter",
           "x": {
            "bdata": "Rg==",
            "dtype": "i1"
           },
           "xaxis": "x",
           "y": {
            "bdata": "DA==",
            "dtype": "i1"
           },
           "yaxis": "y"
          }
         ],
         "name": "1-11"
        },
        {
         "data": [
          {
           "customdata": [
            [
             "Type: missed-shot<br>Period: 1<br>Time: 13:06"
            ],
            [
             "Type: missed-shot<br>Period: 1<br>Time: 13:13"
            ]
           ],
           "hovertemplate": "<b>%{hovertext}</b><br><br>type_desc_key=missed-shot<br>frame=1-13<br>hover_text=%{customdata[0]}<extra></extra>",
           "hovertext": [
            "missed-shot",
            "missed-shot"
           ],
           "ids": [
            "missed-shot",
            "missed-shot"
           ],
           "legendgroup": "missed-shot",
           "marker": {
            "color": "#19d3f3",
            "symbol": "circle"
           },
           "mode": "markers",
           "name": "missed-shot",
           "orientation": "v",
           "showlegend": true,
           "type": "scatter",
           "x": {
            "bdata": "GjY=",
            "dtype": "i1"
           },
           "xaxis": "x",
           "y": {
            "bdata": "2OU=",
            "dtype": "i1"
           },
           "yaxis": "y"
          },
          {
           "customdata": [
            [
             "Type: shot-on-goal<br>Period: 1<br>Time: 13:59"
            ]
           ],
           "hovertemplate": "<b>%{hovertext}</b><br><br>type_desc_key=shot-on-goal<br>frame=1-13<br>hover_text=%{customdata[0]}<extra></extra>",
           "hovertext": [
            "shot-on-goal"
           ],
           "ids": [
            "shot-on-goal"
           ],
           "legendgroup": "shot-on-goal",
           "marker": {
            "color": "#FF6692",
            "symbol": "circle"
           },
           "mode": "markers",
           "name": "shot-on-goal",
           "orientation": "v",
           "showlegend": true,
           "type": "scatter",
           "x": {
            "bdata": "JQ==",
            "dtype": "i1"
           },
           "xaxis": "x",
           "y": {
            "bdata": "GQ==",
            "dtype": "i1"
           },
           "yaxis": "y"
          },
          {
           "customdata": [
            [
             "Type: takeaway<br>Period: 1<br>Time: 13:21"
            ]
           ],
           "hovertemplate": "<b>%{hovertext}</b><br><br>type_desc_key=takeaway<br>frame=1-13<br>hover_text=%{customdata[0]}<extra></extra>",
           "hovertext": [
            "takeaway"
           ],
           "ids": [
            "takeaway"
           ],
           "legendgroup": "takeaway",
           "marker": {
            "color": "#B6E880",
            "symbol": "circle"
           },
           "mode": "markers",
           "name": "takeaway",
           "orientation": "v",
           "showlegend": true,
           "type": "scatter",
           "x": {
            "bdata": "QA==",
            "dtype": "i1"
           },
           "xaxis": "x",
           "y": {
            "bdata": "Fw==",
            "dtype": "i1"
           },
           "yaxis": "y"
          }
         ],
         "name": "1-13"
        },
        {
         "data": [
          {
           "customdata": [
            [
             "Type: blocked-shot<br>Period: 1<br>Time: 16:44"
            ]
           ],
           "hovertemplate": "<b>%{hovertext}</b><br><br>type_desc_key=blocked-shot<br>frame=1-16<br>hover_text=%{customdata[0]}<extra></extra>",
           "hovertext": [
            "blocked-shot"
           ],
           "ids": [
            "blocked-shot"
           ],
           "legendgroup": "blocked-shot",
           "marker": {
            "color": "#FFA15A",
            "symbol": "circle"
           },
           "mode": "markers",
           "name": "blocked-shot",
           "orientation": "v",
           "showlegend": true,
           "type": "scatter",
           "x": {
            "bdata": "sA==",
            "dtype": "i1"
           },
           "xaxis": "x",
           "y": {
            "bdata": "AA==",
            "dtype": "i1"
           },
           "yaxis": "y"
          },
          {
           "customdata": [
            [
             "Type: missed-shot<br>Period: 1<br>Time: 16:43"
            ]
           ],
           "hovertemplate": "<b>%{hovertext}</b><br><br>type_desc_key=missed-shot<br>frame=1-16<br>hover_text=%{customdata[0]}<extra></extra>",
           "hovertext": [
            "missed-shot"
           ],
           "ids": [
            "missed-shot"
           ],
           "legendgroup": "missed-shot",
           "marker": {
            "color": "#19d3f3",
            "symbol": "circle"
           },
           "mode": "markers",
           "name": "missed-shot",
           "orientation": "v",
           "showlegend": true,
           "type": "scatter",
           "x": {
            "bdata": "qQ==",
            "dtype": "i1"
           },
           "xaxis": "x",
           "y": {
            "bdata": "Cg==",
            "dtype": "i1"
           },
           "yaxis": "y"
          }
         ],
         "name": "1-16"
        },
        {
         "data": [
          {
           "customdata": [
            [
             "Type: blocked-shot<br>Period: 1<br>Time: 17:15"
            ],
            [
             "Type: blocked-shot<br>Period: 1<br>Time: 17:32"
            ]
           ],
           "hovertemplate": "<b>%{hovertext}</b><br><br>type_desc_key=blocked-shot<br>frame=1-17<br>hover_text=%{customdata[0]}<extra></extra>",
           "hovertext": [
            "blocked-shot",
            "blocked-shot"
           ],
           "ids": [
            "blocked-shot",
            "blocked-shot"
           ],
           "legendgroup": "blocked-shot",
           "marker": {
            "color": "#FFA15A",
            "symbol": "circle"
           },
           "mode": "markers",
           "name": "blocked-shot",
           "orientation": "v",
           "showlegend": true,
           "type": "scatter",
           "x": {
            "bdata": "qq8=",
            "dtype": "i1"
           },
           "xaxis": "x",
           "y": {
            "bdata": "Avg=",
            "dtype": "i1"
           },
           "yaxis": "y"
          }
         ],
         "name": "1-17"
        },
        {
         "data": [
          {
           "customdata": [
            [
             "Type: shot-on-goal<br>Period: 1<br>Time: 18:34"
            ]
           ],
           "hovertemplate": "<b>%{hovertext}</b><br><br>type_desc_key=shot-on-goal<br>frame=1-18<br>hover_text=%{customdata[0]}<extra></extra>",
           "hovertext": [
            "shot-on-goal"
           ],
           "ids": [
            "shot-on-goal"
           ],
           "legendgroup": "shot-on-goal",
           "marker": {
            "color": "#FF6692",
            "symbol": "circle"
           },
           "mode": "markers",
           "name": "shot-on-goal",
           "orientation": "v",
           "showlegend": true,
           "type": "scatter",
           "x": {
            "bdata": "rw==",
            "dtype": "i1"
           },
           "xaxis": "x",
           "y": {
            "bdata": "BA==",
            "dtype": "i1"
           },
           "yaxis": "y"
          }
         ],
         "name": "1-18"
        },
        {
         "data": [
          {
           "customdata": [
            [
             "Type: blocked-shot<br>Period: 1<br>Time: 19:25"
            ]
           ],
           "hovertemplate": "<b>%{hovertext}</b><br><br>type_desc_key=blocked-shot<br>frame=1-19<br>hover_text=%{customdata[0]}<extra></extra>",
           "hovertext": [
            "blocked-shot"
           ],
           "ids": [
            "blocked-shot"
           ],
           "legendgroup": "blocked-shot",
           "marker": {
            "color": "#FFA15A",
            "symbol": "circle"
           },
           "mode": "markers",
           "name": "blocked-shot",
           "orientation": "v",
           "showlegend": true,
           "type": "scatter",
           "x": {
            "bdata": "tA==",
            "dtype": "i1"
           },
           "xaxis": "x",
           "y": {
            "bdata": "Aw==",
            "dtype": "i1"
           },
           "yaxis": "y"
          },
          {
           "customdata": [
            [
             "Type: missed-shot<br>Period: 1<br>Time: 19:58"
            ]
           ],
           "hovertemplate": "<b>%{hovertext}</b><br><br>type_desc_key=missed-shot<br>frame=1-19<br>hover_text=%{customdata[0]}<extra></extra>",
           "hovertext": [
            "missed-shot"
           ],
           "ids": [
            "missed-shot"
           ],
           "legendgroup": "missed-shot",
           "marker": {
            "color": "#19d3f3",
            "symbol": "circle"
           },
           "mode": "markers",
           "name": "missed-shot",
           "orientation": "v",
           "showlegend": true,
           "type": "scatter",
           "x": {
            "bdata": "Lg==",
            "dtype": "i1"
           },
           "xaxis": "x",
           "y": {
            "bdata": "+Q==",
            "dtype": "i1"
           },
           "yaxis": "y"
          }
         ],
         "name": "1-19"
        },
        {
         "data": [
          {
           "customdata": [
            [
             "Type: period-end<br>Period: 1<br>Time: 20:00"
            ]
           ],
           "hovertemplate": "<b>%{hovertext}</b><br><br>type_desc_key=period-end<br>frame=1-20<br>hover_text=%{customdata[0]}<extra></extra>",
           "hovertext": [
            "period-end"
           ],
           "ids": [
            "period-end"
           ],
           "legendgroup": "period-end",
           "marker": {
            "color": "#FF97FF",
            "symbol": "circle"
           },
           "mode": "markers",
           "name": "period-end",
           "orientation": "v",
           "showlegend": true,
           "type": "scatter",
           "x": {
            "bdata": "/w==",
            "dtype": "i1"
           },
           "xaxis": "x",
           "y": {
            "bdata": "/w==",
            "dtype": "i1"
           },
           "yaxis": "y"
          }
         ],
         "name": "1-20"
        },
        {
         "data": [
          {
           "customdata": [
            [
             "Type: period-start<br>Period: 2<br>Time: 00:00"
            ]
           ],
           "hovertemplate": "<b>%{hovertext}</b><br><br>type_desc_key=period-start<br>frame=2-0<br>hover_text=%{customdata[0]}<extra></extra>",
           "hovertext": [
            "period-start"
           ],
           "ids": [
            "period-start"
           ],
           "legendgroup": "period-start",
           "marker": {
            "color": "#636efa",
            "symbol": "circle"
           },
           "mode": "markers",
           "name": "period-start",
           "orientation": "v",
           "showlegend": true,
           "type": "scatter",
           "x": {
            "bdata": "/w==",
            "dtype": "i1"
           },
           "xaxis": "x",
           "y": {
            "bdata": "/w==",
            "dtype": "i1"
           },
           "yaxis": "y"
          },
          {
           "customdata": [
            [
             "Type: hit<br>Period: 2<br>Time: 00:08"
            ]
           ],
           "hovertemplate": "<b>%{hovertext}</b><br><br>type_desc_key=hit<br>frame=2-0<br>hover_text=%{customdata[0]}<extra></extra>",
           "hovertext": [
            "hit"
           ],
           "ids": [
            "hit"
           ],
           "legendgroup": "hit",
           "marker": {
            "color": "#EF553B",
            "symbol": "circle"
           },
           "mode": "markers",
           "name": "hit",
           "orientation": "v",
           "showlegend": true,
           "type": "scatter",
           "x": {
            "bdata": "WQ==",
            "dtype": "i1"
           },
           "xaxis": "x",
           "y": {
            "bdata": "4g==",
            "dtype": "i1"
           },
           "yaxis": "y"
          },
          {
           "customdata": [
            [
             "Type: giveaway<br>Period: 2<br>Time: 00:45"
            ],
            [
             "Type: giveaway<br>Period: 2<br>Time: 00:49"
            ],
            [
             "Type: giveaway<br>Period: 2<br>Time: 00:49"
            ],
            [
             "Type: giveaway<br>Period: 2<br>Time: 00:51"
            ]
           ],
           "hovertemplate": "<b>%{hovertext}</b><br><br>type_desc_key=giveaway<br>frame=2-0<br>hover_text=%{customdata[0]}<extra></extra>",
           "hovertext": [
            "giveaway",
            "giveaway",
            "giveaway",
            "giveaway"
           ],
           "ids": [
            "giveaway",
            "giveaway",
            "giveaway",
            "giveaway"
           ],
           "legendgroup": "giveaway",
           "marker": {
            "color": "#ab63fa",
            "symbol": "circle"
           },
           "mode": "markers",
           "name": "giveaway",
           "orientation": "v",
           "showlegend": true,
           "type": "scatter",
           "x": {
            "bdata": "O7Ozzw==",
            "dtype": "i1"
           },
           "xaxis": "x",
           "y": {
            "bdata": "5QQEJg==",
            "dtype": "i1"
           },
           "yaxis": "y"
          },
          {
           "customdata": [
            [
             "Type: missed-shot<br>Period: 2<br>Time: 00:35"
            ]
           ],
           "hovertemplate": "<b>%{hovertext}</b><br><br>type_desc_key=missed-shot<br>frame=2-0<br>hover_text=%{customdata[0]}<extra></extra>",
           "hovertext": [
            "missed-shot"
           ],
           "ids": [
            "missed-shot"
           ],
           "legendgroup": "missed-shot",
           "marker": {
            "color": "#19d3f3",
            "symbol": "circle"
           },
           "mode": "markers",
           "name": "missed-shot",
           "orientation": "v",
           "showlegend": true,
           "type": "scatter",
           "x": {
            "bdata": "wQ==",
            "dtype": "i1"
           },
           "xaxis": "x",
           "y": {
            "bdata": "Ew==",
            "dtype": "i1"
           },
           "yaxis": "y"
          },
          {
           "customdata": [
            [
             "Type: shot-on-goal<br>Period: 2<br>Time: 00:29"
            ],
            [
             "Type: shot-on-goal<br>Period: 2<br>Time: 00:31"
            ],
            [
             "Type: shot-on-goal<br>Period: 2<br>Time: 00:32"
            ]
           ],
           "hovertemplate": "<b>%{hovertext}</b><br><br>type_desc_key=shot-on-goal<br>frame=2-0<br>hover_text=%{customdata[0]}<extra></extra>",
           "hovertext": [
            "shot-on-goal",
            "shot-on-goal",
            "shot-on-goal"
           ],
           "ids": [
            "shot-on-goal",
            "shot-on-goal",
            "shot-on-goal"
           ],
           "legendgroup": "shot-on-goal",
           "marker": {
            "color": "#FF6692",
            "symbol": "circle"
           },
           "mode": "markers",
           "name": "shot-on-goal",
           "orientation": "v",
           "showlegend": true,
           "type": "scatter",
           "x": {
            "bdata": "4q+q",
            "dtype": "i1"
           },
           "xaxis": "x",
           "y": {
            "bdata": "EAYG",
            "dtype": "i1"
           },
           "yaxis": "y"
          },
          {
           "customdata": [
            [
             "Type: takeaway<br>Period: 2<br>Time: 00:11"
            ],
            [
             "Type: takeaway<br>Period: 2<br>Time: 00:11"
            ]
           ],
           "hovertemplate": "<b>%{hovertext}</b><br><br>type_desc_key=takeaway<br>frame=2-0<br>hover_text=%{customdata[0]}<extra></extra>",
           "hovertext": [
            "takeaway",
            "takeaway"
           ],
           "ids": [
            "takeaway",
            "takeaway"
           ],
           "legendgroup": "takeaway",
           "marker": {
            "color": "#B6E880",
            "symbol": "circle"
           },
           "mode": "markers",
           "name": "takeaway",
           "orientation": "v",
           "showlegend": true,
           "type": "scatter",
           "x": {
            "bdata": "Ozs=",
            "dtype": "i1"
           },
           "xaxis": "x",
           "y": {
            "bdata": "5eU=",
            "dtype": "i1"
           },
           "yaxis": "y"
          }
         ],
         "name": "2-0"
        },
        {
         "data": [
          {
           "customdata": [
            [
             "Type: hit<br>Period: 2<br>Time: 01:08"
            ]
           ],
           "hovertemplate": "<b>%{hovertext}</b><br><br>type_desc_key=hit<br>frame=2-1<br>hover_text=%{customdata[0]}<extra></extra>",
           "hovertext": [
            "hit"
           ],
           "ids": [
            "hit"
           ],
           "legendgroup": "hit",
           "marker": {
            "color": "#EF553B",
            "symbol": "circle"
           },
           "mode": "markers",
           "name": "hit",
           "orientation": "v",
           "showlegend": true,
           "type": "scatter",
           "x": {
            "bdata": "Xg==",
            "dtype": "i1"
           },
           "xaxis": "x",
           "y": {
            "bdata": "5g==",
            "dtype": "i1"
           },
           "yaxis": "y"
          },
          {
           "customdata": [
            [
             "Type: giveaway<br>Period: 2<br>Time: 01:16"
            ]
           ],
           "hovertemplate": "<b>%{hovertext}</b><br><br>type_desc_key=giveaway<br>frame=2-1<br>hover_text=%{customdata[0]}<extra></extra>",
           "hovertext": [
            "giveaway"
           ],
           "ids": [
            "giveaway"
           ],
           "legendgroup": "giveaway",
           "marker": {
            "color": "#ab63fa",
            "symbol": "circle"
           },
           "mode": "markers",
           "name": "giveaway",
           "orientation": "v",
           "showlegend": true,
           "type": "scatter",
           "x": {
            "bdata": "1Q==",
            "dtype": "i1"
           },
           "xaxis": "x",
           "y": {
            "bdata": "Dw==",
            "dtype": "i1"
           },
           "yaxis": "y"
          },
          {
           "customdata": [
            [
             "Type: blocked-shot<br>Period: 2<br>Time: 01:43"
            ],
            [
             "Type: blocked-shot<br>Period: 2<br>Time: 01:57"
            ]
           ],
           "hovertemplate": "<b>%{hovertext}</b><br><br>type_desc_key=blocked-shot<br>frame=2-1<br>hover_text=%{customdata[0]}<extra></extra>",
           "hovertext": [
            "blocked-shot",
            "blocked-shot"
           ],
           "ids": [
            "blocked-shot",
            "blocked-shot"
           ],
           "legendgroup": "blocked-shot",
           "marker": {
            "color": "#FFA15A",
            "symbol": "circle"
           },
           "mode": "markers",
           "name": "blocked-shot",
           "orientation": "v",
           "showlegend": true,
           "type": "scatter",
           "x": {
            "bdata": "ua4=",
            "dtype": "i1"
           },
           "xaxis": "x",
           "y": {
            "bdata": "B/s=",
            "dtype": "i1"
           },
           "yaxis": "y"
          },
          {
           "customdata": [
            [
             "Type: missed-shot<br>Period: 2<br>Time: 01:45"
            ]
           ],
           "hovertemplate": "<b>%{hovertext}</b><br><br>type_desc_key=missed-shot<br>frame=2-1<br>hover_text=%{customdata[0]}<extra></extra>",
           "hovertext": [
            "missed-shot"
           ],
           "ids": [
            "missed-shot"
           ],
           "legendgroup": "missed-shot",
           "marker": {
            "color": "#19d3f3",
            "symbol": "circle"
           },
           "mode": "markers",
           "name": "missed-shot",
           "orientation": "v",
           "showlegend": true,
           "type": "scatter",
           "x": {
            "bdata": "xg==",
            "dtype": "i1"
           },
           "xaxis": "x",
           "y": {
            "bdata": "4Q==",
            "dtype": "i1"
           },
           "yaxis": "y"
          }
         ],
         "name": "2-1"
        },
        {
         "data": [
          {
           "customdata": [
            [
             "Type: hit<br>Period: 2<br>Time: 02:22"
            ]
           ],
           "hovertemplate": "<b>%{hovertext}</b><br><br>type_desc_key=hit<br>frame=2-2<br>hover_text=%{customdata[0]}<extra></extra>",
           "hovertext": [
            "hit"
           ],
           "ids": [
            "hit"
           ],
           "legendgroup": "hit",
           "marker": {
            "color": "#EF553B",
            "symbol": "circle"
           },
           "mode": "markers",
           "name": "hit",
           "orientation": "v",
           "showlegend": true,
           "type": "scatter",
           "x": {
            "bdata": "Xg==",
            "dtype": "i1"
           },
           "xaxis": "x",
           "y": {
            "bdata": "5g==",
            "dtype": "i1"
           },
           "yaxis": "y"
          },
          {
           "customdata": [
            [
             "Type: missed-shot<br>Period: 2<br>Time: 02:43"
            ]
           ],
           "hovertemplate": "<b>%{hovertext}</b><br><br>type_desc_key=missed-shot<br>frame=2-2<br>hover_text=%{customdata[0]}<extra></extra>",
           "hovertext": [
            "missed-shot"
           ],
           "ids": [
            "missed-shot"
           ],
           "legendgroup": "missed-shot",
           "marker": {
            "color": "#19d3f3",
            "symbol": "circle"
           },
           "mode": "markers",
           "name": "missed-shot",
           "orientation": "v",
           "showlegend": true,
           "type": "scatter",
           "x": {
            "bdata": "Tw==",
            "dtype": "i1"
           },
           "xaxis": "x",
           "y": {
            "bdata": "9A==",
            "dtype": "i1"
           },
           "yaxis": "y"
          }
         ],
         "name": "2-2"
        },
        {
         "data": [
          {
           "customdata": [
            [
             "Type: hit<br>Period: 2<br>Time: 03:18"
            ]
           ],
           "hovertemplate": "<b>%{hovertext}</b><br><br>type_desc_key=hit<br>frame=2-3<br>hover_text=%{customdata[0]}<extra></extra>",
           "hovertext": [
            "hit"
           ],
           "ids": [
            "hit"
           ],
           "legendgroup": "hit",
           "marker": {
            "color": "#EF553B",
            "symbol": "circle"
           },
           "mode": "markers",
           "name": "hit",
           "orientation": "v",
           "showlegend": true,
           "type": "scatter",
           "x": {
            "bdata": "sw==",
            "dtype": "i1"
           },
           "xaxis": "x",
           "y": {
            "bdata": "2Q==",
            "dtype": "i1"
           },
           "yaxis": "y"
          },
          {
           "customdata": [
            [
             "Type: shot-on-goal<br>Period: 2<br>Time: 03:35"
            ],
            [
             "Type: shot-on-goal<br>Period: 2<br>Time: 03:45"
            ],
            [
             "Type: shot-on-goal<br>Period: 2<br>Time: 03:46"
            ]
           ],
           "hovertemplate": "<b>%{hovertext}</b><br><br>type_desc_key=shot-on-goal<br>frame=2-3<br>hover_text=%{customdata[0]}<extra></extra>",
           "hovertext": [
            "shot-on-goal",
            "shot-on-goal",
            "shot-on-goal"
           ],
           "ids": [
            "shot-on-goal",
            "shot-on-goal",
            "shot-on-goal"
           ],
           "legendgroup": "shot-on-goal",
           "marker": {
            "color": "#FF6692",
            "symbol": "circle"
           },
           "mode": "markers",
           "name": "shot-on-goal",
           "orientation": "v",
           "showlegend": true,
           "type": "scatter",
           "x": {
            "bdata": "KVNW",
            "dtype": "i1"
           },
           "xaxis": "x",
           "y": {
            "bdata": "HfX8",
            "dtype": "i1"
           },
           "yaxis": "y"
          },
          {
           "customdata": [
            [
             "Type: penalty<br>Period: 2<br>Time: 03:59"
            ]
           ],
           "hovertemplate": "<b>%{hovertext}</b><br><br>type_desc_key=penalty<br>frame=2-3<br>hover_text=%{customdata[0]}<extra></extra>",
           "hovertext": [
            "penalty"
           ],
           "ids": [
            "penalty"
           ],
           "legendgroup": "penalty",
           "marker": {
            "color": "#FECB52",
            "symbol": "circle"
           },
           "mode": "markers",
           "name": "penalty",
           "orientation": "v",
           "showlegend": true,
           "type": "scatter",
           "x": {
            "bdata": "7A==",
            "dtype": "i1"
           },
           "xaxis": "x",
           "y": {
            "bdata": "JA==",
            "dtype": "i1"
           },
           "yaxis": "y"
          }
         ],
         "name": "2-3"
        },
        {
         "data": [
          {
           "customdata": [
            [
             "Type: blocked-shot<br>Period: 2<br>Time: 04:52"
            ]
           ],
           "hovertemplate": "<b>%{hovertext}</b><br><br>type_desc_key=blocked-shot<br>frame=2-4<br>hover_text=%{customdata[0]}<extra></extra>",
           "hovertext": [
            "blocked-shot"
           ],
           "ids": [
            "blocked-shot"
           ],
           "legendgroup": "blocked-shot",
           "marker": {
            "color": "#FFA15A",
            "symbol": "circle"
           },
           "mode": "markers",
           "name": "blocked-shot",
           "orientation": "v",
           "showlegend": true,
           "type": "scatter",
           "x": {
            "bdata": "uw==",
            "dtype": "i1"
           },
           "xaxis": "x",
           "y": {
            "bdata": "Dg==",
            "dtype": "i1"
           },
           "yaxis": "y"
          },
          {
           "customdata": [
            [
             "Type: shot-on-goal<br>Period: 2<br>Time: 04:35"
            ],
            [
             "Type: shot-on-goal<br>Period: 2<br>Time: 04:42"
            ]
           ],
           "hovertemplate": "<b>%{hovertext}</b><br><br>type_desc_key=shot-on-goal<br>frame=2-4<br>hover_text=%{customdata[0]}<extra></extra>",
           "hovertext": [
            "shot-on-goal",
            "shot-on-goal"
           ],
           "ids": [
            "shot-on-goal",
            "shot-on-goal"
           ],
           "legendgroup": "shot-on-goal",
           "marker": {
            "color": "#FF6692",
            "symbol": "circle"
           },
           "mode": "markers",
           "name": "shot-on-goal",
           "orientation": "v",
           "showlegend": true,
           "type": "scatter",
           "x": {
            "bdata": "y7k=",
            "dtype": "i1"
           },
           "xaxis": "x",
           "y": {
            "bdata": "9O4=",
            "dtype": "i1"
           },
           "yaxis": "y"
          }
         ],
         "name": "2-4"
        },
        {
         "data": [
          {
           "customdata": [
            [
             "Type: hit<br>Period: 2<br>Time: 05:43"
            ]
           ],
           "hovertemplate": "<b>%{hovertext}</b><br><br>type_desc_key=hit<br>frame=2-5<br>hover_text=%{customdata[0]}<extra></extra>",
           "hovertext": [
            "hit"
           ],
           "ids": [
            "hit"
           ],
           "legendgroup": "hit",
           "marker": {
            "color": "#EF553B",
            "symbol": "circle"
           },
           "mode": "markers",
           "name": "hit",
           "orientation": "v",
           "showlegend": true,
           "type": "scatter",
           "x": {
            "bdata": "Vw==",
            "dtype": "i1"
           },
           "xaxis": "x",
           "y": {
            "bdata": "Iw==",
            "dtype": "i1"
           },
           "yaxis": "y"
          },
          {
           "customdata": [
            [
             "Type: shot-on-goal<br>Period: 2<br>Time: 05:31"
            ]
           ],
           "hovertemplate": "<b>%{hovertext}</b><br><br>type_desc_key=shot-on-goal<br>frame=2-5<br>hover_text=%{customdata[0]}<extra></extra>",
           "hovertext": [
            "shot-on-goal"
           ],
           "ids": [
            "shot-on-goal"
           ],
           "legendgroup": "shot-on-goal",
           "marker": {
            "color": "#FF6692",
            "symbol": "circle"
           },
           "mode": "markers",
           "name": "shot-on-goal",
           "orientation": "v",
           "showlegend": true,
           "type": "scatter",
           "x": {
            "bdata": "rQ==",
            "dtype": "i1"
           },
           "xaxis": "x",
           "y": {
            "bdata": "Bg==",
            "dtype": "i1"
           },
           "yaxis": "y"
          },
          {
           "customdata": [
            [
             "Type: takeaway<br>Period: 2<br>Time: 05:00"
            ]
           ],
           "hovertemplate": "<b>%{hovertext}</b><br><br>type_desc_key=takeaway<br>frame=2-5<br>hover_text=%{customdata[0]}<extra></extra>",
           "hovertext": [
            "takeaway"
           ],
           "ids": [
            "takeaway"
           ],
           "legendgroup": "takeaway",
           "marker": {
            "color": "#B6E880",
            "symbol": "circle"
           },
           "mode": "markers",
           "name": "takeaway",
           "orientation": "v",
           "showlegend": true,
           "type": "scatter",
           "x": {
            "bdata": "5Q==",
            "dtype": "i1"
           },
           "xaxis": "x",
           "y": {
            "bdata": "2w==",
            "dtype": "i1"
           },
           "yaxis": "y"
          }
         ],
         "name": "2-5"
        },
        {
         "data": [
          {
           "customdata": [
            [
             "Type: hit<br>Period: 2<br>Time: 06:43"
            ]
           ],
           "hovertemplate": "<b>%{hovertext}</b><br><br>type_desc_key=hit<br>frame=2-6<br>hover_text=%{customdata[0]}<extra></extra>",
           "hovertext": [
            "hit"
           ],
           "ids": [
            "hit"
           ],
           "legendgroup": "hit",
           "marker": {
            "color": "#EF553B",
            "symbol": "circle"
           },
           "mode": "markers",
           "name": "hit",
           "orientation": "v",
           "showlegend": true,
           "type": "scatter",
           "x": {
            "bdata": "QA==",
            "dtype": "i1"
           },
           "xaxis": "x",
           "y": {
            "bdata": "2g==",
            "dtype": "i1"
           },
           "yaxis": "y"
          },
          {
           "customdata": [
            [
             "Type: giveaway<br>Period: 2<br>Time: 06:43"
            ]
           ],
           "hovertemplate": "<b>%{hovertext}</b><br><br>type_desc_key=giveaway<br>frame=2-6<br>hover_text=%{customdata[0]}<extra></extra>",
           "hovertext": [
            "giveaway"
           ],
           "ids": [
            "giveaway"
           ],
           "legendgroup": "giveaway",
           "marker": {
            "color": "#ab63fa",
            "symbol": "circle"
           },
           "mode": "markers",
           "name": "giveaway",
           "orientation": "v",
           "showlegend": true,
           "type": "scatter",
           "x": {
            "bdata": "EA==",
            "dtype": "i1"
           },
           "xaxis": "x",
           "y": {
            "bdata": "2Q==",
            "dtype": "i1"
           },
           "yaxis": "y"
          },
          {
           "customdata": [
            [
             "Type: blocked-shot<br>Period: 2<br>Time: 06:22"
            ]
           ],
           "hovertemplate": "<b>%{hovertext}</b><br><br>type_desc_key=blocked-shot<br>frame=2-6<br>hover_text=%{customdata[0]}<extra></extra>",
           "hovertext": [
            "blocked-shot"
           ],
           "ids": [
            "blocked-shot"
           ],
           "legendgroup": "blocked-shot",
           "marker": {
            "color": "#FFA15A",
            "symbol": "circle"
           },
           "mode": "markers",
           "name": "blocked-shot",
           "orientation": "v",
           "showlegend": true,
           "type": "scatter",
           "x": {
            "bdata": "wg==",
            "dtype": "i1"
           },
           "xaxis": "x",
           "y": {
            "bdata": "Bw==",
            "dtype": "i1"
           },
           "yaxis": "y"
          }
         ],
         "name": "2-6"
        },
        {
         "data": [
          {
           "customdata": [
            [
             "Type: hit<br>Period: 2<br>Time: 08:57"
            ]
           ],
           "hovertemplate": "<b>%{hovertext}</b><br><br>type_desc_key=hit<br>frame=2-8<br>hover_text=%{customdata[0]}<extra></extra>",
           "hovertext": [
            "hit"
           ],
           "ids": [
            "hit"
           ],
           "legendgroup": "hit",
           "marker": {
            "color": "#EF553B",
            "symbol": "circle"
           },
           "mode": "markers",
           "name": "hit",
           "orientation": "v",
           "showlegend": true,
           "type": "scatter",
           "x": {
            "bdata": "xQ==",
            "dtype": "i1"
           },
           "xaxis": "x",
           "y": {
            "bdata": "2Q==",
            "dtype": "i1"
           },
           "yaxis": "y"
          },
          {
           "customdata": [
            [
             "Type: giveaway<br>Period: 2<br>Time: 08:36"
            ],
            [
             "Type: giveaway<br>Period: 2<br>Time: 08:51"
            ]
           ],
           "hovertemplate": "<b>%{hovertext}</b><br><br>type_desc_key=giveaway<br>frame=2-8<br>hover_text=%{customdata[0]}<extra></extra>",
           "hovertext": [
            "giveaway",
            "giveaway"
           ],
           "ids": [
            "giveaway",
            "giveaway"
           ],
           "legendgroup": "giveaway",
           "marker": {
            "color": "#ab63fa",
            "symbol": "circle"
           },
           "mode": "markers",
           "name": "giveaway",
           "orientation": "v",
           "showlegend": true,
           "type": "scatter",
           "x": {
            "bdata": "Ip4=",
            "dtype": "i1"
           },
           "xaxis": "x",
           "y": {
            "bdata": "7As=",
            "dtype": "i1"
           },
           "yaxis": "y"
          },
          {
           "customdata": [
            [
             "Type: missed-shot<br>Period: 2<br>Time: 08:28"
            ],
            [
             "Type: missed-shot<br>Period: 2<br>Time: 08:54"
            ]
           ],
           "hovertemplate": "<b>%{hovertext}</b><br><br>type_desc_key=missed-shot<br>frame=2-8<br>hover_text=%{customdata[0]}<extra></extra>",
           "hovertext": [
            "missed-shot",
            "missed-shot"
           ],
           "ids": [
            "missed-shot",
            "missed-shot"
           ],
           "legendgroup": "missed-shot",
           "marker": {
            "color": "#19d3f3",
            "symbol": "circle"
           },
           "mode": "markers",
           "name": "missed-shot",
           "orientation": "v",
           "showlegend": true,
           "type": "scatter",
           "x": {
            "bdata": "2rc=",
            "dtype": "i1"
           },
           "xaxis": "x",
           "y": {
            "bdata": "EAc=",
            "dtype": "i1"
           },
           "yaxis": "y"
          },
          {
           "customdata": [
            [
             "Type: shot-on-goal<br>Period: 2<br>Time: 08:23"
            ]
           ],
           "hovertemplate": "<b>%{hovertext}</b><br><br>type_desc_key=shot-on-goal<br>frame=2-8<br>hover_text=%{customdata[0]}<extra></extra>",
           "hovertext": [
            "shot-on-goal"
           ],
           "ids": [
            "shot-on-goal"
           ],
           "legendgroup": "shot-on-goal",
           "marker": {
            "color": "#FF6692",
            "symbol": "circle"
           },
           "mode": "markers",
           "name": "shot-on-goal",
           "orientation": "v",
           "showlegend": true,
           "type": "scatter",
           "x": {
            "bdata": "1A==",
            "dtype": "i1"
           },
           "xaxis": "x",
           "y": {
            "bdata": "Iw==",
            "dtype": "i1"
           },
           "yaxis": "y"
          }
         ],
         "name": "2-8"
        },
        {
         "data": [
          {
           "customdata": [
            [
             "Type: giveaway<br>Period: 2<br>Time: 09:54"
            ]
           ],
           "hovertemplate": "<b>%{hovertext}</b><br><br>type_desc_key=giveaway<br>frame=2-9<br>hover_text=%{customdata[0]}<extra></extra>",
           "hovertext": [
            "giveaway"
           ],
           "ids": [
            "giveaway"
           ],
           "legendgroup": "giveaway",
           "marker": {
            "color": "#ab63fa",
            "symbol": "circle"
           },
           "mode": "markers",
           "name": "giveaway",
           "orientation": "v",
           "showlegend": true,
           "type": "scatter",
           "x": {
            "bdata": "Vw==",
            "dtype": "i1"
           },
           "xaxis": "x",
           "y": {
            "bdata": "5Q==",
            "dtype": "i1"
           },
           "yaxis": "y"
          },
          {
           "customdata": [
            [
             "Type: shot-on-goal<br>Period: 2<br>Time: 09:21"
            ]
           ],
           "hovertemplate": "<b>%{hovertext}</b><br><br>type_desc_key=shot-on-goal<br>frame=2-9<br>hover_text=%{customdata[0]}<extra></extra>",
           "hovertext": [
            "shot-on-goal"
           ],
           "ids": [
            "shot-on-goal"
           ],
           "legendgroup": "shot-on-goal",
           "marker": {
            "color": "#FF6692",
            "symbol": "circle"
           },
           "mode": "markers",
           "name": "shot-on-goal",
           "orientation": "v",
           "showlegend": true,
           "type": "scatter",
           "x": {
            "bdata": "4w==",
            "dtype": "i1"
           },
           "xaxis": "x",
           "y": {
            "bdata": "Gw==",
            "dtype": "i1"
           },
           "yaxis": "y"
          }
         ],
         "name": "2-9"
        },
        {
         "data": [
          {
           "customdata": [
            [
             "Type: giveaway<br>Period: 2<br>Time: 10:25"
            ]
           ],
           "hovertemplate": "<b>%{hovertext}</b><br><br>type_desc_key=giveaway<br>frame=2-10<br>hover_text=%{customdata[0]}<extra></extra>",
           "hovertext": [
            "giveaway"
           ],
           "ids": [
            "giveaway"
           ],
           "legendgroup": "giveaway",
           "marker": {
            "color": "#ab63fa",
            "symbol": "circle"
           },
           "mode": "markers",
           "name": "giveaway",
           "orientation": "v",
           "showlegend": true,
           "type": "scatter",
           "x": {
            "bdata": "4g==",
            "dtype": "i1"
           },
           "xaxis": "x",
           "y": {
            "bdata": "2A==",
            "dtype": "i1"
           },
           "yaxis": "y"
          },
          {
           "customdata": [
            [
             "Type: shot-on-goal<br>Period: 2<br>Time: 10:50"
            ],
            [
             "Type: shot-on-goal<br>Period: 2<br>Time: 10:59"
            ]
           ],
           "hovertemplate": "<b>%{hovertext}</b><br><br>type_desc_key=shot-on-goal<br>frame=2-10<br>hover_text=%{customdata[0]}<extra></extra>",
           "hovertext": [
            "shot-on-goal",
            "shot-on-goal"
           ],
           "ids": [
            "shot-on-goal",
            "shot-on-goal"
           ],
           "legendgroup": "shot-on-goal",
           "marker": {
            "color": "#FF6692",
            "symbol": "circle"
           },
           "mode": "markers",
           "name": "shot-on-goal",
           "orientation": "v",
           "showlegend": true,
           "type": "scatter",
           "x": {
            "bdata": "r8A=",
            "dtype": "i1"
           },
           "xaxis": "x",
           "y": {
            "bdata": "+hs=",
            "dtype": "i1"
           },
           "yaxis": "y"
          },
          {
           "customdata": [
            [
             "Type: takeaway<br>Period: 2<br>Time: 10:50"
            ]
           ],
           "hovertemplate": "<b>%{hovertext}</b><br><br>type_desc_key=takeaway<br>frame=2-10<br>hover_text=%{customdata[0]}<extra></extra>",
           "hovertext": [
            "takeaway"
           ],
           "ids": [
            "takeaway"
           ],
           "legendgroup": "takeaway",
           "marker": {
            "color": "#B6E880",
            "symbol": "circle"
           },
           "mode": "markers",
           "name": "takeaway",
           "orientation": "v",
           "showlegend": true,
           "type": "scatter",
           "x": {
            "bdata": "oA==",
            "dtype": "i1"
           },
           "xaxis": "x",
           "y": {
            "bdata": "8g==",
            "dtype": "i1"
           },
           "yaxis": "y"
          }
         ],
         "name": "2-10"
        },
        {
         "data": [
          {
           "customdata": [
            [
             "Type: giveaway<br>Period: 2<br>Time: 11:27"
            ],
            [
             "Type: giveaway<br>Period: 2<br>Time: 11:50"
            ]
           ],
           "hovertemplate": "<b>%{hovertext}</b><br><br>type_desc_key=giveaway<br>frame=2-11<br>hover_text=%{customdata[0]}<extra></extra>",
           "hovertext": [
            "giveaway",
            "giveaway"
           ],
           "ids": [
            "giveaway",
            "giveaway"
           ],
           "legendgroup": "giveaway",
           "marker": {
            "color": "#ab63fa",
            "symbol": "circle"
           },
           "mode": "markers",
           "name": "giveaway",
           "orientation": "v",
           "showlegend": true,
           "type": "scatter",
           "x": {
            "bdata": "9hw=",
            "dtype": "i1"
           },
           "xaxis": "x",
           "y": {
            "bdata": "IhY=",
            "dtype": "i1"
           },
           "yaxis": "y"
          }
         ],
         "name": "2-11"
        },
        {
         "data": [
          {
           "customdata": [
            [
             "Type: takeaway<br>Period: 2<br>Time: 12:26"
            ]
           ],
           "hovertemplate": "<b>%{hovertext}</b><br><br>type_desc_key=takeaway<br>frame=2-12<br>hover_text=%{customdata[0]}<extra></extra>",
           "hovertext": [
            "takeaway"
           ],
           "ids": [
            "takeaway"
           ],
           "legendgroup": "takeaway",
           "marker": {
            "color": "#B6E880",
            "symbol": "circle"
           },
           "mode": "markers",
           "name": "takeaway",
           "orientation": "v",
           "showlegend": true,
           "type": "scatter",
           "x": {
            "bdata": "JQ==",
            "dtype": "i1"
           },
           "xaxis": "x",
           "y": {
            "bdata": "KQ==",
            "dtype": "i1"
           },
           "yaxis": "y"
          }
         ],
         "name": "2-12"
        },
        {
         "data": [
          {
           "customdata": [
            [
             "Type: hit<br>Period: 2<br>Time: 13:32"
            ]
           ],
           "hovertemplate": "<b>%{hovertext}</b><br><br>type_desc_key=hit<br>frame=2-13<br>hover_text=%{customdata[0]}<extra></extra>",
           "hovertext": [
            "hit"
           ],
           "ids": [
            "hit"
           ],
           "legendgroup": "hit",
           "marker": {
            "color": "#EF553B",
            "symbol": "circle"
           },
           "mode": "markers",
           "name": "hit",
           "orientation": "v",
           "showlegend": true,
           "type": "scatter",
           "x": {
            "bdata": "Pw==",
            "dtype": "i1"
           },
           "xaxis": "x",
           "y": {
            "bdata": "2Q==",
            "dtype": "i1"
           },
           "yaxis": "y"
          }
         ],
         "name": "2-13"
        },
        {
         "data": [
          {
           "customdata": [
            [
             "Type: giveaway<br>Period: 2<br>Time: 14:27"
            ]
           ],
           "hovertemplate": "<b>%{hovertext}</b><br><br>type_desc_key=giveaway<br>frame=2-14<br>hover_text=%{customdata[0]}<extra></extra>",
           "hovertext": [
            "giveaway"
           ],
           "ids": [
            "giveaway"
           ],
           "legendgroup": "giveaway",
           "marker": {
            "color": "#ab63fa",
            "symbol": "circle"
           },
           "mode": "markers",
           "name": "giveaway",
           "orientation": "v",
           "showlegend": true,
           "type": "scatter",
           "x": {
            "bdata": "tg==",
            "dtype": "i1"
           },
           "xaxis": "x",
           "y": {
            "bdata": "2A==",
            "dtype": "i1"
           },
           "yaxis": "y"
          },
          {
           "customdata": [
            [
             "Type: blocked-shot<br>Period: 2<br>Time: 14:16"
            ]
           ],
           "hovertemplate": "<b>%{hovertext}</b><br><br>type_desc_key=blocked-shot<br>frame=2-14<br>hover_text=%{customdata[0]}<extra></extra>",
           "hovertext": [
            "blocked-shot"
           ],
           "ids": [
            "blocked-shot"
           ],
           "legendgroup": "blocked-shot",
           "marker": {
            "color": "#FFA15A",
            "symbol": "circle"
           },
           "mode": "markers",
           "name": "blocked-shot",
           "orientation": "v",
           "showlegend": true,
           "type": "scatter",
           "x": {
            "bdata": "Rg==",
            "dtype": "i1"
           },
           "xaxis": "x",
           "y": {
            "bdata": "9A==",
            "dtype": "i1"
           },
           "yaxis": "y"
          }
         ],
         "name": "2-14"
        },
        {
         "data": [
          {
           "customdata": [
            [
             "Type: hit<br>Period: 2<br>Time: 15:26"
            ]
           ],
           "hovertemplate": "<b>%{hovertext}</b><br><br>type_desc_key=hit<br>frame=2-15<br>hover_text=%{customdata[0]}<extra></extra>",
           "hovertext": [
            "hit"
           ],
           "ids": [
            "hit"
           ],
           "legendgroup": "hit",
           "marker": {
            "color": "#EF553B",
            "symbol": "circle"
           },
           "mode": "markers",
           "name": "hit",
           "orientation": "v",
           "showlegend": true,
           "type": "scatter",
           "x": {
            "bdata": "Vw==",
            "dtype": "i1"
           },
           "xaxis": "x",
           "y": {
            "bdata": "4A==",
            "dtype": "i1"
           },
           "yaxis": "y"
          },
          {
           "customdata": [
            [
             "Type: blocked-shot<br>Period: 2<br>Time: 15:03"
            ]
           ],
           "hovertemplate": "<b>%{hovertext}</b><br><br>type_desc_key=blocked-shot<br>frame=2-15<br>hover_text=%{customdata[0]}<extra></extra>",
           "hovertext": [
            "blocked-shot"
           ],
           "ids": [
            "blocked-shot"
           ],
           "legendgroup": "blocked-shot",
           "marker": {
            "color": "#FFA15A",
            "symbol": "circle"
           },
           "mode": "markers",
           "name": "blocked-shot",
           "orientation": "v",
           "showlegend": true,
           "type": "scatter",
           "x": {
            "bdata": "sA==",
            "dtype": "i1"
           },
           "xaxis": "x",
           "y": {
            "bdata": "CA==",
            "dtype": "i1"
           },
           "yaxis": "y"
          },
          {
           "customdata": [
            [
             "Type: shot-on-goal<br>Period: 2<br>Time: 15:22"
            ]
           ],
           "hovertemplate": "<b>%{hovertext}</b><br><br>type_desc_key=shot-on-goal<br>frame=2-15<br>hover_text=%{customdata[0]}<extra></extra>",
           "hovertext": [
            "shot-on-goal"
           ],
           "ids": [
            "shot-on-goal"
           ],
           "legendgroup": "shot-on-goal",
           "marker": {
            "color": "#FF6692",
            "symbol": "circle"
           },
           "mode": "markers",
           "name": "shot-on-goal",
           "orientation": "v",
           "showlegend": true,
           "type": "scatter",
           "x": {
            "bdata": "IQ==",
            "dtype": "i1"
           },
           "xaxis": "x",
           "y": {
            "bdata": "7A==",
            "dtype": "i1"
           },
           "yaxis": "y"
          }
         ],
         "name": "2-15"
        },
        {
         "data": [
          {
           "customdata": [
            [
             "Type: blocked-shot<br>Period: 2<br>Time: 16:39"
            ]
           ],
           "hovertemplate": "<b>%{hovertext}</b><br><br>type_desc_key=blocked-shot<br>frame=2-16<br>hover_text=%{customdata[0]}<extra></extra>",
           "hovertext": [
            "blocked-shot"
           ],
           "ids": [
            "blocked-shot"
           ],
           "legendgroup": "blocked-shot",
           "marker": {
            "color": "#FFA15A",
            "symbol": "circle"
           },
           "mode": "markers",
           "name": "blocked-shot",
           "orientation": "v",
           "showlegend": true,
           "type": "scatter",
           "x": {
            "bdata": "sw==",
            "dtype": "i1"
           },
           "xaxis": "x",
           "y": {
            "bdata": "/w==",
            "dtype": "i1"
           },
           "yaxis": "y"
          },
          {
           "customdata": [
            [
             "Type: shot-on-goal<br>Period: 2<br>Time: 16:58"
            ]
           ],
           "hovertemplate": "<b>%{hovertext}</b><br><br>type_desc_key=shot-on-goal<br>frame=2-16<br>hover_text=%{customdata[0]}<extra></extra>",
           "hovertext": [
            "shot-on-goal"
           ],
           "ids": [
            "shot-on-goal"
           ],
           "legendgroup": "shot-on-goal",
           "marker": {
            "color": "#FF6692",
            "symbol": "circle"
           },
           "mode": "markers",
           "name": "shot-on-goal",
           "orientation": "v",
           "showlegend": true,
           "type": "scatter",
           "x": {
            "bdata": "rQ==",
            "dtype": "i1"
           },
           "xaxis": "x",
           "y": {
            "bdata": "Dw==",
            "dtype": "i1"
           },
           "yaxis": "y"
          },
          {
           "customdata": [
            [
             "Type: takeaway<br>Period: 2<br>Time: 16:22"
            ]
           ],
           "hovertemplate": "<b>%{hovertext}</b><br><br>type_desc_key=takeaway<br>frame=2-16<br>hover_text=%{customdata[0]}<extra></extra>",
           "hovertext": [
            "takeaway"
           ],
           "ids": [
            "takeaway"
           ],
           "legendgroup": "takeaway",
           "marker": {
            "color": "#B6E880",
            "symbol": "circle"
           },
           "mode": "markers",
           "name": "takeaway",
           "orientation": "v",
           "showlegend": true,
           "type": "scatter",
           "x": {
            "bdata": "Jw==",
            "dtype": "i1"
           },
           "xaxis": "x",
           "y": {
            "bdata": "FA==",
            "dtype": "i1"
           },
           "yaxis": "y"
          }
         ],
         "name": "2-16"
        },
        {
         "data": [
          {
           "customdata": [
            [
             "Type: blocked-shot<br>Period: 2<br>Time: 17:56"
            ]
           ],
           "hovertemplate": "<b>%{hovertext}</b><br><br>type_desc_key=blocked-shot<br>frame=2-17<br>hover_text=%{customdata[0]}<extra></extra>",
           "hovertext": [
            "blocked-shot"
           ],
           "ids": [
            "blocked-shot"
           ],
           "legendgroup": "blocked-shot",
           "marker": {
            "color": "#FFA15A",
            "symbol": "circle"
           },
           "mode": "markers",
           "name": "blocked-shot",
           "orientation": "v",
           "showlegend": true,
           "type": "scatter",
           "x": {
            "bdata": "uA==",
            "dtype": "i1"
           },
           "xaxis": "x",
           "y": {
            "bdata": "/Q==",
            "dtype": "i1"
           },
           "yaxis": "y"
          },
          {
           "customdata": [
            [
             "Type: shot-on-goal<br>Period: 2<br>Time: 17:52"
            ]
           ],
           "hovertemplate": "<b>%{hovertext}</b><br><br>type_desc_key=shot-on-goal<br>frame=2-17<br>hover_text=%{customdata[0]}<extra></extra>",
           "hovertext": [
            "shot-on-goal"
           ],
           "ids": [
            "shot-on-goal"
           ],
           "legendgroup": "shot-on-goal",
           "marker": {
            "color": "#FF6692",
            "symbol": "circle"
           },
           "mode": "markers",
           "name": "shot-on-goal",
           "orientation": "v",
           "showlegend": true,
           "type": "scatter",
           "x": {
            "bdata": "yg==",
            "dtype": "i1"
           },
           "xaxis": "x",
           "y": {
            "bdata": "Hw==",
            "dtype": "i1"
           },
           "yaxis": "y"
          }
         ],
         "name": "2-17"
        },
        {
         "data": [
          {
           "customdata": [
            [
             "Type: missed-shot<br>Period: 2<br>Time: 18:57"
            ]
           ],
           "hovertemplate": "<b>%{hovertext}</b><br><br>type_desc_key=missed-shot<br>frame=2-18<br>hover_text=%{customdata[0]}<extra></extra>",
           "hovertext": [
            "missed-shot"
           ],
           "ids": [
            "missed-shot"
           ],
           "legendgroup": "missed-shot",
           "marker": {
            "color": "#19d3f3",
            "symbol": "circle"
           },
           "mode": "markers",
           "name": "missed-shot",
           "orientation": "v",
           "showlegend": true,
           "type": "scatter",
           "x": {
            "bdata": "Hg==",
            "dtype": "i1"
           },
           "xaxis": "x",
           "y": {
            "bdata": "Fw==",
            "dtype": "i1"
           },
           "yaxis": "y"
          },
          {
           "customdata": [
            [
             "Type: shot-on-goal<br>Period: 2<br>Time: 18:26"
            ]
           ],
           "hovertemplate": "<b>%{hovertext}</b><br><br>type_desc_key=shot-on-goal<br>frame=2-18<br>hover_text=%{customdata[0]}<extra></extra>",
           "hovertext": [
            "shot-on-goal"
           ],
           "ids": [
            "shot-on-goal"
           ],
           "legendgroup": "shot-on-goal",
           "marker": {
            "color": "#FF6692",
            "symbol": "circle"
           },
           "mode": "markers",
           "name": "shot-on-goal",
           "orientation": "v",
           "showlegend": true,
           "type": "scatter",
           "x": {
            "bdata": "ww==",
            "dtype": "i1"
           },
           "xaxis": "x",
           "y": {
            "bdata": "6A==",
            "dtype": "i1"
           },
           "yaxis": "y"
          }
         ],
         "name": "2-18"
        },
        {
         "data": [
          {
           "customdata": [
            [
             "Type: blocked-shot<br>Period: 2<br>Time: 19:16"
            ]
           ],
           "hovertemplate": "<b>%{hovertext}</b><br><br>type_desc_key=blocked-shot<br>frame=2-19<br>hover_text=%{customdata[0]}<extra></extra>",
           "hovertext": [
            "blocked-shot"
           ],
           "ids": [
            "blocked-shot"
           ],
           "legendgroup": "blocked-shot",
           "marker": {
            "color": "#FFA15A",
            "symbol": "circle"
           },
           "mode": "markers",
           "name": "blocked-shot",
           "orientation": "v",
           "showlegend": true,
           "type": "scatter",
           "x": {
            "bdata": "sA==",
            "dtype": "i1"
           },
           "xaxis": "x",
           "y": {
            "bdata": "5A==",
            "dtype": "i1"
           },
           "yaxis": "y"
          },
          {
           "customdata": [
            [
             "Type: shot-on-goal<br>Period: 2<br>Time: 19:29"
            ]
           ],
           "hovertemplate": "<b>%{hovertext}</b><br><br>type_desc_key=shot-on-goal<br>frame=2-19<br>hover_text=%{customdata[0]}<extra></extra>",
           "hovertext": [
            "shot-on-goal"
           ],
           "ids": [
            "shot-on-goal"
           ],
           "legendgroup": "shot-on-goal",
           "marker": {
            "color": "#FF6692",
            "symbol": "circle"
           },
           "mode": "markers",
           "name": "shot-on-goal",
           "orientation": "v",
           "showlegend": true,
           "type": "scatter",
           "x": {
            "bdata": "Dw==",
            "dtype": "i1"
           },
           "xaxis": "x",
           "y": {
            "bdata": "Iw==",
            "dtype": "i1"
           },
           "yaxis": "y"
          }
         ],
         "name": "2-19"
        },
        {
         "data": [
          {
           "customdata": [
            [
             "Type: period-end<br>Period: 2<br>Time: 20:00"
            ]
           ],
           "hovertemplate": "<b>%{hovertext}</b><br><br>type_desc_key=period-end<br>frame=2-20<br>hover_text=%{customdata[0]}<extra></extra>",
           "hovertext": [
            "period-end"
           ],
           "ids": [
            "period-end"
           ],
           "legendgroup": "period-end",
           "marker": {
            "color": "#FF97FF",
            "symbol": "circle"
           },
           "mode": "markers",
           "name": "period-end",
           "orientation": "v",
           "showlegend": true,
           "type": "scatter",
           "x": {
            "bdata": "/w==",
            "dtype": "i1"
           },
           "xaxis": "x",
           "y": {
            "bdata": "/w==",
            "dtype": "i1"
           },
           "yaxis": "y"
          }
         ],
         "name": "2-20"
        },
        {
         "data": [
          {
           "customdata": [
            [
             "Type: period-start<br>Period: 3<br>Time: 00:00"
            ]
           ],
           "hovertemplate": "<b>%{hovertext}</b><br><br>type_desc_key=period-start<br>frame=3-0<br>hover_text=%{customdata[0]}<extra></extra>",
           "hovertext": [
            "period-start"
           ],
           "ids": [
            "period-start"
           ],
           "legendgroup": "period-start",
           "marker": {
            "color": "#636efa",
            "symbol": "circle"
           },
           "mode": "markers",
           "name": "period-start",
           "orientation": "v",
           "showlegend": true,
           "type": "scatter",
           "x": {
            "bdata": "/w==",
            "dtype": "i1"
           },
           "xaxis": "x",
           "y": {
            "bdata": "/w==",
            "dtype": "i1"
           },
           "yaxis": "y"
          },
          {
           "customdata": [
            [
             "Type: hit<br>Period: 3<br>Time: 00:11"
            ],
            [
             "Type: hit<br>Period: 3<br>Time: 00:41"
            ],
            [
             "Type: hit<br>Period: 3<br>Time: 00:47"
            ]
           ],
           "hovertemplate": "<b>%{hovertext}</b><br><br>type_desc_key=hit<br>frame=3-0<br>hover_text=%{customdata[0]}<extra></extra>",
           "hovertext": [
            "hit",
            "hit",
            "hit"
           ],
           "ids": [
            "hit",
            "hit",
            "hit"
           ],
           "legendgroup": "hit",
           "marker": {
            "color": "#EF553B",
            "symbol": "circle"
           },
           "mode": "markers",
           "name": "hit",
           "orientation": "v",
           "showlegend": true,
           "type": "scatter",
           "x": {
            "bdata": "WvBg",
            "dtype": "i1"
           },
           "xaxis": "x",
           "y": {
            "bdata": "5gns",
            "dtype": "i1"
           },
           "yaxis": "y"
          }
         ],
         "name": "3-0"
        },
        {
         "data": [
          {
           "customdata": [
            [
             "Type: hit<br>Period: 3<br>Time: 01:00"
            ]
           ],
           "hovertemplate": "<b>%{hovertext}</b><br><br>type_desc_key=hit<br>frame=3-1<br>hover_text=%{customdata[0]}<extra></extra>",
           "hovertext": [
            "hit"
           ],
           "ids": [
            "hit"
           ],
           "legendgroup": "hit",
           "marker": {
            "color": "#EF553B",
            "symbol": "circle"
           },
           "mode": "markers",
           "name": "hit",
           "orientation": "v",
           "showlegend": true,
           "type": "scatter",
           "x": {
            "bdata": "oA==",
            "dtype": "i1"
           },
           "xaxis": "x",
           "y": {
            "bdata": "Cw==",
            "dtype": "i1"
           },
           "yaxis": "y"
          },
          {
           "customdata": [
            [
             "Type: shot-on-goal<br>Period: 3<br>Time: 01:28"
            ]
           ],
           "hovertemplate": "<b>%{hovertext}</b><br><br>type_desc_key=shot-on-goal<br>frame=3-1<br>hover_text=%{customdata[0]}<extra></extra>",
           "hovertext": [
            "shot-on-goal"
           ],
           "ids": [
            "shot-on-goal"
           ],
           "legendgroup": "shot-on-goal",
           "marker": {
            "color": "#FF6692",
            "symbol": "circle"
           },
           "mode": "markers",
           "name": "shot-on-goal",
           "orientation": "v",
           "showlegend": true,
           "type": "scatter",
           "x": {
            "bdata": "5Q==",
            "dtype": "i1"
           },
           "xaxis": "x",
           "y": {
            "bdata": "Eg==",
            "dtype": "i1"
           },
           "yaxis": "y"
          }
         ],
         "name": "3-1"
        },
        {
         "data": [
          {
           "customdata": [
            [
             "Type: takeaway<br>Period: 3<br>Time: 02:33"
            ],
            [
             "Type: takeaway<br>Period: 3<br>Time: 02:49"
            ]
           ],
           "hovertemplate": "<b>%{hovertext}</b><br><br>type_desc_key=takeaway<br>frame=3-2<br>hover_text=%{customdata[0]}<extra></extra>",
           "hovertext": [
            "takeaway",
            "takeaway"
           ],
           "ids": [
            "takeaway",
            "takeaway"
           ],
           "legendgroup": "takeaway",
           "marker": {
            "color": "#B6E880",
            "symbol": "circle"
           },
           "mode": "markers",
           "name": "takeaway",
           "orientation": "v",
           "showlegend": true,
           "type": "scatter",
           "x": {
            "bdata": "xq0=",
            "dtype": "i1"
           },
           "xaxis": "x",
           "y": {
            "bdata": "KSI=",
            "dtype": "i1"
           },
           "yaxis": "y"
          },
          {
           "customdata": [
            [
             "Type: penalty<br>Period: 3<br>Time: 02:09"
            ]
           ],
           "hovertemplate": "<b>%{hovertext}</b><br><br>type_desc_key=penalty<br>frame=3-2<br>hover_text=%{customdata[0]}<extra></extra>",
           "hovertext": [
            "penalty"
           ],
           "ids": [
            "penalty"
           ],
           "legendgroup": "penalty",
           "marker": {
            "color": "#FECB52",
            "symbol": "circle"
           },
           "mode": "markers",
           "name": "penalty",
           "orientation": "v",
           "showlegend": true,
           "type": "scatter",
           "x": {
            "bdata": "vw==",
            "dtype": "i1"
           },
           "xaxis": "x",
           "y": {
            "bdata": "Bw==",
            "dtype": "i1"
           },
           "yaxis": "y"
          },
          {
           "customdata": [
            [
             "Type: delayed-penalty<br>Period: 3<br>Time: 02:04"
            ]
           ],
           "hovertemplate": "<b>%{hovertext}</b><br><br>type_desc_key=delayed-penalty<br>frame=3-2<br>hover_text=%{customdata[0]}<extra></extra>",
           "hovertext": [
            "delayed-penalty"
           ],
           "ids": [
            "delayed-penalty"
           ],
           "legendgroup": "delayed-penalty",
           "marker": {
            "color": "#636efa",
            "symbol": "circle"
           },
           "mode": "markers",
           "name": "delayed-penalty",
           "orientation": "v",
           "showlegend": true,
           "type": "scatter",
           "x": {
            "bdata": "/w==",
            "dtype": "i1"
           },
           "xaxis": "x",
           "y": {
            "bdata": "/w==",
            "dtype": "i1"
           },
           "yaxis": "y"
          }
         ],
         "name": "3-2"
        },
        {
         "data": [
          {
           "customdata": [
            [
             "Type: shot-on-goal<br>Period: 3<br>Time: 03:07"
            ],
            [
             "Type: shot-on-goal<br>Period: 3<br>Time: 03:10"
            ]
           ],
           "hovertemplate": "<b>%{hovertext}</b><br><br>type_desc_key=shot-on-goal<br>frame=3-3<br>hover_text=%{customdata[0]}<extra></extra>",
           "hovertext": [
            "shot-on-goal",
            "shot-on-goal"
           ],
           "ids": [
            "shot-on-goal",
            "shot-on-goal"
           ],
           "legendgroup": "shot-on-goal",
           "marker": {
            "color": "#FF6692",
            "symbol": "circle"
           },
           "mode": "markers",
           "name": "shot-on-goal",
           "orientation": "v",
           "showlegend": true,
           "type": "scatter",
           "x": {
            "bdata": "36k=",
            "dtype": "i1"
           },
           "xaxis": "x",
           "y": {
            "bdata": "7eM=",
            "dtype": "i1"
           },
           "yaxis": "y"
          }
         ],
         "name": "3-3"
        },
        {
         "data": [
          {
           "customdata": [
            [
             "Type: hit<br>Period: 3<br>Time: 04:16"
            ]
           ],
           "hovertemplate": "<b>%{hovertext}</b><br><br>type_desc_key=hit<br>frame=3-4<br>hover_text=%{customdata[0]}<extra></extra>",
           "hovertext": [
            "hit"
           ],
           "ids": [
            "hit"
           ],
           "legendgroup": "hit",
           "marker": {
            "color": "#EF553B",
            "symbol": "circle"
           },
           "mode": "markers",
           "name": "hit",
           "orientation": "v",
           "showlegend": true,
           "type": "scatter",
           "x": {
            "bdata": "3g==",
            "dtype": "i1"
           },
           "xaxis": "x",
           "y": {
            "bdata": "2Q==",
            "dtype": "i1"
           },
           "yaxis": "y"
          },
          {
           "customdata": [
            [
             "Type: shot-on-goal<br>Period: 3<br>Time: 04:56"
            ]
           ],
           "hovertemplate": "<b>%{hovertext}</b><br><br>type_desc_key=shot-on-goal<br>frame=3-4<br>hover_text=%{customdata[0]}<extra></extra>",
           "hovertext": [
            "shot-on-goal"
           ],
           "ids": [
            "shot-on-goal"
           ],
           "legendgroup": "shot-on-goal",
           "marker": {
            "color": "#FF6692",
            "symbol": "circle"
           },
           "mode": "markers",
           "name": "shot-on-goal",
           "orientation": "v",
           "showlegend": true,
           "type": "scatter",
           "x": {
            "bdata": "rQ==",
            "dtype": "i1"
           },
           "xaxis": "x",
           "y": {
            "bdata": "+w==",
            "dtype": "i1"
           },
           "yaxis": "y"
          }
         ],
         "name": "3-4"
        },
        {
         "data": [
          {
           "customdata": [
            [
             "Type: hit<br>Period: 3<br>Time: 05:38"
            ]
           ],
           "hovertemplate": "<b>%{hovertext}</b><br><br>type_desc_key=hit<br>frame=3-5<br>hover_text=%{customdata[0]}<extra></extra>",
           "hovertext": [
            "hit"
           ],
           "ids": [
            "hit"
           ],
           "legendgroup": "hit",
           "marker": {
            "color": "#EF553B",
            "symbol": "circle"
           },
           "mode": "markers",
           "name": "hit",
           "orientation": "v",
           "showlegend": true,
           "type": "scatter",
           "x": {
            "bdata": "Dg==",
            "dtype": "i1"
           },
           "xaxis": "x",
           "y": {
            "bdata": "Jw==",
            "dtype": "i1"
           },
           "yaxis": "y"
          },
          {
           "customdata": [
            [
             "Type: giveaway<br>Period: 3<br>Time: 05:33"
            ]
           ],
           "hovertemplate": "<b>%{hovertext}</b><br><br>type_desc_key=giveaway<br>frame=3-5<br>hover_text=%{customdata[0]}<extra></extra>",
           "hovertext": [
            "giveaway"
           ],
           "ids": [
            "giveaway"
           ],
           "legendgroup": "giveaway",
           "marker": {
            "color": "#ab63fa",
            "symbol": "circle"
           },
           "mode": "markers",
           "name": "giveaway",
           "orientation": "v",
           "showlegend": true,
           "type": "scatter",
           "x": {
            "bdata": "JQ==",
            "dtype": "i1"
           },
           "xaxis": "x",
           "y": {
            "bdata": "5g==",
            "dtype": "i1"
           },
           "yaxis": "y"
          },
          {
           "customdata": [
            [
             "Type: shot-on-goal<br>Period: 3<br>Time: 05:34"
            ]
           ],
           "hovertemplate": "<b>%{hovertext}</b><br><br>type_desc_key=shot-on-goal<br>frame=3-5<br>hover_text=%{customdata[0]}<extra></extra>",
           "hovertext": [
            "shot-on-goal"
           ],
           "ids": [
            "shot-on-goal"
           ],
           "legendgroup": "shot-on-goal",
           "marker": {
            "color": "#FF6692",
            "symbol": "circle"
           },
           "mode": "markers",
           "name": "shot-on-goal",
           "orientation": "v",
           "showlegend": true,
           "type": "scatter",
           "x": {
            "bdata": "MA==",
            "dtype": "i1"
           },
           "xaxis": "x",
           "y": {
            "bdata": "+A==",
            "dtype": "i1"
           },
           "yaxis": "y"
          }
         ],
         "name": "3-5"
        },
        {
         "data": [
          {
           "customdata": [
            [
             "Type: giveaway<br>Period: 3<br>Time: 06:14"
            ],
            [
             "Type: giveaway<br>Period: 3<br>Time: 06:53"
            ]
           ],
           "hovertemplate": "<b>%{hovertext}</b><br><br>type_desc_key=giveaway<br>frame=3-6<br>hover_text=%{customdata[0]}<extra></extra>",
           "hovertext": [
            "giveaway",
            "giveaway"
           ],
           "ids": [
            "giveaway",
            "giveaway"
           ],
           "legendgroup": "giveaway",
           "marker": {
            "color": "#ab63fa",
            "symbol": "circle"
           },
           "mode": "markers",
           "name": "giveaway",
           "orientation": "v",
           "showlegend": true,
           "type": "scatter",
           "x": {
            "bdata": "2/U=",
            "dtype": "i1"
           },
           "xaxis": "x",
           "y": {
            "bdata": "KCg=",
            "dtype": "i1"
           },
           "yaxis": "y"
          },
          {
           "customdata": [
            [
             "Type: blocked-shot<br>Period: 3<br>Time: 06:30"
            ]
           ],
           "hovertemplate": "<b>%{hovertext}</b><br><br>type_desc_key=blocked-shot<br>frame=3-6<br>hover_text=%{customdata[0]}<extra></extra>",
           "hovertext": [
            "blocked-shot"
           ],
           "ids": [
            "blocked-shot"
           ],
           "legendgroup": "blocked-shot",
           "marker": {
            "color": "#FFA15A",
            "symbol": "circle"
           },
           "mode": "markers",
           "name": "blocked-shot",
           "orientation": "v",
           "showlegend": true,
           "type": "scatter",
           "x": {
            "bdata": "Nw==",
            "dtype": "i1"
           },
           "xaxis": "x",
           "y": {
            "bdata": "/g==",
            "dtype": "i1"
           },
           "yaxis": "y"
          }
         ],
         "name": "3-6"
        },
        {
         "data": [
          {
           "customdata": [
            [
             "Type: blocked-shot<br>Period: 3<br>Time: 07:14"
            ]
           ],
           "hovertemplate": "<b>%{hovertext}</b><br><br>type_desc_key=blocked-shot<br>frame=3-7<br>hover_text=%{customdata[0]}<extra></extra>",
           "hovertext": [
            "blocked-shot"
           ],
           "ids": [
            "blocked-shot"
           ],
           "legendgroup": "blocked-shot",
           "marker": {
            "color": "#FFA15A",
            "symbol": "circle"
           },
           "mode": "markers",
           "name": "blocked-shot",
           "orientation": "v",
           "showlegend": true,
           "type": "scatter",
           "x": {
            "bdata": "vQ==",
            "dtype": "i1"
           },
           "xaxis": "x",
           "y": {
            "bdata": "9A==",
            "dtype": "i1"
           },
           "yaxis": "y"
          },
          {
           "customdata": [
            [
             "Type: missed-shot<br>Period: 3<br>Time: 07:08"
            ]
           ],
           "hovertemplate": "<b>%{hovertext}</b><br><br>type_desc_key=missed-shot<br>frame=3-7<br>hover_text=%{customdata[0]}<extra></extra>",
           "hovertext": [
            "missed-shot"
           ],
           "ids": [
            "missed-shot"
           ],
           "legendgroup": "missed-shot",
           "marker": {
            "color": "#19d3f3",
            "symbol": "circle"
           },
           "mode": "markers",
           "name": "missed-shot",
           "orientation": "v",
           "showlegend": true,
           "type": "scatter",
           "x": {
            "bdata": "zg==",
            "dtype": "i1"
           },
           "xaxis": "x",
           "y": {
            "bdata": "Eg==",
            "dtype": "i1"
           },
           "yaxis": "y"
          },
          {
           "customdata": [
            [
             "Type: shot-on-goal<br>Period: 3<br>Time: 07:11"
            ]
           ],
           "hovertemplate": "<b>%{hovertext}</b><br><br>type_desc_key=shot-on-goal<br>frame=3-7<br>hover_text=%{customdata[0]}<extra></extra>",
           "hovertext": [
            "shot-on-goal"
           ],
           "ids": [
            "shot-on-goal"
           ],
           "legendgroup": "shot-on-goal",
           "marker": {
            "color": "#FF6692",
            "symbol": "circle"
           },
           "mode": "markers",
           "name": "shot-on-goal",
           "orientation": "v",
           "showlegend": true,
           "type": "scatter",
           "x": {
            "bdata": "tQ==",
            "dtype": "i1"
           },
           "xaxis": "x",
           "y": {
            "bdata": "3Q==",
            "dtype": "i1"
           },
           "yaxis": "y"
          },
          {
           "customdata": [
            [
             "Type: penalty<br>Period: 3<br>Time: 07:54"
            ]
           ],
           "hovertemplate": "<b>%{hovertext}</b><br><br>type_desc_key=penalty<br>frame=3-7<br>hover_text=%{customdata[0]}<extra></extra>",
           "hovertext": [
            "penalty"
           ],
           "ids": [
            "penalty"
           ],
           "legendgroup": "penalty",
           "marker": {
            "color": "#FECB52",
            "symbol": "circle"
           },
           "mode": "markers",
           "name": "penalty",
           "orientation": "v",
           "showlegend": true,
           "type": "scatter",
           "x": {
            "bdata": "TQ==",
            "dtype": "i1"
           },
           "xaxis": "x",
           "y": {
            "bdata": "Cw==",
            "dtype": "i1"
           },
           "yaxis": "y"
          },
          {
           "customdata": [
            [
             "Type: delayed-penalty<br>Period: 3<br>Time: 07:51"
            ]
           ],
           "hovertemplate": "<b>%{hovertext}</b><br><br>type_desc_key=delayed-penalty<br>frame=3-7<br>hover_text=%{customdata[0]}<extra></extra>",
           "hovertext": [
            "delayed-penalty"
           ],
           "ids": [
            "delayed-penalty"
           ],
           "legendgroup": "delayed-penalty",
           "marker": {
            "color": "#636efa",
            "symbol": "circle"
           },
           "mode": "markers",
           "name": "delayed-penalty",
           "orientation": "v",
           "showlegend": true,
           "type": "scatter",
           "x": {
            "bdata": "/w==",
            "dtype": "i1"
           },
           "xaxis": "x",
           "y": {
            "bdata": "/w==",
            "dtype": "i1"
           },
           "yaxis": "y"
          }
         ],
         "name": "3-7"
        },
        {
         "data": [
          {
           "customdata": [
            [
             "Type: shot-on-goal<br>Period: 3<br>Time: 08:42"
            ]
           ],
           "hovertemplate": "<b>%{hovertext}</b><br><br>type_desc_key=shot-on-goal<br>frame=3-8<br>hover_text=%{customdata[0]}<extra></extra>",
           "hovertext": [
            "shot-on-goal"
           ],
           "ids": [
            "shot-on-goal"
           ],
           "legendgroup": "shot-on-goal",
           "marker": {
            "color": "#FF6692",
            "symbol": "circle"
           },
           "mode": "markers",
           "name": "shot-on-goal",
           "orientation": "v",
           "showlegend": true,
           "type": "scatter",
           "x": {
            "bdata": "SQ==",
            "dtype": "i1"
           },
           "xaxis": "x",
           "y": {
            "bdata": "6w==",
            "dtype": "i1"
           },
           "yaxis": "y"
          }
         ],
         "name": "3-8"
        },
        {
         "data": [
          {
           "customdata": [
            [
             "Type: goal<br>Period: 3<br>Time: 09:07"
            ],
            [
             "Type: goal<br>Period: 3<br>Time: 09:17"
            ]
           ],
           "hovertemplate": "<b>%{hovertext}</b><br><br>type_desc_key=goal<br>frame=3-9<br>hover_text=%{customdata[0]}<extra></extra>",
           "hovertext": [
            "goal",
            "goal"
           ],
           "ids": [
            "goal",
            "goal"
           ],
           "legendgroup": "goal",
           "marker": {
            "color": "#00cc96",
            "symbol": "circle"
           },
           "mode": "markers",
           "name": "goal",
           "orientation": "v",
           "showlegend": true,
           "type": "scatter",
           "x": {
            "bdata": "Nco=",
            "dtype": "i1"
           },
           "xaxis": "x",
           "y": {
            "bdata": "FwM=",
            "dtype": "i1"
           },
           "yaxis": "y"
          },
          {
           "customdata": [
            [
             "Type: takeaway<br>Period: 3<br>Time: 09:29"
            ]
           ],
           "hovertemplate": "<b>%{hovertext}</b><br><br>type_desc_key=takeaway<br>frame=3-9<br>hover_text=%{customdata[0]}<extra></extra>",
           "hovertext": [
            "takeaway"
           ],
           "ids": [
            "takeaway"
           ],
           "legendgroup": "takeaway",
           "marker": {
            "color": "#B6E880",
            "symbol": "circle"
           },
           "mode": "markers",
           "name": "takeaway",
           "orientation": "v",
           "showlegend": true,
           "type": "scatter",
           "x": {
            "bdata": "IA==",
            "dtype": "i1"
           },
           "xaxis": "x",
           "y": {
            "bdata": "Dw==",
            "dtype": "i1"
           },
           "yaxis": "y"
          }
         ],
         "name": "3-9"
        },
        {
         "data": [
          {
           "customdata": [
            [
             "Type: missed-shot<br>Period: 3<br>Time: 10:13"
            ],
            [
             "Type: missed-shot<br>Period: 3<br>Time: 10:18"
            ]
           ],
           "hovertemplate": "<b>%{hovertext}</b><br><br>type_desc_key=missed-shot<br>frame=3-10<br>hover_text=%{customdata[0]}<extra></extra>",
           "hovertext": [
            "missed-shot",
            "missed-shot"
           ],
           "ids": [
            "missed-shot",
            "missed-shot"
           ],
           "legendgroup": "missed-shot",
           "marker": {
            "color": "#19d3f3",
            "symbol": "circle"
           },
           "mode": "markers",
           "name": "missed-shot",
           "orientation": "v",
           "showlegend": true,
           "type": "scatter",
           "x": {
            "bdata": "PVQ=",
            "dtype": "i1"
           },
           "xaxis": "x",
           "y": {
            "bdata": "+Ac=",
            "dtype": "i1"
           },
           "yaxis": "y"
          }
         ],
         "name": "3-10"
        },
        {
         "data": [
          {
           "customdata": [
            [
             "Type: giveaway<br>Period: 3<br>Time: 11:04"
            ],
            [
             "Type: giveaway<br>Period: 3<br>Time: 11:44"
            ]
           ],
           "hovertemplate": "<b>%{hovertext}</b><br><br>type_desc_key=giveaway<br>frame=3-11<br>hover_text=%{customdata[0]}<extra></extra>",
           "hovertext": [
            "giveaway",
            "giveaway"
           ],
           "ids": [
            "giveaway",
            "giveaway"
           ],
           "legendgroup": "giveaway",
           "marker": {
            "color": "#ab63fa",
            "symbol": "circle"
           },
           "mode": "markers",
           "name": "giveaway",
           "orientation": "v",
           "showlegend": true,
           "type": "scatter",
           "x": {
            "bdata": "Y+k=",
            "dtype": "i1"
           },
           "xaxis": "x",
           "y": {
            "bdata": "AvQ=",
            "dtype": "i1"
           },
           "yaxis": "y"
          },
          {
           "customdata": [
            [
             "Type: missed-shot<br>Period: 3<br>Time: 11:06"
            ],
            [
             "Type: missed-shot<br>Period: 3<br>Time: 11:51"
            ]
           ],
           "hovertemplate": "<b>%{hovertext}</b><br><br>type_desc_key=missed-shot<br>frame=3-11<br>hover_text=%{customdata[0]}<extra></extra>",
           "hovertext": [
            "missed-shot",
            "missed-shot"
           ],
           "ids": [
            "missed-shot",
            "missed-shot"
           ],
           "legendgroup": "missed-shot",
           "marker": {
            "color": "#19d3f3",
            "symbol": "circle"
           },
           "mode": "markers",
           "name": "missed-shot",
           "orientation": "v",
           "showlegend": true,
           "type": "scatter",
           "x": {
            "bdata": "UEY=",
            "dtype": "i1"
           },
           "xaxis": "x",
           "y": {
            "bdata": "5hI=",
            "dtype": "i1"
           },
           "yaxis": "y"
          }
         ],
         "name": "3-11"
        },
        {
         "data": [
          {
           "customdata": [
            [
             "Type: missed-shot<br>Period: 3<br>Time: 13:46"
            ]
           ],
           "hovertemplate": "<b>%{hovertext}</b><br><br>type_desc_key=missed-shot<br>frame=3-13<br>hover_text=%{customdata[0]}<extra></extra>",
           "hovertext": [
            "missed-shot"
           ],
           "ids": [
            "missed-shot"
           ],
           "legendgroup": "missed-shot",
           "marker": {
            "color": "#19d3f3",
            "symbol": "circle"
           },
           "mode": "markers",
           "name": "missed-shot",
           "orientation": "v",
           "showlegend": true,
           "type": "scatter",
           "x": {
            "bdata": "QQ==",
            "dtype": "i1"
           },
           "xaxis": "x",
           "y": {
            "bdata": "Gw==",
            "dtype": "i1"
           },
           "yaxis": "y"
          },
          {
           "customdata": [
            [
             "Type: shot-on-goal<br>Period: 3<br>Time: 13:11"
            ],
            [
             "Type: shot-on-goal<br>Period: 3<br>Time: 13:30"
            ],
            [
             "Type: shot-on-goal<br>Period: 3<br>Time: 13:32"
            ]
           ],
           "hovertemplate": "<b>%{hovertext}</b><br><br>type_desc_key=shot-on-goal<br>frame=3-13<br>hover_text=%{customdata[0]}<extra></extra>",
           "hovertext": [
            "shot-on-goal",
            "shot-on-goal",
            "shot-on-goal"
           ],
           "ids": [
            "shot-on-goal",
            "shot-on-goal",
            "shot-on-goal"
           ],
           "legendgroup": "shot-on-goal",
           "marker": {
            "color": "#FF6692",
            "symbol": "circle"
           },
           "mode": "markers",
           "name": "shot-on-goal",
           "orientation": "v",
           "showlegend": true,
           "type": "scatter",
           "x": {
            "bdata": "TtSq",
            "dtype": "i1"
           },
           "xaxis": "x",
           "y": {
            "bdata": "9+Dy",
            "dtype": "i1"
           },
           "yaxis": "y"
          }
         ],
         "name": "3-13"
        },
        {
         "data": [
          {
           "customdata": [
            [
             "Type: blocked-shot<br>Period: 3<br>Time: 15:25"
            ]
           ],
           "hovertemplate": "<b>%{hovertext}</b><br><br>type_desc_key=blocked-shot<br>frame=3-15<br>hover_text=%{customdata[0]}<extra></extra>",
           "hovertext": [
            "blocked-shot"
           ],
           "ids": [
            "blocked-shot"
           ],
           "legendgroup": "blocked-shot",
           "marker": {
            "color": "#FFA15A",
            "symbol": "circle"
           },
           "mode": "markers",
           "name": "blocked-shot",
           "orientation": "v",
           "showlegend": true,
           "type": "scatter",
           "x": {
            "bdata": "sg==",
            "dtype": "i1"
           },
           "xaxis": "x",
           "y": {
            "bdata": "9w==",
            "dtype": "i1"
           },
           "yaxis": "y"
          },
          {
           "customdata": [
            [
             "Type: shot-on-goal<br>Period: 3<br>Time: 15:40"
            ],
            [
             "Type: shot-on-goal<br>Period: 3<br>Time: 15:41"
            ]
           ],
           "hovertemplate": "<b>%{hovertext}</b><br><br>type_desc_key=shot-on-goal<br>frame=3-15<br>hover_text=%{customdata[0]}<extra></extra>",
           "hovertext": [
            "shot-on-goal",
            "shot-on-goal"
           ],
           "ids": [
            "shot-on-goal",
            "shot-on-goal"
           ],
           "legendgroup": "shot-on-goal",
           "marker": {
            "color": "#FF6692",
            "symbol": "circle"
           },
           "mode": "markers",
           "name": "shot-on-goal",
           "orientation": "v",
           "showlegend": true,
           "type": "scatter",
           "x": {
            "bdata": "QUs=",
            "dtype": "i1"
           },
           "xaxis": "x",
           "y": {
            "bdata": "7AA=",
            "dtype": "i1"
           },
           "yaxis": "y"
          }
         ],
         "name": "3-15"
        },
        {
         "data": [
          {
           "customdata": [
            [
             "Type: hit<br>Period: 3<br>Time: 16:49"
            ]
           ],
           "hovertemplate": "<b>%{hovertext}</b><br><br>type_desc_key=hit<br>frame=3-16<br>hover_text=%{customdata[0]}<extra></extra>",
           "hovertext": [
            "hit"
           ],
           "ids": [
            "hit"
           ],
           "legendgroup": "hit",
           "marker": {
            "color": "#EF553B",
            "symbol": "circle"
           },
           "mode": "markers",
           "name": "hit",
           "orientation": "v",
           "showlegend": true,
           "type": "scatter",
           "x": {
            "bdata": "og==",
            "dtype": "i1"
           },
           "xaxis": "x",
           "y": {
            "bdata": "GQ==",
            "dtype": "i1"
           },
           "yaxis": "y"
          },
          {
           "customdata": [
            [
             "Type: giveaway<br>Period: 3<br>Time: 16:00"
            ],
            [
             "Type: giveaway<br>Period: 3<br>Time: 16:17"
            ]
           ],
           "hovertemplate": "<b>%{hovertext}</b><br><br>type_desc_key=giveaway<br>frame=3-16<br>hover_text=%{customdata[0]}<extra></extra>",
           "hovertext": [
            "giveaway",
            "giveaway"
           ],
           "ids": [
            "giveaway",
            "giveaway"
           ],
           "legendgroup": "giveaway",
           "marker": {
            "color": "#ab63fa",
            "symbol": "circle"
           },
           "mode": "markers",
           "name": "giveaway",
           "orientation": "v",
           "showlegend": true,
           "type": "scatter",
           "x": {
            "bdata": "EeY=",
            "dtype": "i1"
           },
           "xaxis": "x",
           "y": {
            "bdata": "Ehw=",
            "dtype": "i1"
           },
           "yaxis": "y"
          },
          {
           "customdata": [
            [
             "Type: shot-on-goal<br>Period: 3<br>Time: 16:56"
            ]
           ],
           "hovertemplate": "<b>%{hovertext}</b><br><br>type_desc_key=shot-on-goal<br>frame=3-16<br>hover_text=%{customdata[0]}<extra></extra>",
           "hovertext": [
            "shot-on-goal"
           ],
           "ids": [
            "shot-on-goal"
           ],
           "legendgroup": "shot-on-goal",
           "marker": {
            "color": "#FF6692",
            "symbol": "circle"
           },
           "mode": "markers",
           "name": "shot-on-goal",
           "orientation": "v",
           "showlegend": true,
           "type": "scatter",
           "x": {
            "bdata": "xQ==",
            "dtype": "i1"
           },
           "xaxis": "x",
           "y": {
            "bdata": "IQ==",
            "dtype": "i1"
           },
           "yaxis": "y"
          },
          {
           "customdata": [
            [
             "Type: takeaway<br>Period: 3<br>Time: 16:14"
            ],
            [
             "Type: takeaway<br>Period: 3<br>Time: 16:30"
            ]
           ],
           "hovertemplate": "<b>%{hovertext}</b><br><br>type_desc_key=takeaway<br>frame=3-16<br>hover_text=%{customdata[0]}<extra></extra>",
           "hovertext": [
            "takeaway",
            "takeaway"
           ],
           "ids": [
            "takeaway",
            "takeaway"
           ],
           "legendgroup": "takeaway",
           "marker": {
            "color": "#B6E880",
            "symbol": "circle"
           },
           "mode": "markers",
           "name": "takeaway",
           "orientation": "v",
           "showlegend": true,
           "type": "scatter",
           "x": {
            "bdata": "vxM=",
            "dtype": "i1"
           },
           "xaxis": "x",
           "y": {
            "bdata": "GwU=",
            "dtype": "i1"
           },
           "yaxis": "y"
          }
         ],
         "name": "3-16"
        },
        {
         "data": [
          {
           "customdata": [
            [
             "Type: giveaway<br>Period: 3<br>Time: 18:30"
            ],
            [
             "Type: giveaway<br>Period: 3<br>Time: 18:41"
            ]
           ],
           "hovertemplate": "<b>%{hovertext}</b><br><br>type_desc_key=giveaway<br>frame=3-18<br>hover_text=%{customdata[0]}<extra></extra>",
           "hovertext": [
            "giveaway",
            "giveaway"
           ],
           "ids": [
            "giveaway",
            "giveaway"
           ],
           "legendgroup": "giveaway",
           "marker": {
            "color": "#ab63fa",
            "symbol": "circle"
           },
           "mode": "markers",
           "name": "giveaway",
           "orientation": "v",
           "showlegend": true,
           "type": "scatter",
           "x": {
            "bdata": "sSs=",
            "dtype": "i1"
           },
           "xaxis": "x",
           "y": {
            "bdata": "/h4=",
            "dtype": "i1"
           },
           "yaxis": "y"
          },
          {
           "customdata": [
            [
             "Type: shot-on-goal<br>Period: 3<br>Time: 18:20"
            ],
            [
             "Type: shot-on-goal<br>Period: 3<br>Time: 18:29"
            ]
           ],
           "hovertemplate": "<b>%{hovertext}</b><br><br>type_desc_key=shot-on-goal<br>frame=3-18<br>hover_text=%{customdata[0]}<extra></extra>",
           "hovertext": [
            "shot-on-goal",
            "shot-on-goal"
           ],
           "ids": [
            "shot-on-goal",
            "shot-on-goal"
           ],
           "legendgroup": "shot-on-goal",
           "marker": {
            "color": "#FF6692",
            "symbol": "circle"
           },
           "mode": "markers",
           "name": "shot-on-goal",
           "orientation": "v",
           "showlegend": true,
           "type": "scatter",
           "x": {
            "bdata": "PqU=",
            "dtype": "i1"
           },
           "xaxis": "x",
           "y": {
            "bdata": "Dec=",
            "dtype": "i1"
           },
           "yaxis": "y"
          }
         ],
         "name": "3-18"
        },
        {
         "data": [
          {
           "customdata": [
            [
             "Type: missed-shot<br>Period: 3<br>Time: 19:39"
            ],
            [
             "Type: missed-shot<br>Period: 3<br>Time: 19:56"
            ]
           ],
           "hovertemplate": "<b>%{hovertext}</b><br><br>type_desc_key=missed-shot<br>frame=3-19<br>hover_text=%{customdata[0]}<extra></extra>",
           "hovertext": [
            "missed-shot",
            "missed-shot"
           ],
           "ids": [
            "missed-shot",
            "missed-shot"
           ],
           "legendgroup": "missed-shot",
           "marker": {
            "color": "#19d3f3",
            "symbol": "circle"
           },
           "mode": "markers",
           "name": "missed-shot",
           "orientation": "v",
           "showlegend": true,
           "type": "scatter",
           "x": {
            "bdata": "KVE=",
            "dtype": "i1"
           },
           "xaxis": "x",
           "y": {
            "bdata": "+Ao=",
            "dtype": "i1"
           },
           "yaxis": "y"
          }
         ],
         "name": "3-19"
        },
        {
         "data": [
          {
           "customdata": [
            [
             "Type: period-end<br>Period: 3<br>Time: 20:00"
            ]
           ],
           "hovertemplate": "<b>%{hovertext}</b><br><br>type_desc_key=period-end<br>frame=3-20<br>hover_text=%{customdata[0]}<extra></extra>",
           "hovertext": [
            "period-end"
           ],
           "ids": [
            "period-end"
           ],
           "legendgroup": "period-end",
           "marker": {
            "color": "#FF97FF",
            "symbol": "circle"
           },
           "mode": "markers",
           "name": "period-end",
           "orientation": "v",
           "showlegend": true,
           "type": "scatter",
           "x": {
            "bdata": "/w==",
            "dtype": "i1"
           },
           "xaxis": "x",
           "y": {
            "bdata": "/w==",
            "dtype": "i1"
           },
           "yaxis": "y"
          }
         ],
         "name": "3-20"
        },
        {
         "data": [
          {
           "customdata": [
            [
             "Type: period-start<br>Period: 4<br>Time: 00:00"
            ]
           ],
           "hovertemplate": "<b>%{hovertext}</b><br><br>type_desc_key=period-start<br>frame=4-0<br>hover_text=%{customdata[0]}<extra></extra>",
           "hovertext": [
            "period-start"
           ],
           "ids": [
            "period-start"
           ],
           "legendgroup": "period-start",
           "marker": {
            "color": "#636efa",
            "symbol": "circle"
           },
           "mode": "markers",
           "name": "period-start",
           "orientation": "v",
           "showlegend": true,
           "type": "scatter",
           "x": {
            "bdata": "/w==",
            "dtype": "i1"
           },
           "xaxis": "x",
           "y": {
            "bdata": "/w==",
            "dtype": "i1"
           },
           "yaxis": "y"
          },
          {
           "customdata": [
            [
             "Type: shot-on-goal<br>Period: 4<br>Time: 00:41"
            ]
           ],
           "hovertemplate": "<b>%{hovertext}</b><br><br>type_desc_key=shot-on-goal<br>frame=4-0<br>hover_text=%{customdata[0]}<extra></extra>",
           "hovertext": [
            "shot-on-goal"
           ],
           "ids": [
            "shot-on-goal"
           ],
           "legendgroup": "shot-on-goal",
           "marker": {
            "color": "#FF6692",
            "symbol": "circle"
           },
           "mode": "markers",
           "name": "shot-on-goal",
           "orientation": "v",
           "showlegend": true,
           "type": "scatter",
           "x": {
            "bdata": "Rw==",
            "dtype": "i1"
           },
           "xaxis": "x",
           "y": {
            "bdata": "EQ==",
            "dtype": "i1"
           },
           "yaxis": "y"
          }
         ],
         "name": "4-0"
        },
        {
         "data": [
          {
           "customdata": [
            [
             "Type: goal<br>Period: 4<br>Time: 01:17"
            ]
           ],
           "hovertemplate": "<b>%{hovertext}</b><br><br>type_desc_key=goal<br>frame=4-1<br>hover_text=%{customdata[0]}<extra></extra>",
           "hovertext": [
            "goal"
           ],
           "ids": [
            "goal"
           ],
           "legendgroup": "goal",
           "marker": {
            "color": "#00cc96",
            "symbol": "circle"
           },
           "mode": "markers",
           "name": "goal",
           "orientation": "v",
           "showlegend": true,
           "type": "scatter",
           "x": {
            "bdata": "tA==",
            "dtype": "i1"
           },
           "xaxis": "x",
           "y": {
            "bdata": "7g==",
            "dtype": "i1"
           },
           "yaxis": "y"
          },
          {
           "customdata": [
            [
             "Type: period-end<br>Period: 4<br>Time: 01:17"
            ]
           ],
           "hovertemplate": "<b>%{hovertext}</b><br><br>type_desc_key=period-end<br>frame=4-1<br>hover_text=%{customdata[0]}<extra></extra>",
           "hovertext": [
            "period-end"
           ],
           "ids": [
            "period-end"
           ],
           "legendgroup": "period-end",
           "marker": {
            "color": "#FF97FF",
            "symbol": "circle"
           },
           "mode": "markers",
           "name": "period-end",
           "orientation": "v",
           "showlegend": true,
           "type": "scatter",
           "x": {
            "bdata": "/w==",
            "dtype": "i1"
           },
           "xaxis": "x",
           "y": {
            "bdata": "/w==",
            "dtype": "i1"
           },
           "yaxis": "y"
          },
          {
           "customdata": [
            [
             "Type: game-end<br>Period: 4<br>Time: 01:17"
            ]
           ],
           "hovertemplate": "<b>%{hovertext}</b><br><br>type_desc_key=game-end<br>frame=4-1<br>hover_text=%{customdata[0]}<extra></extra>",
           "hovertext": [
            "game-end"
           ],
           "ids": [
            "game-end"
           ],
           "legendgroup": "game-end",
           "marker": {
            "color": "#EF553B",
            "symbol": "circle"
           },
           "mode": "markers",
           "name": "game-end",
           "orientation": "v",
           "showlegend": true,
           "type": "scatter",
           "x": {
            "bdata": "/w==",
            "dtype": "i1"
           },
           "xaxis": "x",
           "y": {
            "bdata": "/w==",
            "dtype": "i1"
           },
           "yaxis": "y"
          }
         ],
         "name": "4-1"
        }
       ],
       "layout": {
        "height": 600,
        "legend": {
         "title": {
          "text": "Event Type"
         },
         "tracegroupgap": 0
        },
        "sliders": [
         {
          "active": 0,
          "currentvalue": {
           "prefix": "frame="
          },
          "len": 0.9,
          "pad": {
           "b": 10,
           "t": 60
          },
          "steps": [
           {
            "args": [
             [
              "1-0"
             ],
             {
              "frame": {
               "duration": 0,
               "redraw": false
              },
              "fromcurrent": true,
              "mode": "immediate",
              "transition": {
               "duration": 0,
               "easing": "linear"
              }
             }
            ],
            "label": "1-0",
            "method": "animate"
           },
           {
            "args": [
             [
              "1-1"
             ],
             {
              "frame": {
               "duration": 0,
               "redraw": false
              },
              "fromcurrent": true,
              "mode": "immediate",
              "transition": {
               "duration": 0,
               "easing": "linear"
              }
             }
            ],
            "label": "1-1",
            "method": "animate"
           },
           {
            "args": [
             [
              "1-2"
             ],
             {
              "frame": {
               "duration": 0,
               "redraw": false
              },
              "fromcurrent": true,
              "mode": "immediate",
              "transition": {
               "duration": 0,
               "easing": "linear"
              }
             }
            ],
            "label": "1-2",
            "method": "animate"
           },
           {
            "args": [
             [
              "1-3"
             ],
             {
              "frame": {
               "duration": 0,
               "redraw": false
              },
              "fromcurrent": true,
              "mode": "immediate",
              "transition": {
               "duration": 0,
               "easing": "linear"
              }
             }
            ],
            "label": "1-3",
            "method": "animate"
           },
           {
            "args": [
             [
              "1-4"
             ],
             {
              "frame": {
               "duration": 0,
               "redraw": false
              },
              "fromcurrent": true,
              "mode": "immediate",
              "transition": {
               "duration": 0,
               "easing": "linear"
              }
             }
            ],
            "label": "1-4",
            "method": "animate"
           },
           {
            "args": [
             [
              "1-5"
             ],
             {
              "frame": {
               "duration": 0,
               "redraw": false
              },
              "fromcurrent": true,
              "mode": "immediate",
              "transition": {
               "duration": 0,
               "easing": "linear"
              }
             }
            ],
            "label": "1-5",
            "method": "animate"
           },
           {
            "args": [
             [
              "1-6"
             ],
             {
              "frame": {
               "duration": 0,
               "redraw": false
              },
              "fromcurrent": true,
              "mode": "immediate",
              "transition": {
               "duration": 0,
               "easing": "linear"
              }
             }
            ],
            "label": "1-6",
            "method": "animate"
           },
           {
            "args": [
             [
              "1-7"
             ],
             {
              "frame": {
               "duration": 0,
               "redraw": false
              },
              "fromcurrent": true,
              "mode": "immediate",
              "transition": {
               "duration": 0,
               "easing": "linear"
              }
             }
            ],
            "label": "1-7",
            "method": "animate"
           },
           {
            "args": [
             [
              "1-8"
             ],
             {
              "frame": {
               "duration": 0,
               "redraw": false
              },
              "fromcurrent": true,
              "mode": "immediate",
              "transition": {
               "duration": 0,
               "easing": "linear"
              }
             }
            ],
            "label": "1-8",
            "method": "animate"
           },
           {
            "args": [
             [
              "1-9"
             ],
             {
              "frame": {
               "duration": 0,
               "redraw": false
              },
              "fromcurrent": true,
              "mode": "immediate",
              "transition": {
               "duration": 0,
               "easing": "linear"
              }
             }
            ],
            "label": "1-9",
            "method": "animate"
           },
           {
            "args": [
             [
              "1-10"
             ],
             {
              "frame": {
               "duration": 0,
               "redraw": false
              },
              "fromcurrent": true,
              "mode": "immediate",
              "transition": {
               "duration": 0,
               "easing": "linear"
              }
             }
            ],
            "label": "1-10",
            "method": "animate"
           },
           {
            "args": [
             [
              "1-11"
             ],
             {
              "frame": {
               "duration": 0,
               "redraw": false
              },
              "fromcurrent": true,
              "mode": "immediate",
              "transition": {
               "duration": 0,
               "easing": "linear"
              }
             }
            ],
            "label": "1-11",
            "method": "animate"
           },
           {
            "args": [
             [
              "1-13"
             ],
             {
              "frame": {
               "duration": 0,
               "redraw": false
              },
              "fromcurrent": true,
              "mode": "immediate",
              "transition": {
               "duration": 0,
               "easing": "linear"
              }
             }
            ],
            "label": "1-13",
            "method": "animate"
           },
           {
            "args": [
             [
              "1-16"
             ],
             {
              "frame": {
               "duration": 0,
               "redraw": false
              },
              "fromcurrent": true,
              "mode": "immediate",
              "transition": {
               "duration": 0,
               "easing": "linear"
              }
             }
            ],
            "label": "1-16",
            "method": "animate"
           },
           {
            "args": [
             [
              "1-17"
             ],
             {
              "frame": {
               "duration": 0,
               "redraw": false
              },
              "fromcurrent": true,
              "mode": "immediate",
              "transition": {
               "duration": 0,
               "easing": "linear"
              }
             }
            ],
            "label": "1-17",
            "method": "animate"
           },
           {
            "args": [
             [
              "1-18"
             ],
             {
              "frame": {
               "duration": 0,
               "redraw": false
              },
              "fromcurrent": true,
              "mode": "immediate",
              "transition": {
               "duration": 0,
               "easing": "linear"
              }
             }
            ],
            "label": "1-18",
            "method": "animate"
           },
           {
            "args": [
             [
              "1-19"
             ],
             {
              "frame": {
               "duration": 0,
               "redraw": false
              },
              "fromcurrent": true,
              "mode": "immediate",
              "transition": {
               "duration": 0,
               "easing": "linear"
              }
             }
            ],
            "label": "1-19",
            "method": "animate"
           },
           {
            "args": [
             [
              "1-20"
             ],
             {
              "frame": {
               "duration": 0,
               "redraw": false
              },
              "fromcurrent": true,
              "mode": "immediate",
              "transition": {
               "duration": 0,
               "easing": "linear"
              }
             }
            ],
            "label": "1-20",
            "method": "animate"
           },
           {
            "args": [
             [
              "2-0"
             ],
             {
              "frame": {
               "duration": 0,
               "redraw": false
              },
              "fromcurrent": true,
              "mode": "immediate",
              "transition": {
               "duration": 0,
               "easing": "linear"
              }
             }
            ],
            "label": "2-0",
            "method": "animate"
           },
           {
            "args": [
             [
              "2-1"
             ],
             {
              "frame": {
               "duration": 0,
               "redraw": false
              },
              "fromcurrent": true,
              "mode": "immediate",
              "transition": {
               "duration": 0,
               "easing": "linear"
              }
             }
            ],
            "label": "2-1",
            "method": "animate"
           },
           {
            "args": [
             [
              "2-2"
             ],
             {
              "frame": {
               "duration": 0,
               "redraw": false
              },
              "fromcurrent": true,
              "mode": "immediate",
              "transition": {
               "duration": 0,
               "easing": "linear"
              }
             }
            ],
            "label": "2-2",
            "method": "animate"
           },
           {
            "args": [
             [
              "2-3"
             ],
             {
              "frame": {
               "duration": 0,
               "redraw": false
              },
              "fromcurrent": true,
              "mode": "immediate",
              "transition": {
               "duration": 0,
               "easing": "linear"
              }
             }
            ],
            "label": "2-3",
            "method": "animate"
           },
           {
            "args": [
             [
              "2-4"
             ],
             {
              "frame": {
               "duration": 0,
               "redraw": false
              },
              "fromcurrent": true,
              "mode": "immediate",
              "transition": {
               "duration": 0,
               "easing": "linear"
              }
             }
            ],
            "label": "2-4",
            "method": "animate"
           },
           {
            "args": [
             [
              "2-5"
             ],
             {
              "frame": {
               "duration": 0,
               "redraw": false
              },
              "fromcurrent": true,
              "mode": "immediate",
              "transition": {
               "duration": 0,
               "easing": "linear"
              }
             }
            ],
            "label": "2-5",
            "method": "animate"
           },
           {
            "args": [
             [
              "2-6"
             ],
             {
              "frame": {
               "duration": 0,
               "redraw": false
              },
              "fromcurrent": true,
              "mode": "immediate",
              "transition": {
               "duration": 0,
               "easing": "linear"
              }
             }
            ],
            "label": "2-6",
            "method": "animate"
           },
           {
            "args": [
             [
              "2-8"
             ],
             {
              "frame": {
               "duration": 0,
               "redraw": false
              },
              "fromcurrent": true,
              "mode": "immediate",
              "transition": {
               "duration": 0,
               "easing": "linear"
              }
             }
            ],
            "label": "2-8",
            "method": "animate"
           },
           {
            "args": [
             [
              "2-9"
             ],
             {
              "frame": {
               "duration": 0,
               "redraw": false
              },
              "fromcurrent": true,
              "mode": "immediate",
              "transition": {
               "duration": 0,
               "easing": "linear"
              }
             }
            ],
            "label": "2-9",
            "method": "animate"
           },
           {
            "args": [
             [
              "2-10"
             ],
             {
              "frame": {
               "duration": 0,
               "redraw": false
              },
              "fromcurrent": true,
              "mode": "immediate",
              "transition": {
               "duration": 0,
               "easing": "linear"
              }
             }
            ],
            "label": "2-10",
            "method": "animate"
           },
           {
            "args": [
             [
              "2-11"
             ],
             {
              "frame": {
               "duration": 0,
               "redraw": false
              },
              "fromcurrent": true,
              "mode": "immediate",
              "transition": {
               "duration": 0,
               "easing": "linear"
              }
             }
            ],
            "label": "2-11",
            "method": "animate"
           },
           {
            "args": [
             [
              "2-12"
             ],
             {
              "frame": {
               "duration": 0,
               "redraw": false
              },
              "fromcurrent": true,
              "mode": "immediate",
              "transition": {
               "duration": 0,
               "easing": "linear"
              }
             }
            ],
            "label": "2-12",
            "method": "animate"
           },
           {
            "args": [
             [
              "2-13"
             ],
             {
              "frame": {
               "duration": 0,
               "redraw": false
              },
              "fromcurrent": true,
              "mode": "immediate",
              "transition": {
               "duration": 0,
               "easing": "linear"
              }
             }
            ],
            "label": "2-13",
            "method": "animate"
           },
           {
            "args": [
             [
              "2-14"
             ],
             {
              "frame": {
               "duration": 0,
               "redraw": false
              },
              "fromcurrent": true,
              "mode": "immediate",
              "transition": {
               "duration": 0,
               "easing": "linear"
              }
             }
            ],
            "label": "2-14",
            "method": "animate"
           },
           {
            "args": [
             [
              "2-15"
             ],
             {
              "frame": {
               "duration": 0,
               "redraw": false
              },
              "fromcurrent": true,
              "mode": "immediate",
              "transition": {
               "duration": 0,
               "easing": "linear"
              }
             }
            ],
            "label": "2-15",
            "method": "animate"
           },
           {
            "args": [
             [
              "2-16"
             ],
             {
              "frame": {
               "duration": 0,
               "redraw": false
              },
              "fromcurrent": true,
              "mode": "immediate",
              "transition": {
               "duration": 0,
               "easing": "linear"
              }
             }
            ],
            "label": "2-16",
            "method": "animate"
           },
           {
            "args": [
             [
              "2-17"
             ],
             {
              "frame": {
               "duration": 0,
               "redraw": false
              },
              "fromcurrent": true,
              "mode": "immediate",
              "transition": {
               "duration": 0,
               "easing": "linear"
              }
             }
            ],
            "label": "2-17",
            "method": "animate"
           },
           {
            "args": [
             [
              "2-18"
             ],
             {
              "frame": {
               "duration": 0,
               "redraw": false
              },
              "fromcurrent": true,
              "mode": "immediate",
              "transition": {
               "duration": 0,
               "easing": "linear"
              }
             }
            ],
            "label": "2-18",
            "method": "animate"
           },
           {
            "args": [
             [
              "2-19"
             ],
             {
              "frame": {
               "duration": 0,
               "redraw": false
              },
              "fromcurrent": true,
              "mode": "immediate",
              "transition": {
               "duration": 0,
               "easing": "linear"
              }
             }
            ],
            "label": "2-19",
            "method": "animate"
           },
           {
            "args": [
             [
              "2-20"
             ],
             {
              "frame": {
               "duration": 0,
               "redraw": false
              },
              "fromcurrent": true,
              "mode": "immediate",
              "transition": {
               "duration": 0,
               "easing": "linear"
              }
             }
            ],
            "label": "2-20",
            "method": "animate"
           },
           {
            "args": [
             [
              "3-0"
             ],
             {
              "frame": {
               "duration": 0,
               "redraw": false
              },
              "fromcurrent": true,
              "mode": "immediate",
              "transition": {
               "duration": 0,
               "easing": "linear"
              }
             }
            ],
            "label": "3-0",
            "method": "animate"
           },
           {
            "args": [
             [
              "3-1"
             ],
             {
              "frame": {
               "duration": 0,
               "redraw": false
              },
              "fromcurrent": true,
              "mode": "immediate",
              "transition": {
               "duration": 0,
               "easing": "linear"
              }
             }
            ],
            "label": "3-1",
            "method": "animate"
           },
           {
            "args": [
             [
              "3-2"
             ],
             {
              "frame": {
               "duration": 0,
               "redraw": false
              },
              "fromcurrent": true,
              "mode": "immediate",
              "transition": {
               "duration": 0,
               "easing": "linear"
              }
             }
            ],
            "label": "3-2",
            "method": "animate"
           },
           {
            "args": [
             [
              "3-3"
             ],
             {
              "frame": {
               "duration": 0,
               "redraw": false
              },
              "fromcurrent": true,
              "mode": "immediate",
              "transition": {
               "duration": 0,
               "easing": "linear"
              }
             }
            ],
            "label": "3-3",
            "method": "animate"
           },
           {
            "args": [
             [
              "3-4"
             ],
             {
              "frame": {
               "duration": 0,
               "redraw": false
              },
              "fromcurrent": true,
              "mode": "immediate",
              "transition": {
               "duration": 0,
               "easing": "linear"
              }
             }
            ],
            "label": "3-4",
            "method": "animate"
           },
           {
            "args": [
             [
              "3-5"
             ],
             {
              "frame": {
               "duration": 0,
               "redraw": false
              },
              "fromcurrent": true,
              "mode": "immediate",
              "transition": {
               "duration": 0,
               "easing": "linear"
              }
             }
            ],
            "label": "3-5",
            "method": "animate"
           },
           {
            "args": [
             [
              "3-6"
             ],
             {
              "frame": {
               "duration": 0,
               "redraw": false
              },
              "fromcurrent": true,
              "mode": "immediate",
              "transition": {
               "duration": 0,
               "easing": "linear"
              }
             }
            ],
            "label": "3-6",
            "method": "animate"
           },
           {
            "args": [
             [
              "3-7"
             ],
             {
              "frame": {
               "duration": 0,
               "redraw": false
              },
              "fromcurrent": true,
              "mode": "immediate",
              "transition": {
               "duration": 0,
               "easing": "linear"
              }
             }
            ],
            "label": "3-7",
            "method": "animate"
           },
           {
            "args": [
             [
              "3-8"
             ],
             {
              "frame": {
               "duration": 0,
               "redraw": false
              },
              "fromcurrent": true,
              "mode": "immediate",
              "transition": {
               "duration": 0,
               "easing": "linear"
              }
             }
            ],
            "label": "3-8",
            "method": "animate"
           },
           {
            "args": [
             [
              "3-9"
             ],
             {
              "frame": {
               "duration": 0,
               "redraw": false
              },
              "fromcurrent": true,
              "mode": "immediate",
              "transition": {
               "duration": 0,
               "easing": "linear"
              }
             }
            ],
            "label": "3-9",
            "method": "animate"
           },
           {
            "args": [
             [
              "3-10"
             ],
             {
              "frame": {
               "duration": 0,
               "redraw": false
              },
              "fromcurrent": true,
              "mode": "immediate",
              "transition": {
               "duration": 0,
               "easing": "linear"
              }
             }
            ],
            "label": "3-10",
            "method": "animate"
           },
           {
            "args": [
             [
              "3-11"
             ],
             {
              "frame": {
               "duration": 0,
               "redraw": false
              },
              "fromcurrent": true,
              "mode": "immediate",
              "transition": {
               "duration": 0,
               "easing": "linear"
              }
             }
            ],
            "label": "3-11",
            "method": "animate"
           },
           {
            "args": [
             [
              "3-13"
             ],
             {
              "frame": {
               "duration": 0,
               "redraw": false
              },
              "fromcurrent": true,
              "mode": "immediate",
              "transition": {
               "duration": 0,
               "easing": "linear"
              }
             }
            ],
            "label": "3-13",
            "method": "animate"
           },
           {
            "args": [
             [
              "3-15"
             ],
             {
              "frame": {
               "duration": 0,
               "redraw": false
              },
              "fromcurrent": true,
              "mode": "immediate",
              "transition": {
               "duration": 0,
               "easing": "linear"
              }
             }
            ],
            "label": "3-15",
            "method": "animate"
           },
           {
            "args": [
             [
              "3-16"
             ],
             {
              "frame": {
               "duration": 0,
               "redraw": false
              },
              "fromcurrent": true,
              "mode": "immediate",
              "transition": {
               "duration": 0,
               "easing": "linear"
              }
             }
            ],
            "label": "3-16",
            "method": "animate"
           },
           {
            "args": [
             [
              "3-18"
             ],
             {
              "frame": {
               "duration": 0,
               "redraw": false
              },
              "fromcurrent": true,
              "mode": "immediate",
              "transition": {
               "duration": 0,
               "easing": "linear"
              }
             }
            ],
            "label": "3-18",
            "method": "animate"
           },
           {
            "args": [
             [
              "3-19"
             ],
             {
              "frame": {
               "duration": 0,
               "redraw": false
              },
              "fromcurrent": true,
              "mode": "immediate",
              "transition": {
               "duration": 0,
               "easing": "linear"
              }
             }
            ],
            "label": "3-19",
            "method": "animate"
           },
           {
            "args": [
             [
              "3-20"
             ],
             {
              "frame": {
               "duration": 0,
               "redraw": false
              },
              "fromcurrent": true,
              "mode": "immediate",
              "transition": {
               "duration": 0,
               "easing": "linear"
              }
             }
            ],
            "label": "3-20",
            "method": "animate"
           },
           {
            "args": [
             [
              "4-0"
             ],
             {
              "frame": {
               "duration": 0,
               "redraw": false
              },
              "fromcurrent": true,
              "mode": "immediate",
              "transition": {
               "duration": 0,
               "easing": "linear"
              }
             }
            ],
            "label": "4-0",
            "method": "animate"
           },
           {
            "args": [
             [
              "4-1"
             ],
             {
              "frame": {
               "duration": 0,
               "redraw": false
              },
              "fromcurrent": true,
              "mode": "immediate",
              "transition": {
               "duration": 0,
               "easing": "linear"
              }
             }
            ],
            "label": "4-1",
            "method": "animate"
           }
          ],
          "x": 0.1,
          "xanchor": "left",
          "y": 0,
          "yanchor": "top"
         }
        ],
        "template": {
         "data": {
          "bar": [
           {
            "error_x": {
             "color": "#2a3f5f"
            },
            "error_y": {
             "color": "#2a3f5f"
            },
            "marker": {
             "line": {
              "color": "#E5ECF6",
              "width": 0.5
             },
             "pattern": {
              "fillmode": "overlay",
              "size": 10,
              "solidity": 0.2
             }
            },
            "type": "bar"
           }
          ],
          "barpolar": [
           {
            "marker": {
             "line": {
              "color": "#E5ECF6",
              "width": 0.5
             },
             "pattern": {
              "fillmode": "overlay",
              "size": 10,
              "solidity": 0.2
             }
            },
            "type": "barpolar"
           }
          ],
          "carpet": [
           {
            "aaxis": {
             "endlinecolor": "#2a3f5f",
             "gridcolor": "white",
             "linecolor": "white",
             "minorgridcolor": "white",
             "startlinecolor": "#2a3f5f"
            },
            "baxis": {
             "endlinecolor": "#2a3f5f",
             "gridcolor": "white",
             "linecolor": "white",
             "minorgridcolor": "white",
             "startlinecolor": "#2a3f5f"
            },
            "type": "carpet"
           }
          ],
          "choropleth": [
           {
            "colorbar": {
             "outlinewidth": 0,
             "ticks": ""
            },
            "type": "choropleth"
           }
          ],
          "contour": [
           {
            "colorbar": {
             "outlinewidth": 0,
             "ticks": ""
            },
            "colorscale": [
             [
              0,
              "#0d0887"
             ],
             [
              0.1111111111111111,
              "#46039f"
             ],
             [
              0.2222222222222222,
              "#7201a8"
             ],
             [
              0.3333333333333333,
              "#9c179e"
             ],
             [
              0.4444444444444444,
              "#bd3786"
             ],
             [
              0.5555555555555556,
              "#d8576b"
             ],
             [
              0.6666666666666666,
              "#ed7953"
             ],
             [
              0.7777777777777778,
              "#fb9f3a"
             ],
             [
              0.8888888888888888,
              "#fdca26"
             ],
             [
              1,
              "#f0f921"
             ]
            ],
            "type": "contour"
           }
          ],
          "contourcarpet": [
           {
            "colorbar": {
             "outlinewidth": 0,
             "ticks": ""
            },
            "type": "contourcarpet"
           }
          ],
          "heatmap": [
           {
            "colorbar": {
             "outlinewidth": 0,
             "ticks": ""
            },
            "colorscale": [
             [
              0,
              "#0d0887"
             ],
             [
              0.1111111111111111,
              "#46039f"
             ],
             [
              0.2222222222222222,
              "#7201a8"
             ],
             [
              0.3333333333333333,
              "#9c179e"
             ],
             [
              0.4444444444444444,
              "#bd3786"
             ],
             [
              0.5555555555555556,
              "#d8576b"
             ],
             [
              0.6666666666666666,
              "#ed7953"
             ],
             [
              0.7777777777777778,
              "#fb9f3a"
             ],
             [
              0.8888888888888888,
              "#fdca26"
             ],
             [
              1,
              "#f0f921"
             ]
            ],
            "type": "heatmap"
           }
          ],
          "histogram": [
           {
            "marker": {
             "pattern": {
              "fillmode": "overlay",
              "size": 10,
              "solidity": 0.2
             }
            },
            "type": "histogram"
           }
          ],
          "histogram2d": [
           {
            "colorbar": {
             "outlinewidth": 0,
             "ticks": ""
            },
            "colorscale": [
             [
              0,
              "#0d0887"
             ],
             [
              0.1111111111111111,
              "#46039f"
             ],
             [
              0.2222222222222222,
              "#7201a8"
             ],
             [
              0.3333333333333333,
              "#9c179e"
             ],
             [
              0.4444444444444444,
              "#bd3786"
             ],
             [
              0.5555555555555556,
              "#d8576b"
             ],
             [
              0.6666666666666666,
              "#ed7953"
             ],
             [
              0.7777777777777778,
              "#fb9f3a"
             ],
             [
              0.8888888888888888,
              "#fdca26"
             ],
             [
              1,
              "#f0f921"
             ]
            ],
            "type": "histogram2d"
           }
          ],
          "histogram2dcontour": [
           {
            "colorbar": {
             "outlinewidth": 0,
             "ticks": ""
            },
            "colorscale": [
             [
              0,
              "#0d0887"
             ],
             [
              0.1111111111111111,
              "#46039f"
             ],
             [
              0.2222222222222222,
              "#7201a8"
             ],
             [
              0.3333333333333333,
              "#9c179e"
             ],
             [
              0.4444444444444444,
              "#bd3786"
             ],
             [
              0.5555555555555556,
              "#d8576b"
             ],
             [
              0.6666666666666666,
              "#ed7953"
             ],
             [
              0.7777777777777778,
              "#fb9f3a"
             ],
             [
              0.8888888888888888,
              "#fdca26"
             ],
             [
              1,
              "#f0f921"
             ]
            ],
            "type": "histogram2dcontour"
           }
          ],
          "mesh3d": [
           {
            "colorbar": {
             "outlinewidth": 0,
             "ticks": ""
            },
            "type": "mesh3d"
           }
          ],
          "parcoords": [
           {
            "line": {
             "colorbar": {
              "outlinewidth": 0,
              "ticks": ""
             }
            },
            "type": "parcoords"
           }
          ],
          "pie": [
           {
            "automargin": true,
            "type": "pie"
           }
          ],
          "scatter": [
           {
            "fillpattern": {
             "fillmode": "overlay",
             "size": 10,
             "solidity": 0.2
            },
            "type": "scatter"
           }
          ],
          "scatter3d": [
           {
            "line": {
             "colorbar": {
              "outlinewidth": 0,
              "ticks": ""
             }
            },
            "marker": {
             "colorbar": {
              "outlinewidth": 0,
              "ticks": ""
             }
            },
            "type": "scatter3d"
           }
          ],
          "scattercarpet": [
           {
            "marker": {
             "colorbar": {
              "outlinewidth": 0,
              "ticks": ""
             }
            },
            "type": "scattercarpet"
           }
          ],
          "scattergeo": [
           {
            "marker": {
             "colorbar": {
              "outlinewidth": 0,
              "ticks": ""
             }
            },
            "type": "scattergeo"
           }
          ],
          "scattergl": [
           {
            "marker": {
             "colorbar": {
              "outlinewidth": 0,
              "ticks": ""
             }
            },
            "type": "scattergl"
           }
          ],
          "scattermap": [
           {
            "marker": {
             "colorbar": {
              "outlinewidth": 0,
              "ticks": ""
             }
            },
            "type": "scattermap"
           }
          ],
          "scattermapbox": [
           {
            "marker": {
             "colorbar": {
              "outlinewidth": 0,
              "ticks": ""
             }
            },
            "type": "scattermapbox"
           }
          ],
          "scatterpolar": [
           {
            "marker": {
             "colorbar": {
              "outlinewidth": 0,
              "ticks": ""
             }
            },
            "type": "scatterpolar"
           }
          ],
          "scatterpolargl": [
           {
            "marker": {
             "colorbar": {
              "outlinewidth": 0,
              "ticks": ""
             }
            },
            "type": "scatterpolargl"
           }
          ],
          "scatterternary": [
           {
            "marker": {
             "colorbar": {
              "outlinewidth": 0,
              "ticks": ""
             }
            },
            "type": "scatterternary"
           }
          ],
          "surface": [
           {
            "colorbar": {
             "outlinewidth": 0,
             "ticks": ""
            },
            "colorscale": [
             [
              0,
              "#0d0887"
             ],
             [
              0.1111111111111111,
              "#46039f"
             ],
             [
              0.2222222222222222,
              "#7201a8"
             ],
             [
              0.3333333333333333,
              "#9c179e"
             ],
             [
              0.4444444444444444,
              "#bd3786"
             ],
             [
              0.5555555555555556,
              "#d8576b"
             ],
             [
              0.6666666666666666,
              "#ed7953"
             ],
             [
              0.7777777777777778,
              "#fb9f3a"
             ],
             [
              0.8888888888888888,
              "#fdca26"
             ],
             [
              1,
              "#f0f921"
             ]
            ],
            "type": "surface"
           }
          ],
          "table": [
           {
            "cells": {
             "fill": {
              "color": "#EBF0F8"
             },
             "line": {
              "color": "white"
             }
            },
            "header": {
             "fill": {
              "color": "#C8D4E3"
             },
             "line": {
              "color": "white"
             }
            },
            "type": "table"
           }
          ]
         },
         "layout": {
          "annotationdefaults": {
           "arrowcolor": "#2a3f5f",
           "arrowhead": 0,
           "arrowwidth": 1
          },
          "autotypenumbers": "strict",
          "coloraxis": {
           "colorbar": {
            "outlinewidth": 0,
            "ticks": ""
           }
          },
          "colorscale": {
           "diverging": [
            [
             0,
             "#8e0152"
            ],
            [
             0.1,
             "#c51b7d"
            ],
            [
             0.2,
             "#de77ae"
            ],
            [
             0.3,
             "#f1b6da"
            ],
            [
             0.4,
             "#fde0ef"
            ],
            [
             0.5,
             "#f7f7f7"
            ],
            [
             0.6,
             "#e6f5d0"
            ],
            [
             0.7,
             "#b8e186"
            ],
            [
             0.8,
             "#7fbc41"
            ],
            [
             0.9,
             "#4d9221"
            ],
            [
             1,
             "#276419"
            ]
           ],
           "sequential": [
            [
             0,
             "#0d0887"
            ],
            [
             0.1111111111111111,
             "#46039f"
            ],
            [
             0.2222222222222222,
             "#7201a8"
            ],
            [
             0.3333333333333333,
             "#9c179e"
            ],
            [
             0.4444444444444444,
             "#bd3786"
            ],
            [
             0.5555555555555556,
             "#d8576b"
            ],
            [
             0.6666666666666666,
             "#ed7953"
            ],
            [
             0.7777777777777778,
             "#fb9f3a"
            ],
            [
             0.8888888888888888,
             "#fdca26"
            ],
            [
             1,
             "#f0f921"
            ]
           ],
           "sequentialminus": [
            [
             0,
             "#0d0887"
            ],
            [
             0.1111111111111111,
             "#46039f"
            ],
            [
             0.2222222222222222,
             "#7201a8"
            ],
            [
             0.3333333333333333,
             "#9c179e"
            ],
            [
             0.4444444444444444,
             "#bd3786"
            ],
            [
             0.5555555555555556,
             "#d8576b"
            ],
            [
             0.6666666666666666,
             "#ed7953"
            ],
            [
             0.7777777777777778,
             "#fb9f3a"
            ],
            [
             0.8888888888888888,
             "#fdca26"
            ],
            [
             1,
             "#f0f921"
            ]
           ]
          },
          "colorway": [
           "#636efa",
           "#EF553B",
           "#00cc96",
           "#ab63fa",
           "#FFA15A",
           "#19d3f3",
           "#FF6692",
           "#B6E880",
           "#FF97FF",
           "#FECB52"
          ],
          "font": {
           "color": "#2a3f5f"
          },
          "geo": {
           "bgcolor": "white",
           "lakecolor": "white",
           "landcolor": "#E5ECF6",
           "showlakes": true,
           "showland": true,
           "subunitcolor": "white"
          },
          "hoverlabel": {
           "align": "left"
          },
          "hovermode": "closest",
          "mapbox": {
           "style": "light"
          },
          "paper_bgcolor": "white",
          "plot_bgcolor": "#E5ECF6",
          "polar": {
           "angularaxis": {
            "gridcolor": "white",
            "linecolor": "white",
            "ticks": ""
           },
           "bgcolor": "#E5ECF6",
           "radialaxis": {
            "gridcolor": "white",
            "linecolor": "white",
            "ticks": ""
           }
          },
          "scene": {
           "xaxis": {
            "backgroundcolor": "#E5ECF6",
            "gridcolor": "white",
            "gridwidth": 2,
            "linecolor": "white",
            "showbackground": true,
            "ticks": "",
            "zerolinecolor": "white"
           },
           "yaxis": {
            "backgroundcolor": "#E5ECF6",
            "gridcolor": "white",
            "gridwidth": 2,
            "linecolor": "white",
            "showbackground": true,
            "ticks": "",
            "zerolinecolor": "white"
           },
           "zaxis": {
            "backgroundcolor": "#E5ECF6",
            "gridcolor": "white",
            "gridwidth": 2,
            "linecolor": "white",
            "showbackground": true,
            "ticks": "",
            "zerolinecolor": "white"
           }
          },
          "shapedefaults": {
           "line": {
            "color": "#2a3f5f"
           }
          },
          "ternary": {
           "aaxis": {
            "gridcolor": "white",
            "linecolor": "white",
            "ticks": ""
           },
           "baxis": {
            "gridcolor": "white",
            "linecolor": "white",
            "ticks": ""
           },
           "bgcolor": "#E5ECF6",
           "caxis": {
            "gridcolor": "white",
            "linecolor": "white",
            "ticks": ""
           }
          },
          "title": {
           "x": 0.05
          },
          "xaxis": {
           "automargin": true,
           "gridcolor": "white",
           "linecolor": "white",
           "ticks": "",
           "title": {
            "standoff": 15
           },
           "zerolinecolor": "white",
           "zerolinewidth": 2
          },
          "yaxis": {
           "automargin": true,
           "gridcolor": "white",
           "linecolor": "white",
           "ticks": "",
           "title": {
            "standoff": 15
           },
           "zerolinecolor": "white",
           "zerolinewidth": 2
          }
         }
        },
        "title": {
         "text": "Event Locations for Game 2024010008"
        },
        "updatemenus": [
         {
          "buttons": [
           {
            "args": [
             null,
             {
              "frame": {
               "duration": 500,
               "redraw": false
              },
              "fromcurrent": true,
              "mode": "immediate",
              "transition": {
               "duration": 500,
               "easing": "linear"
              }
             }
            ],
            "label": "&#9654;",
            "method": "animate"
           },
           {
            "args": [
             [
              null
             ],
             {
              "frame": {
               "duration": 0,
               "redraw": false
              },
              "fromcurrent": true,
              "mode": "immediate",
              "transition": {
               "duration": 0,
               "easing": "linear"
              }
             }
            ],
            "label": "&#9724;",
            "method": "animate"
           }
          ],
          "direction": "left",
          "pad": {
           "r": 10,
           "t": 70
          },
          "showactive": false,
          "type": "buttons",
          "x": 0.1,
          "xanchor": "right",
          "y": 0,
          "yanchor": "top"
         }
        ],
        "width": 900,
        "xaxis": {
         "anchor": "y",
         "domain": [
          0,
          1
         ],
         "title": {
          "text": "X Coordinate"
         }
        },
        "yaxis": {
         "anchor": "x",
         "domain": [
          0,
          1
         ],
         "title": {
          "text": "Y Coordinate"
         }
        }
       }
      }
     },
     "metadata": {},
     "output_type": "display_data"
    }
   ],
   "source": [
    "import plotly.express as px\n",
    "\n",
    "# Filter out rows with missing zone_code if needed\n",
    "filtered_df = events_df[events_df['zone_code'].notnull()]\n",
    "filtered_df = filtered_df[~filtered_df['type_desc_key'].isin(['stoppage', 'faceoff'])]\n",
    "\n",
    "# Create a descriptive hover text for each event\n",
    "filtered_df['hover_text'] = (\n",
    "    \"Type: \" + filtered_df['type_desc_key'] +\n",
    "    \"<br>Period: \" + filtered_df['period_number'].astype(str) +\n",
    "    \"<br>Time: \" + filtered_df['time_in_period'].astype(str)\n",
    "    # Add more fields as needed\n",
    ")\n",
    "\n",
    "# Sort by period_number (ascending) and time_in_period (ascending)\n",
    "filtered_df = filtered_df.sort_values(['period_number', 'time_in_period'])\n",
    "\n",
    "# Create the event_time column after sorting\n",
    "filtered_df['event_time'] = (\n",
    "    filtered_df['period_number'].astype(str) + '-' + filtered_df['time_in_period'].astype(str)\n",
    ")\n",
    "\n",
    "# (Plotting code remains the same)\n",
    "def time_str_to_minute(time_str):\n",
    "    try:\n",
    "        minutes, seconds = map(int, time_str.split(':'))\n",
    "        return minutes  # Use minutes only for frame\n",
    "    except Exception:\n",
    "        return 0  # Fallback for malformed strings\n",
    "\n",
    "filtered_df['minute'] = filtered_df['time_in_period'].apply(time_str_to_minute)\n",
    "filtered_df['frame'] = filtered_df['period_number'].astype(str) + '-' + filtered_df['minute'].astype(str)\n",
    "fig = px.scatter(\n",
    "    filtered_df,\n",
    "    x='x_coord',\n",
    "    y='y_coord',\n",
    "    color='type_desc_key',\n",
    "    hover_name='type_desc_key',\n",
    "    hover_data={'hover_text': True, 'x_coord': False, 'y_coord': False},\n",
    "    labels={'x_coord': 'X Coordinate', 'y_coord': 'Y Coordinate'},\n",
    "    title='Event Locations for Game 2024010008',\n",
    "    animation_frame='frame',\n",
    "    animation_group='type_desc_key'\n",
    ")\n",
    "\n",
    "fig.update_traces(\n",
    "    hovertemplate='%{customdata[0]}<extra></extra>',\n",
    "    customdata=filtered_df[['hover_text']]\n",
    ")\n",
    "\n",
    "fig.update_layout(\n",
    "    legend_title_text='Event Type',\n",
    "    width=900,\n",
    "    height=600\n",
    ")\n",
    "\n",
    "fig.show()"
   ]
  },
  {
   "cell_type": "code",
   "execution_count": 4,
   "id": "8b5d7c68",
   "metadata": {},
   "outputs": [],
   "source": [
    "cursor.execute('''\n",
    "    SELECT * FROM games\n",
    "    WHERE game_id = 2024010008\n",
    "''')\n",
    "\n",
    "c = cursor.fetchall()"
   ]
  },
  {
   "cell_type": "code",
   "execution_count": 6,
   "id": "c737115a",
   "metadata": {},
   "outputs": [
    {
     "name": "stdout",
     "output_type": "stream",
     "text": [
      "Details for table events:\n",
      "  - event_id: int\n",
      "  - game_id: bigint\n",
      "  - period_number: int\n",
      "  - period_type: varchar(10)\n",
      "  - time_in_period: varchar(10)\n",
      "  - time_remaining: varchar(10)\n",
      "  - situation_code: varchar(10)\n",
      "  - home_team_defending_side: varchar(10)\n",
      "  - type_code: int\n",
      "  - type_desc_key: varchar(50)\n",
      "  - sort_order: int\n",
      "  - x_coord: int\n",
      "  - y_coord: int\n",
      "  - zone_code: varchar(5)\n",
      "  - shot_type: varchar(20)\n",
      "  - blocking_Player_id: int\n",
      "  - shooting_player_id: int\n",
      "  - goalie_in_net_id: int\n",
      "  - player_id: int\n",
      "  - event_owner_team_id: int\n",
      "  - away_sog: int\n",
      "  - home_sog: int\n",
      "  - hitting_player_id: int\n",
      "  - hittee_player_id: int\n",
      "  - reason: varchar(255)\n",
      "  - secondary_reason: varchar(255)\n",
      "  - losing_player_id: int\n",
      "  - winning_player_id: int\n",
      "\n",
      "Details for table games:\n",
      "  - game_id: int\n",
      "  - season_id: int\n",
      "  - game_type: int\n",
      "  - date: date\n",
      "  - home_team_id: int\n",
      "  - away_team_id: int\n",
      "  - home_score: int\n",
      "  - away_score: int\n",
      "  - game_outcome: varchar(255)\n",
      "  - winning_goalie_id: int\n",
      "  - winning_goal_scorer_id: int\n",
      "  - series_status_round: int\n",
      "\n",
      "Details for table players:\n",
      "  - player_id: int\n",
      "  - skaterFullName: varchar(255)\n",
      "  - birth_date: date\n",
      "  - birth_city: varchar(255)\n",
      "  - birth_country: varchar(255)\n",
      "  - positionCode: varchar(10)\n",
      "  - shootsCatches: varchar(5)\n",
      "  - games_played: int\n",
      "  - total_assists: int\n",
      "  - total_goals: int\n",
      "  - total_points: int\n",
      "  - total_penalty_minutes: int\n",
      "  - total_games_played: int\n",
      "  - total_plus_minus: int\n",
      "\n",
      "Details for table players_season:\n",
      "  - assists: int\n",
      "  - ev_goals: int\n",
      "  - ev_points: int\n",
      "  - faceoff_win_pct: float\n",
      "  - game_winning_goals: int\n",
      "  - games_played: int\n",
      "  - goals: int\n",
      "  - last_name: varchar(255)\n",
      "  - ot_goals: int\n",
      "  - penalty_minutes: int\n",
      "  - player_id: int\n",
      "  - plus_minus: int\n",
      "  - points: int\n",
      "  - points_per_game: float\n",
      "  - position_code: varchar(10)\n",
      "  - pp_goals: int\n",
      "  - pp_points: int\n",
      "  - season_id: int\n",
      "  - sh_goals: int\n",
      "  - sh_points: int\n",
      "  - shooting_percentage: float\n",
      "  - shoots_catches: varchar(5)\n",
      "  - shots: int\n",
      "  - skater_full_name: varchar(255)\n",
      "  - team_abbreviations: varchar(100)\n",
      "  - time_on_ice_per_game: float\n",
      "\n",
      "Details for table roster_players:\n",
      "  - player_id: int\n",
      "  - team_id: int\n",
      "  - season_id: int\n",
      "  - firstName: varchar(255)\n",
      "  - lastName: varchar(255)\n",
      "  - sweaterNumber: int\n",
      "  - positionCode: varchar(10)\n",
      "  - shootsCatches: varchar(5)\n",
      "  - heightInInches: int\n",
      "  - weightInPounds: int\n",
      "  - heightInCentimeters: int\n",
      "  - weightInKilograms: int\n",
      "  - birthDate: date\n",
      "  - birthCity: varchar(255)\n",
      "  - birthCountry: varchar(255)\n",
      "\n",
      "Details for table seasons:\n",
      "  - season_id: int\n",
      "  - start_year: int\n",
      "  - end_year: int\n",
      "\n",
      "Details for table seasons_end_standings:\n",
      "  - season_id: int\n",
      "  - team_id: int\n",
      "  - wins: int\n",
      "  - losses: int\n",
      "  - ot_losses: int\n",
      "  - points: int\n",
      "  - games_played: int\n",
      "  - goals_for: int\n",
      "  - goals_against: int\n",
      "  - preseason_wins: int\n",
      "  - preseason_losses: int\n",
      "  - preseason_ot_losses: int\n",
      "  - preseason_goals_for: int\n",
      "  - preseason_goals_against: int\n",
      "  - preseason_games_played: int\n",
      "  - playoff_wins: int\n",
      "  - playoff_losses: int\n",
      "  - playoff_ot_losses: int\n",
      "  - playoff_goals_for: int\n",
      "  - playoff_goals_against: int\n",
      "  - playoff_games_played: int\n",
      "  - conference_name: varchar(100)\n",
      "  - division_name: varchar(100)\n",
      "\n",
      "Details for table teams:\n",
      "  - team_id: int\n",
      "  - team_name: varchar(255)\n",
      "  - team_abbreviation: varchar(10)\n",
      "  - logo_path: varchar(255)\n",
      "\n"
     ]
    }
   ],
   "source": [
    "#get structure of sql database and tables and show details\n",
    "\n",
    "\n",
    "\n",
    "# Show details for each table\n",
    "for table in tables:\n",
    "    cursor.execute(f\"DESCRIBE {table[0]}\")\n",
    "    columns = cursor.fetchall()\n",
    "    print(f\"Details for table {table[0]}:\")\n",
    "    for column in columns:\n",
    "        print(f\"  - {column[0]}: {column[1]}\")\n",
    "    print()"
   ]
  },
  {
   "cell_type": "markdown",
   "id": "1635bb23",
   "metadata": {},
   "source": [
    "## 5. Experimental Section\n",
    "\n",
    "Use this section to write and test your own custom queries and analysis. This is your playground to tinker with the data!"
   ]
  },
  {
   "cell_type": "code",
   "execution_count": null,
   "id": "e09a1070",
   "metadata": {},
   "outputs": [],
   "source": [
    "# Your experimental code goes here!\n",
    "# Try different queries, create custom visualizations, or perform statistical analysis\n",
    "\n",
    "# Example: Custom query\n",
    "# my_query = \"\"\"\n",
    "# SELECT your_columns\n",
    "# FROM your_table\n",
    "# WHERE your_conditions\n",
    "# \"\"\"\n",
    "# my_data = query_to_df(my_query)\n",
    "# display(my_data)\n",
    "\n",
    "# Example: Custom visualization\n",
    "# your_viz_code_here\n",
    "\n",
    "print(\"Ready for experimentation! Write your custom code above.\")"
   ]
  },
  {
   "cell_type": "markdown",
   "id": "d609960a",
   "metadata": {},
   "source": [
    "## 6. Clean Up\n",
    "\n",
    "Don't forget to close your database connection when you're done!"
   ]
  },
  {
   "cell_type": "code",
   "execution_count": null,
   "id": "11c9f14c",
   "metadata": {},
   "outputs": [],
   "source": [
    "# Close database connection\n",
    "try:\n",
    "    if cursor:\n",
    "        cursor.close()\n",
    "    if connection:\n",
    "        connection.close()\n",
    "    print(\"Database connection closed successfully\")\n",
    "except:\n",
    "    print(\"No active connection to close\")"
   ]
  }
 ],
 "metadata": {
  "kernelspec": {
   "display_name": "3.11.5",
   "language": "python",
   "name": "python3"
  },
  "language_info": {
   "codemirror_mode": {
    "name": "ipython",
    "version": 3
   },
   "file_extension": ".py",
   "mimetype": "text/x-python",
   "name": "python",
   "nbconvert_exporter": "python",
   "pygments_lexer": "ipython3",
   "version": "3.11.5"
  }
 },
 "nbformat": 4,
 "nbformat_minor": 5
}
