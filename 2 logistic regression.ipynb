{
 "cells": [
  {
   "cell_type": "code",
   "execution_count": null,
   "id": "02ab3434",
   "metadata": {},
   "outputs": [],
   "source": [
    "# Import required libraries\n",
    "import mysql.connector\n",
    "import pandas as pd\n",
    "import numpy as np\n",
    "import matplotlib.pyplot as plt\n",
    "import seaborn as sns\n",
    "import plotly.express as px\n",
    "import plotly.graph_objects as go\n",
    "from config import db_config\n",
    "from plotly.subplots import make_subplots\n",
    "import warnings\n",
    "import ipywidgets as widgets\n",
    "from IPython.display import display\n",
    "from dash import Dash, html, dcc, Input, Output\n",
    "import dash_bootstrap_components as dbc\n",
    "\n",
    "\n",
    "# Configure display options\n",
    "pd.set_option('display.max_columns', None)\n",
    "pd.set_option('display.width', None)\n",
    "warnings.filterwarnings('ignore')\n",
    "\n",
    "# Set plotting style (using default instead of seaborn-v0_8 to avoid crash)\n",
    "plt.style.use('default')\n",
    "sns.set_palette(\"husl\")\n",
    "\n",
    "print(\"Libraries imported successfully!\")"
   ]
  },
  {
   "cell_type": "code",
   "execution_count": null,
   "id": "19d3fe40",
   "metadata": {},
   "outputs": [],
   "source": [
    "# Establish connection\n",
    "connection = mysql.connector.connect(\n",
    "    host=db_config[\"host\"],\n",
    "    user=db_config[\"user\"],\n",
    "    password=db_config[\"password\"],\n",
    "    database=db_config[\"database\"]\n",
    ")\n",
    "cursor = connection.cursor()"
   ]
  },
  {
   "cell_type": "code",
   "execution_count": null,
   "id": "e87655a2",
   "metadata": {},
   "outputs": [],
   "source": [
    "teams_dict = {\n",
    "    'team_id': [1, 2, 3, 4, 5, 6, 7, 8, 9, 10, 11, 12, 13, 14, 15, 16, 17, 18, 19, 20, 21, 22, 23, 24, 25, 26, 27, 28, 29, 30, 31, 32, 33, 34, 35, 46, 47, 48, 49, 52, 53, 54, 55, 56, 59, 68],\n",
    "    'team_name': ['New Jersey Devils', 'New York Islanders', 'New York Rangers', 'Philadelphia Flyers', 'Pittsburgh Penguins', 'Boston Bruins', 'Buffalo Sabres', 'Montreal Canadiens', 'Ottawa Senators', 'Toronto Maple Leafs', 'Atlanta Thrashers', 'Carolina Hurricanes', 'Florida Panthers', 'Tampa Bay Lightning', 'Washington Capitals', 'Chicago Blackhawks', 'Detroit Red Wings', 'Nashville Predators', 'St Louis Blues', 'Calgary Flames', 'Colorado Avalanche', 'Edmonton Oilers', 'Vancouver Canucks', 'Anaheim Ducks', 'Dallas Stars', 'Los Angeles Kings', 'Pheonix Coyotes', 'San Jose Sharks', 'Columbus Blue Jackets', 'Minnesota Wild', 'Minnesota North Stars', 'Quebec Nordique', 'Winnipeg Jets (1979)', 'Hartford Whalers', 'Colorado Rockies', 'Oakland Seals', 'Atlanta Flames', 'Kansas City Scouts', 'Cleveland Barons', 'Winnipeg Jets', 'Arizona Coyotes', 'Vegas Golden Knights', 'Seattle Kraken', 'California Golden Seals', 'Utah Hockey Club', 'Utah Mammoth'],\n",
    "    'team_abbreviation': ['NJD', 'NYI', 'NYR', 'PHI', 'PIT', 'BOS', 'BUF', 'MTL', 'OTT', 'TOR', 'ATL', 'CAR', 'FLA', 'TBL', 'WSH', 'CHI', 'DET', 'NSH', 'STL', 'CGY', 'COL', 'EDM', 'VAN', 'ANA', 'DAL', 'LAK', 'PHX', 'SJS', 'CBJ', 'MIN', 'MNS', 'QUE', 'WIN', 'HFD', 'CLR', 'OAK', 'AFM', 'KCS', 'CLE', 'WPG', 'ARI', 'VGK', 'SEA', 'CGS', 'UTA', 'UTA']\n",
    "}"
   ]
  },
  {
   "cell_type": "code",
   "execution_count": null,
   "id": "c4de5aed",
   "metadata": {},
   "outputs": [],
   "source": [
    "cursor.execute('''\n",
    "    SELECT * FROM games\n",
    "    WHERE season_id = 20242025\n",
    "''')\n",
    "\n",
    "games = cursor.fetchall()\n",
    "\n",
    "#for each game_id in games, get all events\n",
    "game_ids = [game[0] for game in games]\n",
    "\n",
    "cursor.execute('''\n",
    "    SELECT * FROM events\n",
    "    WHERE game_id IN (%s)\n",
    "    AND type_desc_key = 'shot-on-goal'\n",
    "''' % ','.join(map(str, game_ids)))\n",
    "\n",
    "events = cursor.fetchall()\n",
    "\n",
    "headers = [col[0] for col in cursor.description]    # column names\n",
    "events_df = pd.DataFrame(events, columns=headers)\n",
    "\n",
    "print(events_df[['x_coord', 'y_coord']].describe())"
   ]
  },
  {
   "cell_type": "code",
   "execution_count": null,
   "id": "00935540",
   "metadata": {},
   "outputs": [],
   "source": [
    "#adjust x_coord and y_coord to be positive\n",
    "events_df['x_coord'] = events_df['x_coord'].abs()\n"
   ]
  }
 ],
 "metadata": {
  "language_info": {
   "name": "python"
  }
 },
 "nbformat": 4,
 "nbformat_minor": 5
}
